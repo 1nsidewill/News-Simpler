{
 "cells": [
  {
   "cell_type": "markdown",
   "metadata": {},
   "source": [
    "# Import"
   ]
  },
  {
   "cell_type": "markdown",
   "metadata": {},
   "source": [
    "## Import library"
   ]
  },
  {
   "cell_type": "code",
   "execution_count": 1,
   "metadata": {},
   "outputs": [],
   "source": [
    "import os\n",
    "import sys\n",
    "import warnings\n",
    "from tqdm import tqdm_notebook as tqdm \n",
    "\n",
    "import numpy as np\n",
    "import pandas as pd\n",
    "\n",
    "# 데이터 시각화\n",
    "import matplotlib.pyplot as plt\n",
    "%matplotlib inline\n",
    "import seaborn as sns\n",
    "sns.set(style='white', context='notebook', palette='deep')\n",
    "\n",
    "warnings.filterwarnings(action='ignore')\n",
    "warnings.filterwarnings(\"ignore\", category=DeprecationWarning)"
   ]
  },
  {
   "cell_type": "code",
   "execution_count": 2,
   "metadata": {},
   "outputs": [
    {
     "name": "stdout",
     "output_type": "stream",
     "text": [
      "C:\\Users\\lime1\\Documents\\study\\Python\\project/data\n"
     ]
    }
   ],
   "source": [
    "# 현재 jupyter 위치를 PROJECT_DIR 추가\n",
    "PROJECT_DIR = os.path.abspath(os.path.join(os.path.realpath('__file__'), '..'))\n",
    "sys.path.insert(0, PROJECT_DIR)\n",
    "DATA_DIR = PROJECT_DIR + '/data' # 데이터 위치 \n",
    "print(DATA_DIR)"
   ]
  },
  {
   "cell_type": "markdown",
   "metadata": {},
   "source": [
    "## import"
   ]
  },
  {
   "cell_type": "markdown",
   "metadata": {},
   "source": [
    "네이버 뉴스에서 크롤링한 뉴스데이터 엑셀파일을 사용하고자 합니다.  \n",
    "- 'BTS' 또는 '방탄소년단'에 관한 2020년 전체 네이버 뉴스"
   ]
  },
  {
   "cell_type": "code",
   "execution_count": 3,
   "metadata": {},
   "outputs": [
    {
     "data": {
      "text/html": [
       "<div>\n",
       "<style scoped>\n",
       "    .dataframe tbody tr th:only-of-type {\n",
       "        vertical-align: middle;\n",
       "    }\n",
       "\n",
       "    .dataframe tbody tr th {\n",
       "        vertical-align: top;\n",
       "    }\n",
       "\n",
       "    .dataframe thead th {\n",
       "        text-align: right;\n",
       "    }\n",
       "</style>\n",
       "<table border=\"1\" class=\"dataframe\">\n",
       "  <thead>\n",
       "    <tr style=\"text-align: right;\">\n",
       "      <th></th>\n",
       "      <th>media</th>\n",
       "      <th>date</th>\n",
       "      <th>title</th>\n",
       "      <th>article_original</th>\n",
       "      <th>url</th>\n",
       "    </tr>\n",
       "  </thead>\n",
       "  <tbody>\n",
       "    <tr>\n",
       "      <th>0</th>\n",
       "      <td>조선일보</td>\n",
       "      <td>2020-01-02</td>\n",
       "      <td>150만명 몰린  타임스스퀘어 새해 무대도 BTS</td>\n",
       "      <td>2012년 싸이에 이어 두 번째… ABC방송 라이브 쇼에서 생중계\\n \\n\\n\\n\\...</td>\n",
       "      <td>https://news.naver.com/main/read.nhn?mode=LSD&amp;...</td>\n",
       "    </tr>\n",
       "    <tr>\n",
       "      <th>1</th>\n",
       "      <td>조선일보</td>\n",
       "      <td>2020-01-02</td>\n",
       "      <td>방탄소년단 CNN 선정 2010년대 음악 변화시킨 아티스트</td>\n",
       "      <td>방탄소년단 BTS 이 미국 CNN 선정 2010년대 음악을 변화시킨 10대 아티스트...</td>\n",
       "      <td>https://news.naver.com/main/read.nhn?mode=LSD&amp;...</td>\n",
       "    </tr>\n",
       "  </tbody>\n",
       "</table>\n",
       "</div>"
      ],
      "text/plain": [
       "  media        date                             title  \\\n",
       "0  조선일보  2020-01-02       150만명 몰린  타임스스퀘어 새해 무대도 BTS   \n",
       "1  조선일보  2020-01-02  방탄소년단 CNN 선정 2010년대 음악 변화시킨 아티스트   \n",
       "\n",
       "                                    article_original  \\\n",
       "0  2012년 싸이에 이어 두 번째… ABC방송 라이브 쇼에서 생중계\\n \\n\\n\\n\\...   \n",
       "1  방탄소년단 BTS 이 미국 CNN 선정 2010년대 음악을 변화시킨 10대 아티스트...   \n",
       "\n",
       "                                                 url  \n",
       "0  https://news.naver.com/main/read.nhn?mode=LSD&...  \n",
       "1  https://news.naver.com/main/read.nhn?mode=LSD&...  "
      ]
     },
     "execution_count": 3,
     "metadata": {},
     "output_type": "execute_result"
    }
   ],
   "source": [
    "data_df = pd.read_excel(DATA_DIR +'/news_df_210205_v03.xlsx')\n",
    "data_df.head(2)"
   ]
  },
  {
   "cell_type": "markdown",
   "metadata": {},
   "source": [
    "데이터는 media, date, title, article_original, url로 구성되어 있습니다."
   ]
  },
  {
   "cell_type": "markdown",
   "metadata": {},
   "source": [
    "# EDA"
   ]
  },
  {
   "cell_type": "markdown",
   "metadata": {},
   "source": [
    "## 데이터 파일 확인"
   ]
  },
  {
   "cell_type": "code",
   "execution_count": 4,
   "metadata": {},
   "outputs": [
    {
     "name": "stdout",
     "output_type": "stream",
     "text": [
      "<class 'pandas.core.frame.DataFrame'>\n",
      "RangeIndex: 871 entries, 0 to 870\n",
      "Data columns (total 5 columns):\n",
      " #   Column            Non-Null Count  Dtype \n",
      "---  ------            --------------  ----- \n",
      " 0   media             871 non-null    object\n",
      " 1   date              871 non-null    object\n",
      " 2   title             871 non-null    object\n",
      " 3   article_original  863 non-null    object\n",
      " 4   url               871 non-null    object\n",
      "dtypes: object(5)\n",
      "memory usage: 34.1+ KB\n"
     ]
    }
   ],
   "source": [
    "data_df.info()"
   ]
  },
  {
   "cell_type": "markdown",
   "metadata": {},
   "source": [
    "article_original에 None이 존재합니다."
   ]
  },
  {
   "cell_type": "code",
   "execution_count": 5,
   "metadata": {},
   "outputs": [
    {
     "name": "stdout",
     "output_type": "stream",
     "text": [
      "article_orginal --- None 개수:  8\n"
     ]
    },
    {
     "data": {
      "text/html": [
       "<div>\n",
       "<style scoped>\n",
       "    .dataframe tbody tr th:only-of-type {\n",
       "        vertical-align: middle;\n",
       "    }\n",
       "\n",
       "    .dataframe tbody tr th {\n",
       "        vertical-align: top;\n",
       "    }\n",
       "\n",
       "    .dataframe thead th {\n",
       "        text-align: right;\n",
       "    }\n",
       "</style>\n",
       "<table border=\"1\" class=\"dataframe\">\n",
       "  <thead>\n",
       "    <tr style=\"text-align: right;\">\n",
       "      <th></th>\n",
       "      <th>media</th>\n",
       "      <th>date</th>\n",
       "      <th>title</th>\n",
       "      <th>article_original</th>\n",
       "      <th>url</th>\n",
       "    </tr>\n",
       "  </thead>\n",
       "  <tbody>\n",
       "    <tr>\n",
       "      <th>167</th>\n",
       "      <td>중앙일보</td>\n",
       "      <td>2020-03-22</td>\n",
       "      <td>민기자야 BTS 기사 쓴 기자가 직접 자기 기사 댓글 읽었다</td>\n",
       "      <td>NaN</td>\n",
       "      <td>https://news.naver.com/main/read.nhn?mode=LSD&amp;...</td>\n",
       "    </tr>\n",
       "    <tr>\n",
       "      <th>221</th>\n",
       "      <td>조선일보</td>\n",
       "      <td>2020-05-15</td>\n",
       "      <td>사진 BTS RM이 남긴 미술관 방명록쉽지 않은 시기 같이 이겨내요</td>\n",
       "      <td>NaN</td>\n",
       "      <td>https://news.naver.com/main/read.nhn?mode=LSD&amp;...</td>\n",
       "    </tr>\n",
       "    <tr>\n",
       "      <th>415</th>\n",
       "      <td>한겨레</td>\n",
       "      <td>2020-09-02</td>\n",
       "      <td>영상 BTS 빌보드 핫 100 1위온라인 글로벌 기자간담회</td>\n",
       "      <td>NaN</td>\n",
       "      <td>https://news.naver.com/main/read.nhn?mode=LSD&amp;...</td>\n",
       "    </tr>\n",
       "    <tr>\n",
       "      <th>417</th>\n",
       "      <td>경향신문</td>\n",
       "      <td>2020-09-02</td>\n",
       "      <td>BTS Makes It over the Final Billboard Threshold</td>\n",
       "      <td>NaN</td>\n",
       "      <td>https://news.naver.com/main/read.nhn?mode=LSD&amp;...</td>\n",
       "    </tr>\n",
       "    <tr>\n",
       "      <th>675</th>\n",
       "      <td>한겨레</td>\n",
       "      <td>2020-10-14</td>\n",
       "      <td>BTS 소속사의 주식 상장이 논란에 싸인 이유 간단정리 공모주 내손안의Q 19</td>\n",
       "      <td>NaN</td>\n",
       "      <td>https://news.naver.com/main/read.nhn?mode=LSD&amp;...</td>\n",
       "    </tr>\n",
       "    <tr>\n",
       "      <th>678</th>\n",
       "      <td>경향신문</td>\n",
       "      <td>2020-10-14</td>\n",
       "      <td>Will BTS Be Allowed to Postpone Enrollment Mil...</td>\n",
       "      <td>NaN</td>\n",
       "      <td>https://news.naver.com/main/read.nhn?mode=LSD&amp;...</td>\n",
       "    </tr>\n",
       "    <tr>\n",
       "      <th>738</th>\n",
       "      <td>중앙일보</td>\n",
       "      <td>2020-11-02</td>\n",
       "      <td>Hot Poll 방탄소년단 병역특례에 대한 중앙일보 온라인 핫 폴 결과</td>\n",
       "      <td>NaN</td>\n",
       "      <td>https://news.naver.com/main/read.nhn?mode=LSD&amp;...</td>\n",
       "    </tr>\n",
       "    <tr>\n",
       "      <th>774</th>\n",
       "      <td>경향신문</td>\n",
       "      <td>2020-11-20</td>\n",
       "      <td>불행했지만 행복했던 한해 좌절 이겨낸 힘은 멤버들 BTS 글로벌 기자간담회 일문일답</td>\n",
       "      <td>NaN</td>\n",
       "      <td>https://news.naver.com/main/read.nhn?mode=LSD&amp;...</td>\n",
       "    </tr>\n",
       "  </tbody>\n",
       "</table>\n",
       "</div>"
      ],
      "text/plain": [
       "    media        date                                              title  \\\n",
       "167  중앙일보  2020-03-22                  민기자야 BTS 기사 쓴 기자가 직접 자기 기사 댓글 읽었다   \n",
       "221  조선일보  2020-05-15              사진 BTS RM이 남긴 미술관 방명록쉽지 않은 시기 같이 이겨내요   \n",
       "415   한겨레  2020-09-02                   영상 BTS 빌보드 핫 100 1위온라인 글로벌 기자간담회   \n",
       "417  경향신문  2020-09-02    BTS Makes It over the Final Billboard Threshold   \n",
       "675   한겨레  2020-10-14        BTS 소속사의 주식 상장이 논란에 싸인 이유 간단정리 공모주 내손안의Q 19   \n",
       "678  경향신문  2020-10-14  Will BTS Be Allowed to Postpone Enrollment Mil...   \n",
       "738  중앙일보  2020-11-02            Hot Poll 방탄소년단 병역특례에 대한 중앙일보 온라인 핫 폴 결과   \n",
       "774  경향신문  2020-11-20     불행했지만 행복했던 한해 좌절 이겨낸 힘은 멤버들 BTS 글로벌 기자간담회 일문일답   \n",
       "\n",
       "    article_original                                                url  \n",
       "167              NaN  https://news.naver.com/main/read.nhn?mode=LSD&...  \n",
       "221              NaN  https://news.naver.com/main/read.nhn?mode=LSD&...  \n",
       "415              NaN  https://news.naver.com/main/read.nhn?mode=LSD&...  \n",
       "417              NaN  https://news.naver.com/main/read.nhn?mode=LSD&...  \n",
       "675              NaN  https://news.naver.com/main/read.nhn?mode=LSD&...  \n",
       "678              NaN  https://news.naver.com/main/read.nhn?mode=LSD&...  \n",
       "738              NaN  https://news.naver.com/main/read.nhn?mode=LSD&...  \n",
       "774              NaN  https://news.naver.com/main/read.nhn?mode=LSD&...  "
      ]
     },
     "execution_count": 5,
     "metadata": {},
     "output_type": "execute_result"
    }
   ],
   "source": [
    "print('article_orginal --- None 개수: ', data_df.article_original.isna().sum())\n",
    "data_df.loc[data_df.article_original.isna()]"
   ]
  },
  {
   "cell_type": "markdown",
   "metadata": {},
   "source": [
    "### - 사용 데이터 정리"
   ]
  },
  {
   "cell_type": "markdown",
   "metadata": {},
   "source": [
    "기사 본문이 존재하지 않는 8개의 기사는 삭제하고자 합니다."
   ]
  },
  {
   "cell_type": "code",
   "execution_count": 6,
   "metadata": {},
   "outputs": [],
   "source": [
    "data_df.dropna(inplace=True)"
   ]
  },
  {
   "cell_type": "code",
   "execution_count": 7,
   "metadata": {},
   "outputs": [
    {
     "data": {
      "text/html": [
       "<div>\n",
       "<style scoped>\n",
       "    .dataframe tbody tr th:only-of-type {\n",
       "        vertical-align: middle;\n",
       "    }\n",
       "\n",
       "    .dataframe tbody tr th {\n",
       "        vertical-align: top;\n",
       "    }\n",
       "\n",
       "    .dataframe thead th {\n",
       "        text-align: right;\n",
       "    }\n",
       "</style>\n",
       "<table border=\"1\" class=\"dataframe\">\n",
       "  <thead>\n",
       "    <tr style=\"text-align: right;\">\n",
       "      <th></th>\n",
       "      <th>media</th>\n",
       "      <th>date</th>\n",
       "      <th>title</th>\n",
       "      <th>article_original</th>\n",
       "      <th>url</th>\n",
       "    </tr>\n",
       "  </thead>\n",
       "  <tbody>\n",
       "    <tr>\n",
       "      <th>413</th>\n",
       "      <td>경향신문</td>\n",
       "      <td>2020-09-02</td>\n",
       "      <td>방탄소년단 소속사 빅히트 10월 코스피 상장 추진</td>\n",
       "      <td>경향신문 \\n \\n\\n\\n\\n\\n 방탄소년단 BTS 의 소속사 빅히트 엔터테인먼트가...</td>\n",
       "      <td>https://news.naver.com/main/read.nhn?mode=LSD&amp;...</td>\n",
       "    </tr>\n",
       "    <tr>\n",
       "      <th>414</th>\n",
       "      <td>조선일보</td>\n",
       "      <td>2020-09-02</td>\n",
       "      <td>이규탁의 팝월드  강남 스타일이 개척한 길 BTS가 질주했다</td>\n",
       "      <td>방탄소년단은 이미 앨범 차트 ‘빌보드 200’에 넉 장의 앨범을 잇따라 1위에 올리...</td>\n",
       "      <td>https://news.naver.com/main/read.nhn?mode=LSD&amp;...</td>\n",
       "    </tr>\n",
       "    <tr>\n",
       "      <th>416</th>\n",
       "      <td>중앙일보</td>\n",
       "      <td>2020-09-02</td>\n",
       "      <td>BTS 수백억대 주식부호 되나멤버 1인당 빅히트 주식 92억</td>\n",
       "      <td>방탄소년단 BTS 소속사 빅히트엔터테인먼트가 상장을 추진하면서 멤버들이 백억대 주식...</td>\n",
       "      <td>https://news.naver.com/main/read.nhn?mode=LSD&amp;...</td>\n",
       "    </tr>\n",
       "    <tr>\n",
       "      <th>418</th>\n",
       "      <td>경향신문</td>\n",
       "      <td>2020-09-02</td>\n",
       "      <td>다음은 그래미 이왕이면 BTS 단독 무대</td>\n",
       "      <td>경향신문 \\n \\n\\n\\n\\n\\n\\n\\n “제일 좋은 상장…너무 행복해”\\n \\n\\...</td>\n",
       "      <td>https://news.naver.com/main/read.nhn?mode=LSD&amp;...</td>\n",
       "    </tr>\n",
       "    <tr>\n",
       "      <th>419</th>\n",
       "      <td>중앙일보</td>\n",
       "      <td>2020-09-03</td>\n",
       "      <td>새벽 소식 듣고 7시까지 울어 BTS가 전한 빌보드 1위 순간</td>\n",
       "      <td>“보고 있는 빌보드 페이지가 진짜가 맞나 너무 의심되더라고요. 좋은 멤버들 회사 스...</td>\n",
       "      <td>https://news.naver.com/main/read.nhn?mode=LSD&amp;...</td>\n",
       "    </tr>\n",
       "    <tr>\n",
       "      <th>420</th>\n",
       "      <td>조선일보</td>\n",
       "      <td>2020-09-03</td>\n",
       "      <td>BTS는 패션 교과서 트렌드 바꿨다</td>\n",
       "      <td>뮤비 의상에 해외 매체들 열광… 캉골모자 등 검색 2배 이상 증가\\n \\n\\n\\n\\...</td>\n",
       "      <td>https://news.naver.com/main/read.nhn?mode=LSD&amp;...</td>\n",
       "    </tr>\n",
       "    <tr>\n",
       "      <th>421</th>\n",
       "      <td>조선일보</td>\n",
       "      <td>2020-09-03</td>\n",
       "      <td>증여세도 다이너마이트방탄BTS 최소 280억 세금 낼 듯</td>\n",
       "      <td>3일 여의도 증권가는 10월 상장을 앞두고 있는 BTS 방탄소년단 소속사인 빅히트엔...</td>\n",
       "      <td>https://news.naver.com/main/read.nhn?mode=LSD&amp;...</td>\n",
       "    </tr>\n",
       "  </tbody>\n",
       "</table>\n",
       "</div>"
      ],
      "text/plain": [
       "    media        date                               title  \\\n",
       "413  경향신문  2020-09-02         방탄소년단 소속사 빅히트 10월 코스피 상장 추진   \n",
       "414  조선일보  2020-09-02   이규탁의 팝월드  강남 스타일이 개척한 길 BTS가 질주했다   \n",
       "416  중앙일보  2020-09-02   BTS 수백억대 주식부호 되나멤버 1인당 빅히트 주식 92억   \n",
       "418  경향신문  2020-09-02              다음은 그래미 이왕이면 BTS 단독 무대   \n",
       "419  중앙일보  2020-09-03  새벽 소식 듣고 7시까지 울어 BTS가 전한 빌보드 1위 순간   \n",
       "420  조선일보  2020-09-03                 BTS는 패션 교과서 트렌드 바꿨다   \n",
       "421  조선일보  2020-09-03     증여세도 다이너마이트방탄BTS 최소 280억 세금 낼 듯   \n",
       "\n",
       "                                      article_original  \\\n",
       "413  경향신문 \\n \\n\\n\\n\\n\\n 방탄소년단 BTS 의 소속사 빅히트 엔터테인먼트가...   \n",
       "414  방탄소년단은 이미 앨범 차트 ‘빌보드 200’에 넉 장의 앨범을 잇따라 1위에 올리...   \n",
       "416  방탄소년단 BTS 소속사 빅히트엔터테인먼트가 상장을 추진하면서 멤버들이 백억대 주식...   \n",
       "418  경향신문 \\n \\n\\n\\n\\n\\n\\n\\n “제일 좋은 상장…너무 행복해”\\n \\n\\...   \n",
       "419  “보고 있는 빌보드 페이지가 진짜가 맞나 너무 의심되더라고요. 좋은 멤버들 회사 스...   \n",
       "420  뮤비 의상에 해외 매체들 열광… 캉골모자 등 검색 2배 이상 증가\\n \\n\\n\\n\\...   \n",
       "421  3일 여의도 증권가는 10월 상장을 앞두고 있는 BTS 방탄소년단 소속사인 빅히트엔...   \n",
       "\n",
       "                                                   url  \n",
       "413  https://news.naver.com/main/read.nhn?mode=LSD&...  \n",
       "414  https://news.naver.com/main/read.nhn?mode=LSD&...  \n",
       "416  https://news.naver.com/main/read.nhn?mode=LSD&...  \n",
       "418  https://news.naver.com/main/read.nhn?mode=LSD&...  \n",
       "419  https://news.naver.com/main/read.nhn?mode=LSD&...  \n",
       "420  https://news.naver.com/main/read.nhn?mode=LSD&...  \n",
       "421  https://news.naver.com/main/read.nhn?mode=LSD&...  "
      ]
     },
     "execution_count": 7,
     "metadata": {},
     "output_type": "execute_result"
    }
   ],
   "source": [
    "data_df.iloc[411:418]"
   ]
  },
  {
   "cell_type": "markdown",
   "metadata": {},
   "source": [
    "415,417번 기사가 삭제되었는데 인덱스가 변경되지 않아 인덱스 접근이 어렵습니다.  \n",
    "인덱스를 reset하고 기존 인덱스는 drop 합니다."
   ]
  },
  {
   "cell_type": "code",
   "execution_count": 8,
   "metadata": {},
   "outputs": [
    {
     "data": {
      "text/html": [
       "<div>\n",
       "<style scoped>\n",
       "    .dataframe tbody tr th:only-of-type {\n",
       "        vertical-align: middle;\n",
       "    }\n",
       "\n",
       "    .dataframe tbody tr th {\n",
       "        vertical-align: top;\n",
       "    }\n",
       "\n",
       "    .dataframe thead th {\n",
       "        text-align: right;\n",
       "    }\n",
       "</style>\n",
       "<table border=\"1\" class=\"dataframe\">\n",
       "  <thead>\n",
       "    <tr style=\"text-align: right;\">\n",
       "      <th></th>\n",
       "      <th>media</th>\n",
       "      <th>date</th>\n",
       "      <th>title</th>\n",
       "      <th>article_original</th>\n",
       "      <th>url</th>\n",
       "    </tr>\n",
       "  </thead>\n",
       "  <tbody>\n",
       "    <tr>\n",
       "      <th>411</th>\n",
       "      <td>경향신문</td>\n",
       "      <td>2020-09-02</td>\n",
       "      <td>방탄소년단 소속사 빅히트 10월 코스피 상장 추진</td>\n",
       "      <td>경향신문 \\n \\n\\n\\n\\n\\n 방탄소년단 BTS 의 소속사 빅히트 엔터테인먼트가...</td>\n",
       "      <td>https://news.naver.com/main/read.nhn?mode=LSD&amp;...</td>\n",
       "    </tr>\n",
       "    <tr>\n",
       "      <th>412</th>\n",
       "      <td>조선일보</td>\n",
       "      <td>2020-09-02</td>\n",
       "      <td>이규탁의 팝월드  강남 스타일이 개척한 길 BTS가 질주했다</td>\n",
       "      <td>방탄소년단은 이미 앨범 차트 ‘빌보드 200’에 넉 장의 앨범을 잇따라 1위에 올리...</td>\n",
       "      <td>https://news.naver.com/main/read.nhn?mode=LSD&amp;...</td>\n",
       "    </tr>\n",
       "    <tr>\n",
       "      <th>413</th>\n",
       "      <td>중앙일보</td>\n",
       "      <td>2020-09-02</td>\n",
       "      <td>BTS 수백억대 주식부호 되나멤버 1인당 빅히트 주식 92억</td>\n",
       "      <td>방탄소년단 BTS 소속사 빅히트엔터테인먼트가 상장을 추진하면서 멤버들이 백억대 주식...</td>\n",
       "      <td>https://news.naver.com/main/read.nhn?mode=LSD&amp;...</td>\n",
       "    </tr>\n",
       "    <tr>\n",
       "      <th>414</th>\n",
       "      <td>경향신문</td>\n",
       "      <td>2020-09-02</td>\n",
       "      <td>다음은 그래미 이왕이면 BTS 단독 무대</td>\n",
       "      <td>경향신문 \\n \\n\\n\\n\\n\\n\\n\\n “제일 좋은 상장…너무 행복해”\\n \\n\\...</td>\n",
       "      <td>https://news.naver.com/main/read.nhn?mode=LSD&amp;...</td>\n",
       "    </tr>\n",
       "    <tr>\n",
       "      <th>415</th>\n",
       "      <td>중앙일보</td>\n",
       "      <td>2020-09-03</td>\n",
       "      <td>새벽 소식 듣고 7시까지 울어 BTS가 전한 빌보드 1위 순간</td>\n",
       "      <td>“보고 있는 빌보드 페이지가 진짜가 맞나 너무 의심되더라고요. 좋은 멤버들 회사 스...</td>\n",
       "      <td>https://news.naver.com/main/read.nhn?mode=LSD&amp;...</td>\n",
       "    </tr>\n",
       "    <tr>\n",
       "      <th>416</th>\n",
       "      <td>조선일보</td>\n",
       "      <td>2020-09-03</td>\n",
       "      <td>BTS는 패션 교과서 트렌드 바꿨다</td>\n",
       "      <td>뮤비 의상에 해외 매체들 열광… 캉골모자 등 검색 2배 이상 증가\\n \\n\\n\\n\\...</td>\n",
       "      <td>https://news.naver.com/main/read.nhn?mode=LSD&amp;...</td>\n",
       "    </tr>\n",
       "    <tr>\n",
       "      <th>417</th>\n",
       "      <td>조선일보</td>\n",
       "      <td>2020-09-03</td>\n",
       "      <td>증여세도 다이너마이트방탄BTS 최소 280억 세금 낼 듯</td>\n",
       "      <td>3일 여의도 증권가는 10월 상장을 앞두고 있는 BTS 방탄소년단 소속사인 빅히트엔...</td>\n",
       "      <td>https://news.naver.com/main/read.nhn?mode=LSD&amp;...</td>\n",
       "    </tr>\n",
       "  </tbody>\n",
       "</table>\n",
       "</div>"
      ],
      "text/plain": [
       "    media        date                               title  \\\n",
       "411  경향신문  2020-09-02         방탄소년단 소속사 빅히트 10월 코스피 상장 추진   \n",
       "412  조선일보  2020-09-02   이규탁의 팝월드  강남 스타일이 개척한 길 BTS가 질주했다   \n",
       "413  중앙일보  2020-09-02   BTS 수백억대 주식부호 되나멤버 1인당 빅히트 주식 92억   \n",
       "414  경향신문  2020-09-02              다음은 그래미 이왕이면 BTS 단독 무대   \n",
       "415  중앙일보  2020-09-03  새벽 소식 듣고 7시까지 울어 BTS가 전한 빌보드 1위 순간   \n",
       "416  조선일보  2020-09-03                 BTS는 패션 교과서 트렌드 바꿨다   \n",
       "417  조선일보  2020-09-03     증여세도 다이너마이트방탄BTS 최소 280억 세금 낼 듯   \n",
       "\n",
       "                                      article_original  \\\n",
       "411  경향신문 \\n \\n\\n\\n\\n\\n 방탄소년단 BTS 의 소속사 빅히트 엔터테인먼트가...   \n",
       "412  방탄소년단은 이미 앨범 차트 ‘빌보드 200’에 넉 장의 앨범을 잇따라 1위에 올리...   \n",
       "413  방탄소년단 BTS 소속사 빅히트엔터테인먼트가 상장을 추진하면서 멤버들이 백억대 주식...   \n",
       "414  경향신문 \\n \\n\\n\\n\\n\\n\\n\\n “제일 좋은 상장…너무 행복해”\\n \\n\\...   \n",
       "415  “보고 있는 빌보드 페이지가 진짜가 맞나 너무 의심되더라고요. 좋은 멤버들 회사 스...   \n",
       "416  뮤비 의상에 해외 매체들 열광… 캉골모자 등 검색 2배 이상 증가\\n \\n\\n\\n\\...   \n",
       "417  3일 여의도 증권가는 10월 상장을 앞두고 있는 BTS 방탄소년단 소속사인 빅히트엔...   \n",
       "\n",
       "                                                   url  \n",
       "411  https://news.naver.com/main/read.nhn?mode=LSD&...  \n",
       "412  https://news.naver.com/main/read.nhn?mode=LSD&...  \n",
       "413  https://news.naver.com/main/read.nhn?mode=LSD&...  \n",
       "414  https://news.naver.com/main/read.nhn?mode=LSD&...  \n",
       "415  https://news.naver.com/main/read.nhn?mode=LSD&...  \n",
       "416  https://news.naver.com/main/read.nhn?mode=LSD&...  \n",
       "417  https://news.naver.com/main/read.nhn?mode=LSD&...  "
      ]
     },
     "execution_count": 8,
     "metadata": {},
     "output_type": "execute_result"
    }
   ],
   "source": [
    "data_df.reset_index(drop=True, inplace=True)\n",
    "data_df.iloc[411:418]"
   ]
  },
  {
   "cell_type": "markdown",
   "metadata": {},
   "source": [
    "기사를 날짜를 기준으로 정렬합니다."
   ]
  },
  {
   "cell_type": "code",
   "execution_count": 9,
   "metadata": {},
   "outputs": [],
   "source": [
    "data_df.sort_values(by=['date'], inplace=True)"
   ]
  },
  {
   "cell_type": "code",
   "execution_count": 10,
   "metadata": {},
   "outputs": [
    {
     "data": {
      "text/html": [
       "<div>\n",
       "<style scoped>\n",
       "    .dataframe tbody tr th:only-of-type {\n",
       "        vertical-align: middle;\n",
       "    }\n",
       "\n",
       "    .dataframe tbody tr th {\n",
       "        vertical-align: top;\n",
       "    }\n",
       "\n",
       "    .dataframe thead th {\n",
       "        text-align: right;\n",
       "    }\n",
       "</style>\n",
       "<table border=\"1\" class=\"dataframe\">\n",
       "  <thead>\n",
       "    <tr style=\"text-align: right;\">\n",
       "      <th></th>\n",
       "      <th>media</th>\n",
       "      <th>date</th>\n",
       "      <th>title</th>\n",
       "      <th>article_original</th>\n",
       "      <th>url</th>\n",
       "    </tr>\n",
       "  </thead>\n",
       "  <tbody>\n",
       "    <tr>\n",
       "      <th>0</th>\n",
       "      <td>조선일보</td>\n",
       "      <td>2020-01-02</td>\n",
       "      <td>150만명 몰린  타임스스퀘어 새해 무대도 BTS</td>\n",
       "      <td>2012년 싸이에 이어 두 번째… ABC방송 라이브 쇼에서 생중계\\n \\n\\n\\n\\...</td>\n",
       "      <td>https://news.naver.com/main/read.nhn?mode=LSD&amp;...</td>\n",
       "    </tr>\n",
       "    <tr>\n",
       "      <th>1</th>\n",
       "      <td>조선일보</td>\n",
       "      <td>2020-01-02</td>\n",
       "      <td>방탄소년단 CNN 선정 2010년대 음악 변화시킨 아티스트</td>\n",
       "      <td>방탄소년단 BTS 이 미국 CNN 선정 2010년대 음악을 변화시킨 10대 아티스트...</td>\n",
       "      <td>https://news.naver.com/main/read.nhn?mode=LSD&amp;...</td>\n",
       "    </tr>\n",
       "    <tr>\n",
       "      <th>2</th>\n",
       "      <td>조선일보</td>\n",
       "      <td>2020-01-03</td>\n",
       "      <td>방탄소년단 새앨범 작업중 새해도 K팝 인베이전 이어진다</td>\n",
       "      <td>트와이스 日 도쿄돔 공연 블랙핑크도 새앨범 예정\\n \\n\\n\\n 경자년 庚子年 새해...</td>\n",
       "      <td>https://news.naver.com/main/read.nhn?mode=LSD&amp;...</td>\n",
       "    </tr>\n",
       "  </tbody>\n",
       "</table>\n",
       "</div>"
      ],
      "text/plain": [
       "  media        date                             title  \\\n",
       "0  조선일보  2020-01-02       150만명 몰린  타임스스퀘어 새해 무대도 BTS   \n",
       "1  조선일보  2020-01-02  방탄소년단 CNN 선정 2010년대 음악 변화시킨 아티스트   \n",
       "2  조선일보  2020-01-03    방탄소년단 새앨범 작업중 새해도 K팝 인베이전 이어진다   \n",
       "\n",
       "                                    article_original  \\\n",
       "0  2012년 싸이에 이어 두 번째… ABC방송 라이브 쇼에서 생중계\\n \\n\\n\\n\\...   \n",
       "1  방탄소년단 BTS 이 미국 CNN 선정 2010년대 음악을 변화시킨 10대 아티스트...   \n",
       "2  트와이스 日 도쿄돔 공연 블랙핑크도 새앨범 예정\\n \\n\\n\\n 경자년 庚子年 새해...   \n",
       "\n",
       "                                                 url  \n",
       "0  https://news.naver.com/main/read.nhn?mode=LSD&...  \n",
       "1  https://news.naver.com/main/read.nhn?mode=LSD&...  \n",
       "2  https://news.naver.com/main/read.nhn?mode=LSD&...  "
      ]
     },
     "execution_count": 10,
     "metadata": {},
     "output_type": "execute_result"
    }
   ],
   "source": [
    "data_df.head(3)"
   ]
  },
  {
   "cell_type": "code",
   "execution_count": 11,
   "metadata": {},
   "outputs": [
    {
     "data": {
      "text/html": [
       "<div>\n",
       "<style scoped>\n",
       "    .dataframe tbody tr th:only-of-type {\n",
       "        vertical-align: middle;\n",
       "    }\n",
       "\n",
       "    .dataframe tbody tr th {\n",
       "        vertical-align: top;\n",
       "    }\n",
       "\n",
       "    .dataframe thead th {\n",
       "        text-align: right;\n",
       "    }\n",
       "</style>\n",
       "<table border=\"1\" class=\"dataframe\">\n",
       "  <thead>\n",
       "    <tr style=\"text-align: right;\">\n",
       "      <th></th>\n",
       "      <th>media</th>\n",
       "      <th>date</th>\n",
       "      <th>title</th>\n",
       "      <th>article_original</th>\n",
       "      <th>url</th>\n",
       "    </tr>\n",
       "  </thead>\n",
       "  <tbody>\n",
       "    <tr>\n",
       "      <th>860</th>\n",
       "      <td>조선일보</td>\n",
       "      <td>2020-12-29</td>\n",
       "      <td>코로나로 힘든 1년 트롯맨봉준호BTS 있어 웃고 울었다</td>\n",
       "      <td>2020년 잊을 수 없는 문화계의 10일\\n \\n\\n 2020년은 한국 문화계의 저...</td>\n",
       "      <td>https://news.naver.com/main/read.nhn?mode=LSD&amp;...</td>\n",
       "    </tr>\n",
       "    <tr>\n",
       "      <th>861</th>\n",
       "      <td>중앙일보</td>\n",
       "      <td>2020-12-30</td>\n",
       "      <td>박영선 삶은 아무 일 없단 듯 계속된다BTS 노래로 신년사</td>\n",
       "      <td>박영선 중소벤처기업부 장관은 30일 발표한 신년사에서 “이미 최선을 다 하고 계신데...</td>\n",
       "      <td>https://news.naver.com/main/read.nhn?mode=LSD&amp;...</td>\n",
       "    </tr>\n",
       "    <tr>\n",
       "      <th>862</th>\n",
       "      <td>한겨레</td>\n",
       "      <td>2020-12-30</td>\n",
       "      <td>압도적 1위 BTS 916만장코로나에는 음반인 가요</td>\n",
       "      <td>코로나19 팬데믹으로 콘서트와 각종 음악 축제가 줄줄이 취소되는 등 올 한해 가요계...</td>\n",
       "      <td>https://news.naver.com/main/read.nhn?mode=LSD&amp;...</td>\n",
       "    </tr>\n",
       "  </tbody>\n",
       "</table>\n",
       "</div>"
      ],
      "text/plain": [
       "    media        date                             title  \\\n",
       "860  조선일보  2020-12-29    코로나로 힘든 1년 트롯맨봉준호BTS 있어 웃고 울었다   \n",
       "861  중앙일보  2020-12-30  박영선 삶은 아무 일 없단 듯 계속된다BTS 노래로 신년사   \n",
       "862   한겨레  2020-12-30      압도적 1위 BTS 916만장코로나에는 음반인 가요   \n",
       "\n",
       "                                      article_original  \\\n",
       "860  2020년 잊을 수 없는 문화계의 10일\\n \\n\\n 2020년은 한국 문화계의 저...   \n",
       "861  박영선 중소벤처기업부 장관은 30일 발표한 신년사에서 “이미 최선을 다 하고 계신데...   \n",
       "862  코로나19 팬데믹으로 콘서트와 각종 음악 축제가 줄줄이 취소되는 등 올 한해 가요계...   \n",
       "\n",
       "                                                   url  \n",
       "860  https://news.naver.com/main/read.nhn?mode=LSD&...  \n",
       "861  https://news.naver.com/main/read.nhn?mode=LSD&...  \n",
       "862  https://news.naver.com/main/read.nhn?mode=LSD&...  "
      ]
     },
     "execution_count": 11,
     "metadata": {},
     "output_type": "execute_result"
    }
   ],
   "source": [
    "data_df.tail(3)"
   ]
  },
  {
   "cell_type": "code",
   "execution_count": 12,
   "metadata": {},
   "outputs": [
    {
     "name": "stdout",
     "output_type": "stream",
     "text": [
      "<class 'pandas.core.frame.DataFrame'>\n",
      "Int64Index: 863 entries, 0 to 862\n",
      "Data columns (total 5 columns):\n",
      " #   Column            Non-Null Count  Dtype \n",
      "---  ------            --------------  ----- \n",
      " 0   media             863 non-null    object\n",
      " 1   date              863 non-null    object\n",
      " 2   title             863 non-null    object\n",
      " 3   article_original  863 non-null    object\n",
      " 4   url               863 non-null    object\n",
      "dtypes: object(5)\n",
      "memory usage: 40.5+ KB\n"
     ]
    }
   ],
   "source": [
    "data_df.info()"
   ]
  },
  {
   "cell_type": "markdown",
   "metadata": {},
   "source": [
    "총 863개의 object 타입의 텍스트 문서가 있습니다.  \n",
    "날짜를 기준으로 정렬하여 보면 2020년 1월 초부터 12월 말까지의 기사가 있는 것을 알 수 있습니다."
   ]
  },
  {
   "cell_type": "markdown",
   "metadata": {},
   "source": [
    "## media 분포"
   ]
  },
  {
   "cell_type": "code",
   "execution_count": 13,
   "metadata": {},
   "outputs": [
    {
     "data": {
      "text/plain": [
       "중앙일보    294\n",
       "조선일보    284\n",
       "경향신문    185\n",
       "한겨레     100\n",
       "Name: media, dtype: int64"
      ]
     },
     "execution_count": 13,
     "metadata": {},
     "output_type": "execute_result"
    }
   ],
   "source": [
    "data_df['media'].value_counts()"
   ]
  },
  {
   "cell_type": "markdown",
   "metadata": {},
   "source": [
    "총 4개 media로부터 데이터가 구성되어 있습니다."
   ]
  },
  {
   "cell_type": "markdown",
   "metadata": {},
   "source": [
    "## 원문(article_original)"
   ]
  },
  {
   "cell_type": "code",
   "execution_count": 14,
   "metadata": {},
   "outputs": [
    {
     "data": {
      "text/plain": [
       "'방탄소년단 BTS 이 미국 CNN 선정 2010년대 음악을 변화시킨 10대 아티스트 에 선정됐다.\\n \\n\\n 12월 31일 현지시각 CNN은 자신들의 음악 장르는 물론 스스로를 재창조하고 인상적인 영향력을 행사하면서 음악산업의 변화를 이끈 아티스트 톱 10을 선정해 발표했다.\\n \\n\\n BTS는 비욘세 켄드릭 라마 프랭크 오션 레이디 가가 드레이크 메트로 부민 테일러 스위프트 솔란지 카니예 웨스트 등과 함께 톱 10에 뽑혔다.\\n \\n\\n\\n\\n\\n CNN은 BTS에 대해 K팝을 미국에 대중화시켰고 K팝을 주류음악 mainstream 으로 이끌었다 며 이들의 음악이 2010년대 말미에 부상한만큼 미국인들 사이에서 2020년대 K팝은 더 저변을 넓힐 수 있을 것 이라고 말했다.\\n \\n\\n 이어 당신은 BTS의 음악을 전혀 들어보지 못했거나 그들의 빅 팬 중 한명일 수 있다 면서 그러나 어느 쪽이든 그들의 영향력을 부정할 수 없다 고 말했다.\\n \\n\\n 그러면서 BTS가 2018년 러브 유어셀프 전 티어 LOVE YOURSELF 轉 Tear 로 K팝 앨범 최초로 미국 빌보드 200 차트에서 1위를 차지했으며 이후 한 해에 3차례나 빌보드 200차트 1위에 오른 사실을 강조하면서 미국을 포함해 전 세계에서 수백만장의 앨범 판매를 기록했다 고 소개했다.\\n \\n\\n CNN은 2009년 원더걸스가 노바디 로 2012년 싸이가 강남 스타일 로 빌보드 차트에서 성과를 거뒀던 사실을 돌아보며 K팝은 늘 아시아에서 큰 인기를 누렸지만 미국 시장을 뚫기 위해 분투해왔다 며 BTS가 모두를 압도적으로 제쳤다 고 평가했다.\\n \\n\\n 한편 방탄소년단은 이날 밤 뉴욕 타임스스퀘어에서 진행된 ABC방송의 새해맞이 라이브 무대 뉴 이어스 로킹 이브 2020 New Year s Rocking Eve 에 올라 K팝의 위용을 다시금 과시했다.\\n \\n\\n 행사를 진행한 방송인 라이언 시크레스트는 전 지구를 홀린 그룹 이라고 소개했고 BTS는 8분간 히트곡 2곡을 선보이며 한국어 떼창 과 함께 엄청난 환호를 받았다.'"
      ]
     },
     "execution_count": 14,
     "metadata": {},
     "output_type": "execute_result"
    }
   ],
   "source": [
    "data_df['article_original'][1]"
   ]
  },
  {
   "cell_type": "markdown",
   "metadata": {},
   "source": [
    "article_original 데이터는 다음과 같습니다.\n",
    "- 타입 : str\n",
    "- 문장 내 \\n (개행문자) 포함, 문장 단위 토큰화 안됨"
   ]
  },
  {
   "cell_type": "markdown",
   "metadata": {},
   "source": [
    "# 날짜 별 기사 수 분포 vs 네이버 검색양"
   ]
  },
  {
   "cell_type": "markdown",
   "metadata": {},
   "source": [
    "날짜 별 기사 수와 네이버 검색양을 비교하고자 합니다."
   ]
  },
  {
   "cell_type": "markdown",
   "metadata": {},
   "source": [
    "#### 네이버 검색양 데이터 확인"
   ]
  },
  {
   "cell_type": "code",
   "execution_count": 15,
   "metadata": {},
   "outputs": [
    {
     "data": {
      "text/html": [
       "<div>\n",
       "<style scoped>\n",
       "    .dataframe tbody tr th:only-of-type {\n",
       "        vertical-align: middle;\n",
       "    }\n",
       "\n",
       "    .dataframe tbody tr th {\n",
       "        vertical-align: top;\n",
       "    }\n",
       "\n",
       "    .dataframe thead th {\n",
       "        text-align: right;\n",
       "    }\n",
       "</style>\n",
       "<table border=\"1\" class=\"dataframe\">\n",
       "  <thead>\n",
       "    <tr style=\"text-align: right;\">\n",
       "      <th></th>\n",
       "      <th>date</th>\n",
       "      <th>search_amount</th>\n",
       "    </tr>\n",
       "  </thead>\n",
       "  <tbody>\n",
       "    <tr>\n",
       "      <th>0</th>\n",
       "      <td>2020-01-01</td>\n",
       "      <td>43.85227</td>\n",
       "    </tr>\n",
       "    <tr>\n",
       "      <th>1</th>\n",
       "      <td>2020-01-02</td>\n",
       "      <td>22.75566</td>\n",
       "    </tr>\n",
       "    <tr>\n",
       "      <th>2</th>\n",
       "      <td>2020-01-03</td>\n",
       "      <td>17.47025</td>\n",
       "    </tr>\n",
       "    <tr>\n",
       "      <th>3</th>\n",
       "      <td>2020-01-04</td>\n",
       "      <td>21.59224</td>\n",
       "    </tr>\n",
       "    <tr>\n",
       "      <th>4</th>\n",
       "      <td>2020-01-05</td>\n",
       "      <td>32.13055</td>\n",
       "    </tr>\n",
       "  </tbody>\n",
       "</table>\n",
       "</div>"
      ],
      "text/plain": [
       "         date  search_amount\n",
       "0  2020-01-01       43.85227\n",
       "1  2020-01-02       22.75566\n",
       "2  2020-01-03       17.47025\n",
       "3  2020-01-04       21.59224\n",
       "4  2020-01-05       32.13055"
      ]
     },
     "execution_count": 15,
     "metadata": {},
     "output_type": "execute_result"
    }
   ],
   "source": [
    "search_data = pd.read_excel(DATA_DIR + '/bts_search_datalab.xlsx')\n",
    "search_data.rename(columns={'amount':'search_amount'}, inplace=True)\n",
    "search_data.head()"
   ]
  },
  {
   "cell_type": "code",
   "execution_count": 16,
   "metadata": {},
   "outputs": [
    {
     "data": {
      "text/html": [
       "<div>\n",
       "<style scoped>\n",
       "    .dataframe tbody tr th:only-of-type {\n",
       "        vertical-align: middle;\n",
       "    }\n",
       "\n",
       "    .dataframe tbody tr th {\n",
       "        vertical-align: top;\n",
       "    }\n",
       "\n",
       "    .dataframe thead th {\n",
       "        text-align: right;\n",
       "    }\n",
       "</style>\n",
       "<table border=\"1\" class=\"dataframe\">\n",
       "  <thead>\n",
       "    <tr style=\"text-align: right;\">\n",
       "      <th></th>\n",
       "      <th>date</th>\n",
       "      <th>search_amount</th>\n",
       "    </tr>\n",
       "  </thead>\n",
       "  <tbody>\n",
       "    <tr>\n",
       "      <th>361</th>\n",
       "      <td>2020-12-27</td>\n",
       "      <td>15.85755</td>\n",
       "    </tr>\n",
       "    <tr>\n",
       "      <th>362</th>\n",
       "      <td>2020-12-28</td>\n",
       "      <td>14.53832</td>\n",
       "    </tr>\n",
       "    <tr>\n",
       "      <th>363</th>\n",
       "      <td>2020-12-29</td>\n",
       "      <td>14.21533</td>\n",
       "    </tr>\n",
       "    <tr>\n",
       "      <th>364</th>\n",
       "      <td>2020-12-30</td>\n",
       "      <td>22.29620</td>\n",
       "    </tr>\n",
       "    <tr>\n",
       "      <th>365</th>\n",
       "      <td>2020-12-31</td>\n",
       "      <td>22.45266</td>\n",
       "    </tr>\n",
       "  </tbody>\n",
       "</table>\n",
       "</div>"
      ],
      "text/plain": [
       "           date  search_amount\n",
       "361  2020-12-27       15.85755\n",
       "362  2020-12-28       14.53832\n",
       "363  2020-12-29       14.21533\n",
       "364  2020-12-30       22.29620\n",
       "365  2020-12-31       22.45266"
      ]
     },
     "execution_count": 16,
     "metadata": {},
     "output_type": "execute_result"
    }
   ],
   "source": [
    "search_data.tail()"
   ]
  },
  {
   "cell_type": "code",
   "execution_count": 17,
   "metadata": {},
   "outputs": [
    {
     "name": "stdout",
     "output_type": "stream",
     "text": [
      "<class 'pandas.core.frame.DataFrame'>\n",
      "RangeIndex: 366 entries, 0 to 365\n",
      "Data columns (total 2 columns):\n",
      " #   Column         Non-Null Count  Dtype  \n",
      "---  ------         --------------  -----  \n",
      " 0   date           366 non-null    object \n",
      " 1   search_amount  366 non-null    float64\n",
      "dtypes: float64(1), object(1)\n",
      "memory usage: 5.8+ KB\n"
     ]
    }
   ],
   "source": [
    "search_data.info()"
   ]
  },
  {
   "cell_type": "markdown",
   "metadata": {},
   "source": [
    "네이버 검색양 데이터는 2020년 1월 1일부터 12월 31일까지 검색 값을 보여준다."
   ]
  },
  {
   "cell_type": "code",
   "execution_count": 18,
   "metadata": {},
   "outputs": [
    {
     "name": "stdout",
     "output_type": "stream",
     "text": [
      "<class 'pandas.core.frame.DataFrame'>\n"
     ]
    },
    {
     "data": {
      "text/html": [
       "<div>\n",
       "<style scoped>\n",
       "    .dataframe tbody tr th:only-of-type {\n",
       "        vertical-align: middle;\n",
       "    }\n",
       "\n",
       "    .dataframe tbody tr th {\n",
       "        vertical-align: top;\n",
       "    }\n",
       "\n",
       "    .dataframe thead th {\n",
       "        text-align: right;\n",
       "    }\n",
       "</style>\n",
       "<table border=\"1\" class=\"dataframe\">\n",
       "  <thead>\n",
       "    <tr style=\"text-align: right;\">\n",
       "      <th></th>\n",
       "      <th>date</th>\n",
       "      <th>article_original</th>\n",
       "    </tr>\n",
       "  </thead>\n",
       "  <tbody>\n",
       "    <tr>\n",
       "      <th>0</th>\n",
       "      <td>2020-01-02</td>\n",
       "      <td>2</td>\n",
       "    </tr>\n",
       "    <tr>\n",
       "      <th>1</th>\n",
       "      <td>2020-01-03</td>\n",
       "      <td>2</td>\n",
       "    </tr>\n",
       "    <tr>\n",
       "      <th>2</th>\n",
       "      <td>2020-01-06</td>\n",
       "      <td>1</td>\n",
       "    </tr>\n",
       "    <tr>\n",
       "      <th>3</th>\n",
       "      <td>2020-01-07</td>\n",
       "      <td>3</td>\n",
       "    </tr>\n",
       "    <tr>\n",
       "      <th>4</th>\n",
       "      <td>2020-01-08</td>\n",
       "      <td>3</td>\n",
       "    </tr>\n",
       "    <tr>\n",
       "      <th>...</th>\n",
       "      <td>...</td>\n",
       "      <td>...</td>\n",
       "    </tr>\n",
       "    <tr>\n",
       "      <th>247</th>\n",
       "      <td>2020-12-24</td>\n",
       "      <td>2</td>\n",
       "    </tr>\n",
       "    <tr>\n",
       "      <th>248</th>\n",
       "      <td>2020-12-25</td>\n",
       "      <td>2</td>\n",
       "    </tr>\n",
       "    <tr>\n",
       "      <th>249</th>\n",
       "      <td>2020-12-26</td>\n",
       "      <td>3</td>\n",
       "    </tr>\n",
       "    <tr>\n",
       "      <th>250</th>\n",
       "      <td>2020-12-29</td>\n",
       "      <td>1</td>\n",
       "    </tr>\n",
       "    <tr>\n",
       "      <th>251</th>\n",
       "      <td>2020-12-30</td>\n",
       "      <td>2</td>\n",
       "    </tr>\n",
       "  </tbody>\n",
       "</table>\n",
       "<p>252 rows × 2 columns</p>\n",
       "</div>"
      ],
      "text/plain": [
       "           date  article_original\n",
       "0    2020-01-02                 2\n",
       "1    2020-01-03                 2\n",
       "2    2020-01-06                 1\n",
       "3    2020-01-07                 3\n",
       "4    2020-01-08                 3\n",
       "..          ...               ...\n",
       "247  2020-12-24                 2\n",
       "248  2020-12-25                 2\n",
       "249  2020-12-26                 3\n",
       "250  2020-12-29                 1\n",
       "251  2020-12-30                 2\n",
       "\n",
       "[252 rows x 2 columns]"
      ]
     },
     "execution_count": 18,
     "metadata": {},
     "output_type": "execute_result"
    }
   ],
   "source": [
    "date_groupby = data_df.groupby(by='date').count()['article_original'].reset_index()\n",
    "print(type(date_groupby))\n",
    "date_groupby"
   ]
  },
  {
   "cell_type": "code",
   "execution_count": 19,
   "metadata": {},
   "outputs": [
    {
     "name": "stdout",
     "output_type": "stream",
     "text": [
      "366\n"
     ]
    }
   ],
   "source": [
    "# 일자별 뉴스 건 수\n",
    "news_amount_list =[]\n",
    "for i in range(search_data.shape[0]):\n",
    "    isin = False\n",
    "    for j in range(date_groupby.shape[0]):\n",
    "        if date_groupby['date'].loc[j] == search_data['date'].loc[i]:\n",
    "            news_amount_list.append(date_groupby['article_original'].loc[j])\n",
    "            isin = True\n",
    "            break\n",
    "        elif j == date_groupby.shape[0]-1 and isin == False:\n",
    "            news_amount_list.append(0)\n",
    "            \n",
    "print(len(news_amount_list))\n",
    "# news_amount_list"
   ]
  },
  {
   "cell_type": "code",
   "execution_count": 20,
   "metadata": {},
   "outputs": [
    {
     "data": {
      "text/html": [
       "<div>\n",
       "<style scoped>\n",
       "    .dataframe tbody tr th:only-of-type {\n",
       "        vertical-align: middle;\n",
       "    }\n",
       "\n",
       "    .dataframe tbody tr th {\n",
       "        vertical-align: top;\n",
       "    }\n",
       "\n",
       "    .dataframe thead th {\n",
       "        text-align: right;\n",
       "    }\n",
       "</style>\n",
       "<table border=\"1\" class=\"dataframe\">\n",
       "  <thead>\n",
       "    <tr style=\"text-align: right;\">\n",
       "      <th></th>\n",
       "      <th>date</th>\n",
       "      <th>search_amount</th>\n",
       "      <th>news_amount</th>\n",
       "    </tr>\n",
       "  </thead>\n",
       "  <tbody>\n",
       "    <tr>\n",
       "      <th>0</th>\n",
       "      <td>2020-01-01</td>\n",
       "      <td>43.85227</td>\n",
       "      <td>0</td>\n",
       "    </tr>\n",
       "    <tr>\n",
       "      <th>1</th>\n",
       "      <td>2020-01-02</td>\n",
       "      <td>22.75566</td>\n",
       "      <td>2</td>\n",
       "    </tr>\n",
       "    <tr>\n",
       "      <th>2</th>\n",
       "      <td>2020-01-03</td>\n",
       "      <td>17.47025</td>\n",
       "      <td>2</td>\n",
       "    </tr>\n",
       "    <tr>\n",
       "      <th>3</th>\n",
       "      <td>2020-01-04</td>\n",
       "      <td>21.59224</td>\n",
       "      <td>0</td>\n",
       "    </tr>\n",
       "    <tr>\n",
       "      <th>4</th>\n",
       "      <td>2020-01-05</td>\n",
       "      <td>32.13055</td>\n",
       "      <td>0</td>\n",
       "    </tr>\n",
       "    <tr>\n",
       "      <th>...</th>\n",
       "      <td>...</td>\n",
       "      <td>...</td>\n",
       "      <td>...</td>\n",
       "    </tr>\n",
       "    <tr>\n",
       "      <th>361</th>\n",
       "      <td>2020-12-27</td>\n",
       "      <td>15.85755</td>\n",
       "      <td>0</td>\n",
       "    </tr>\n",
       "    <tr>\n",
       "      <th>362</th>\n",
       "      <td>2020-12-28</td>\n",
       "      <td>14.53832</td>\n",
       "      <td>0</td>\n",
       "    </tr>\n",
       "    <tr>\n",
       "      <th>363</th>\n",
       "      <td>2020-12-29</td>\n",
       "      <td>14.21533</td>\n",
       "      <td>1</td>\n",
       "    </tr>\n",
       "    <tr>\n",
       "      <th>364</th>\n",
       "      <td>2020-12-30</td>\n",
       "      <td>22.29620</td>\n",
       "      <td>2</td>\n",
       "    </tr>\n",
       "    <tr>\n",
       "      <th>365</th>\n",
       "      <td>2020-12-31</td>\n",
       "      <td>22.45266</td>\n",
       "      <td>0</td>\n",
       "    </tr>\n",
       "  </tbody>\n",
       "</table>\n",
       "<p>366 rows × 3 columns</p>\n",
       "</div>"
      ],
      "text/plain": [
       "           date  search_amount  news_amount\n",
       "0    2020-01-01       43.85227            0\n",
       "1    2020-01-02       22.75566            2\n",
       "2    2020-01-03       17.47025            2\n",
       "3    2020-01-04       21.59224            0\n",
       "4    2020-01-05       32.13055            0\n",
       "..          ...            ...          ...\n",
       "361  2020-12-27       15.85755            0\n",
       "362  2020-12-28       14.53832            0\n",
       "363  2020-12-29       14.21533            1\n",
       "364  2020-12-30       22.29620            2\n",
       "365  2020-12-31       22.45266            0\n",
       "\n",
       "[366 rows x 3 columns]"
      ]
     },
     "execution_count": 20,
     "metadata": {},
     "output_type": "execute_result"
    }
   ],
   "source": [
    "search_data['news_amount'] = pd.Series(news_amount_list)\n",
    "search_data"
   ]
  },
  {
   "cell_type": "code",
   "execution_count": 21,
   "metadata": {},
   "outputs": [
    {
     "data": {
      "text/plain": [
       "<AxesSubplot:xlabel='date'>"
      ]
     },
     "execution_count": 21,
     "metadata": {},
     "output_type": "execute_result"
    },
    {
     "name": "stderr",
     "output_type": "stream",
     "text": [
      "findfont: Font family ['NanumBarunGothic'] not found. Falling back to DejaVu Sans.\n"
     ]
    },
    {
     "data": {
      "image/png": "[encoded data removed]",
      "text/plain": [
       "<Figure size 1080x720 with 2 Axes>"
      ]
     },
     "metadata": {},
     "output_type": "display_data"
    }
   ],
   "source": [
    "# plot data\n",
    "fig, ax = plt.subplots(figsize=(15,10))\n",
    "plt.rc('font', family='NanumBarunGothic') \n",
    "\n",
    "search_data.plot(ax=ax, x='date', secondary_y = ['news_amount'], color = ['#9999ff','#ff9999'])"
   ]
  },
  {
   "cell_type": "markdown",
   "metadata": {},
   "source": [
    "검색양과 기사의 분포가 유사하다는 것을 확인할 수 있습니다."
   ]
  },
  {
   "cell_type": "code",
   "execution_count": 22,
   "metadata": {},
   "outputs": [],
   "source": [
    "# None drop, date 순 정렬 파일저장\n",
    "data_df.to_excel(DATA_DIR+'/news_df_210205_v03_dna.xlsx', index=False)"
   ]
  }
 ],
 "metadata": {
  "kernelspec": {
   "display_name": "Python 3",
   "language": "python",
   "name": "python3"
  },
  "language_info": {
   "codemirror_mode": {
    "name": "ipython",
    "version": 3
   },
   "file_extension": ".py",
   "mimetype": "text/x-python",
   "name": "python",
   "nbconvert_exporter": "python",
   "pygments_lexer": "ipython3",
   "version": "3.8.5"
  }
 },
 "nbformat": 4,
 "nbformat_minor": 4
}
