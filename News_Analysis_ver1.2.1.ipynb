{
 "cells": [
  {
   "cell_type": "code",
   "execution_count": 1,
   "metadata": {},
   "outputs": [],
   "source": [
    "import pandas as pd\n",
    "import numpy as np\n",
    "from sklearn.feature_extraction.text import TfidfVectorizer\n",
    "from sklearn.metrics.pairwise import cosine_similarity\n",
    "import re"
   ]
  },
  {
   "cell_type": "code",
   "execution_count": 2,
   "metadata": {
    "scrolled": false
   },
   "outputs": [
    {
     "data": {
      "text/html": [
       "<div>\n",
       "<style scoped>\n",
       "    .dataframe tbody tr th:only-of-type {\n",
       "        vertical-align: middle;\n",
       "    }\n",
       "\n",
       "    .dataframe tbody tr th {\n",
       "        vertical-align: top;\n",
       "    }\n",
       "\n",
       "    .dataframe thead th {\n",
       "        text-align: right;\n",
       "    }\n",
       "</style>\n",
       "<table border=\"1\" class=\"dataframe\">\n",
       "  <thead>\n",
       "    <tr style=\"text-align: right;\">\n",
       "      <th></th>\n",
       "      <th>media</th>\n",
       "      <th>date</th>\n",
       "      <th>title</th>\n",
       "      <th>article_original</th>\n",
       "      <th>url</th>\n",
       "    </tr>\n",
       "  </thead>\n",
       "  <tbody>\n",
       "    <tr>\n",
       "      <th>0</th>\n",
       "      <td>조선일보</td>\n",
       "      <td>2020-01-02</td>\n",
       "      <td>150만명 몰린  타임스스퀘어 새해 무대도 BTS</td>\n",
       "      <td>사회자의 소개와 함께 방탄소년단BTS이 모습을 드러냈다. 2019년의 마지막 날 ...</td>\n",
       "      <td>https://news.naver.com/main/read.nhn?mode=LSD&amp;...</td>\n",
       "    </tr>\n",
       "    <tr>\n",
       "      <th>1</th>\n",
       "      <td>조선일보</td>\n",
       "      <td>2020-01-02</td>\n",
       "      <td>방탄소년단 CNN 선정 2010년대 음악 변화시킨 아티스트</td>\n",
       "      <td>12월 31일현지시각 CNN은 자신들의 음악 장르는 물론 스스로를 재창조하고 인상...</td>\n",
       "      <td>https://news.naver.com/main/read.nhn?mode=LSD&amp;...</td>\n",
       "    </tr>\n",
       "    <tr>\n",
       "      <th>2</th>\n",
       "      <td>조선일보</td>\n",
       "      <td>2020-01-03</td>\n",
       "      <td>방탄소년단 새앨범 작업중 새해도 K팝 인베이전 이어진다</td>\n",
       "      <td>경자년庚子年 새해에도 K팝 스타들의 세계 무대 공략은 계속될 전망이다. 특히 지난...</td>\n",
       "      <td>https://news.naver.com/main/read.nhn?mode=LSD&amp;...</td>\n",
       "    </tr>\n",
       "    <tr>\n",
       "      <th>3</th>\n",
       "      <td>조선일보</td>\n",
       "      <td>2020-01-03</td>\n",
       "      <td>서울시 BTS트와이스 활용해 K팝 관광명소 추천</td>\n",
       "      <td>K팝에 대한 관심이 전 세계적으로 높아지면서 서울시가 이른바 ‘K팝 명소’들을 선정...</td>\n",
       "      <td>https://news.naver.com/main/read.nhn?mode=LSD&amp;...</td>\n",
       "    </tr>\n",
       "    <tr>\n",
       "      <th>4</th>\n",
       "      <td>조선일보</td>\n",
       "      <td>2020-01-06</td>\n",
       "      <td>봉준호 BTS 영향력은 나의 3천배  멋진 아티스트의 나라</td>\n",
       "      <td>골든글로브 시상식에서 한국 최초로 외국어영화상을 수상한 기생충의 봉준호 감독이 한 ...</td>\n",
       "      <td>https://news.naver.com/main/read.nhn?mode=LSD&amp;...</td>\n",
       "    </tr>\n",
       "    <tr>\n",
       "      <th>...</th>\n",
       "      <td>...</td>\n",
       "      <td>...</td>\n",
       "      <td>...</td>\n",
       "      <td>...</td>\n",
       "      <td>...</td>\n",
       "    </tr>\n",
       "    <tr>\n",
       "      <th>866</th>\n",
       "      <td>한겨레</td>\n",
       "      <td>2020-12-26</td>\n",
       "      <td>누구도 가지 못한 길을 여는 BTS라는 세계</td>\n",
       "      <td>코로나19의 대유행으로 고통받은 한해 방탄소년단BTS은 큰 위로가 되어주었다. 20...</td>\n",
       "      <td>https://news.naver.com/main/read.nhn?mode=LSD&amp;...</td>\n",
       "    </tr>\n",
       "    <tr>\n",
       "      <th>867</th>\n",
       "      <td>한겨레</td>\n",
       "      <td>2020-12-26</td>\n",
       "      <td>세계의 모든 힘없는 자들에게 2020 BTS 혁명</td>\n",
       "      <td>“이 세계의 모든 힘없는 자들아 우리가 패배할 날이 올지도 모르지만 오늘은 아니야 ...</td>\n",
       "      <td>https://news.naver.com/main/read.nhn?mode=LSD&amp;...</td>\n",
       "    </tr>\n",
       "    <tr>\n",
       "      <th>868</th>\n",
       "      <td>조선일보</td>\n",
       "      <td>2020-12-29</td>\n",
       "      <td>코로나로 힘든 1년 트롯맨봉준호BTS 있어 웃고 울었다</td>\n",
       "      <td>2020년은 한국 문화계의 저력과 바닥이 모두 드러난 해였다. 전례 없던 세계 기...</td>\n",
       "      <td>https://news.naver.com/main/read.nhn?mode=LSD&amp;...</td>\n",
       "    </tr>\n",
       "    <tr>\n",
       "      <th>869</th>\n",
       "      <td>중앙일보</td>\n",
       "      <td>2020-12-30</td>\n",
       "      <td>박영선 삶은 아무 일 없단 듯 계속된다BTS 노래로 신년사</td>\n",
       "      <td>박영선 중소벤처기업부 장관은 30일 발표한 신년사에서 “이미 최선을 다 하고 계신데...</td>\n",
       "      <td>https://news.naver.com/main/read.nhn?mode=LSD&amp;...</td>\n",
       "    </tr>\n",
       "    <tr>\n",
       "      <th>870</th>\n",
       "      <td>한겨레</td>\n",
       "      <td>2020-12-30</td>\n",
       "      <td>압도적 1위 BTS 916만장코로나에는 음반인 가요</td>\n",
       "      <td>코로나19 팬데믹으로 콘서트와 각종 음악 축제가 줄줄이 취소되는 등 올 한해 가요계...</td>\n",
       "      <td>https://news.naver.com/main/read.nhn?mode=LSD&amp;...</td>\n",
       "    </tr>\n",
       "  </tbody>\n",
       "</table>\n",
       "<p>871 rows × 5 columns</p>\n",
       "</div>"
      ],
      "text/plain": [
       "    media        date                             title  \\\n",
       "0    조선일보  2020-01-02       150만명 몰린  타임스스퀘어 새해 무대도 BTS   \n",
       "1    조선일보  2020-01-02  방탄소년단 CNN 선정 2010년대 음악 변화시킨 아티스트   \n",
       "2    조선일보  2020-01-03    방탄소년단 새앨범 작업중 새해도 K팝 인베이전 이어진다   \n",
       "3    조선일보  2020-01-03        서울시 BTS트와이스 활용해 K팝 관광명소 추천   \n",
       "4    조선일보  2020-01-06  봉준호 BTS 영향력은 나의 3천배  멋진 아티스트의 나라   \n",
       "..    ...         ...                               ...   \n",
       "866   한겨레  2020-12-26          누구도 가지 못한 길을 여는 BTS라는 세계   \n",
       "867   한겨레  2020-12-26       세계의 모든 힘없는 자들에게 2020 BTS 혁명   \n",
       "868  조선일보  2020-12-29    코로나로 힘든 1년 트롯맨봉준호BTS 있어 웃고 울었다   \n",
       "869  중앙일보  2020-12-30  박영선 삶은 아무 일 없단 듯 계속된다BTS 노래로 신년사   \n",
       "870   한겨레  2020-12-30      압도적 1위 BTS 916만장코로나에는 음반인 가요   \n",
       "\n",
       "                                      article_original  \\\n",
       "0     사회자의 소개와 함께 방탄소년단BTS이 모습을 드러냈다. 2019년의 마지막 날 ...   \n",
       "1     12월 31일현지시각 CNN은 자신들의 음악 장르는 물론 스스로를 재창조하고 인상...   \n",
       "2     경자년庚子年 새해에도 K팝 스타들의 세계 무대 공략은 계속될 전망이다. 특히 지난...   \n",
       "3    K팝에 대한 관심이 전 세계적으로 높아지면서 서울시가 이른바 ‘K팝 명소’들을 선정...   \n",
       "4    골든글로브 시상식에서 한국 최초로 외국어영화상을 수상한 기생충의 봉준호 감독이 한 ...   \n",
       "..                                                 ...   \n",
       "866  코로나19의 대유행으로 고통받은 한해 방탄소년단BTS은 큰 위로가 되어주었다. 20...   \n",
       "867  “이 세계의 모든 힘없는 자들아 우리가 패배할 날이 올지도 모르지만 오늘은 아니야 ...   \n",
       "868   2020년은 한국 문화계의 저력과 바닥이 모두 드러난 해였다. 전례 없던 세계 기...   \n",
       "869  박영선 중소벤처기업부 장관은 30일 발표한 신년사에서 “이미 최선을 다 하고 계신데...   \n",
       "870  코로나19 팬데믹으로 콘서트와 각종 음악 축제가 줄줄이 취소되는 등 올 한해 가요계...   \n",
       "\n",
       "                                                   url  \n",
       "0    https://news.naver.com/main/read.nhn?mode=LSD&...  \n",
       "1    https://news.naver.com/main/read.nhn?mode=LSD&...  \n",
       "2    https://news.naver.com/main/read.nhn?mode=LSD&...  \n",
       "3    https://news.naver.com/main/read.nhn?mode=LSD&...  \n",
       "4    https://news.naver.com/main/read.nhn?mode=LSD&...  \n",
       "..                                                 ...  \n",
       "866  https://news.naver.com/main/read.nhn?mode=LSD&...  \n",
       "867  https://news.naver.com/main/read.nhn?mode=LSD&...  \n",
       "868  https://news.naver.com/main/read.nhn?mode=LSD&...  \n",
       "869  https://news.naver.com/main/read.nhn?mode=LSD&...  \n",
       "870  https://news.naver.com/main/read.nhn?mode=LSD&...  \n",
       "\n",
       "[871 rows x 5 columns]"
      ]
     },
     "execution_count": 2,
     "metadata": {},
     "output_type": "execute_result"
    }
   ],
   "source": [
    "#크롤된 뉴스 데이터 불러오기\n",
    "columns = ['media','date','title','article_original','url']\n",
    "news_crawled_df = pd.read_csv('./crawled_news/news_df_210205_v02.csv')\n",
    "news_crawled_df"
   ]
  },
  {
   "cell_type": "code",
   "execution_count": 3,
   "metadata": {},
   "outputs": [
    {
     "data": {
      "text/plain": [
       "media                0\n",
       "date                 0\n",
       "title                0\n",
       "article_original    13\n",
       "url                  0\n",
       "dtype: int64"
      ]
     },
     "execution_count": 3,
     "metadata": {},
     "output_type": "execute_result"
    }
   ],
   "source": [
    "news_crawled_df.isna().sum()"
   ]
  },
  {
   "cell_type": "code",
   "execution_count": 4,
   "metadata": {},
   "outputs": [
    {
     "data": {
      "text/html": [
       "<div>\n",
       "<style scoped>\n",
       "    .dataframe tbody tr th:only-of-type {\n",
       "        vertical-align: middle;\n",
       "    }\n",
       "\n",
       "    .dataframe tbody tr th {\n",
       "        vertical-align: top;\n",
       "    }\n",
       "\n",
       "    .dataframe thead th {\n",
       "        text-align: right;\n",
       "    }\n",
       "</style>\n",
       "<table border=\"1\" class=\"dataframe\">\n",
       "  <thead>\n",
       "    <tr style=\"text-align: right;\">\n",
       "      <th></th>\n",
       "      <th>media</th>\n",
       "      <th>date</th>\n",
       "      <th>title</th>\n",
       "      <th>article_original</th>\n",
       "      <th>url</th>\n",
       "    </tr>\n",
       "  </thead>\n",
       "  <tbody>\n",
       "    <tr>\n",
       "      <th>69</th>\n",
       "      <td>중앙일보</td>\n",
       "      <td>2020-02-12</td>\n",
       "      <td>권혁재의 사람사진 방탄소년단이 연결한 세계</td>\n",
       "      <td>NaN</td>\n",
       "      <td>https://news.naver.com/main/read.nhn?mode=LSD&amp;...</td>\n",
       "    </tr>\n",
       "    <tr>\n",
       "      <th>142</th>\n",
       "      <td>중앙일보</td>\n",
       "      <td>2020-03-03</td>\n",
       "      <td>기록 경신한 BTS 빌보드 핫 100 4위K팝 그룹 최고 순위</td>\n",
       "      <td>NaN</td>\n",
       "      <td>https://news.naver.com/main/read.nhn?mode=LSD&amp;...</td>\n",
       "    </tr>\n",
       "    <tr>\n",
       "      <th>167</th>\n",
       "      <td>중앙일보</td>\n",
       "      <td>2020-03-22</td>\n",
       "      <td>민기자야 BTS 기사 쓴 기자가 직접 자기 기사 댓글 읽었다</td>\n",
       "      <td>NaN</td>\n",
       "      <td>https://news.naver.com/main/read.nhn?mode=LSD&amp;...</td>\n",
       "    </tr>\n",
       "    <tr>\n",
       "      <th>203</th>\n",
       "      <td>조선일보</td>\n",
       "      <td>2020-05-04</td>\n",
       "      <td>BTS도 먹은 달고나커피 멈출 수가 없어요</td>\n",
       "      <td>NaN</td>\n",
       "      <td>https://news.naver.com/main/read.nhn?mode=LSD&amp;...</td>\n",
       "    </tr>\n",
       "    <tr>\n",
       "      <th>221</th>\n",
       "      <td>조선일보</td>\n",
       "      <td>2020-05-15</td>\n",
       "      <td>사진 BTS RM이 남긴 미술관 방명록쉽지 않은 시기 같이 이겨내요</td>\n",
       "      <td>NaN</td>\n",
       "      <td>https://news.naver.com/main/read.nhn?mode=LSD&amp;...</td>\n",
       "    </tr>\n",
       "    <tr>\n",
       "      <th>348</th>\n",
       "      <td>조선일보</td>\n",
       "      <td>2020-08-22</td>\n",
       "      <td>BTS 첫 영어곡 발표 빌보드 1위 오를까</td>\n",
       "      <td>NaN</td>\n",
       "      <td>https://news.naver.com/main/read.nhn?mode=LSD&amp;...</td>\n",
       "    </tr>\n",
       "    <tr>\n",
       "      <th>415</th>\n",
       "      <td>한겨레</td>\n",
       "      <td>2020-09-02</td>\n",
       "      <td>영상 BTS 빌보드 핫 100 1위온라인 글로벌 기자간담회</td>\n",
       "      <td>NaN</td>\n",
       "      <td>https://news.naver.com/main/read.nhn?mode=LSD&amp;...</td>\n",
       "    </tr>\n",
       "    <tr>\n",
       "      <th>510</th>\n",
       "      <td>한겨레</td>\n",
       "      <td>2020-09-20</td>\n",
       "      <td>문 대통령 방탄소년단 노래 가사 들려 따라갈 수 있겠더라</td>\n",
       "      <td>NaN</td>\n",
       "      <td>https://news.naver.com/main/read.nhn?mode=LSD&amp;...</td>\n",
       "    </tr>\n",
       "    <tr>\n",
       "      <th>675</th>\n",
       "      <td>한겨레</td>\n",
       "      <td>2020-10-14</td>\n",
       "      <td>BTS 소속사의 주식 상장이 논란에 싸인 이유 간단정리 공모주 내손안의Q 19</td>\n",
       "      <td>NaN</td>\n",
       "      <td>https://news.naver.com/main/read.nhn?mode=LSD&amp;...</td>\n",
       "    </tr>\n",
       "    <tr>\n",
       "      <th>738</th>\n",
       "      <td>중앙일보</td>\n",
       "      <td>2020-11-02</td>\n",
       "      <td>Hot Poll 방탄소년단 병역특례에 대한 중앙일보 온라인 핫 폴 결과</td>\n",
       "      <td>NaN</td>\n",
       "      <td>https://news.naver.com/main/read.nhn?mode=LSD&amp;...</td>\n",
       "    </tr>\n",
       "    <tr>\n",
       "      <th>764</th>\n",
       "      <td>중앙일보</td>\n",
       "      <td>2020-11-20</td>\n",
       "      <td>BTS 정국  잡지 피플 인터내셔널 섹시남 팬 투표 1위</td>\n",
       "      <td>NaN</td>\n",
       "      <td>https://news.naver.com/main/read.nhn?mode=LSD&amp;...</td>\n",
       "    </tr>\n",
       "    <tr>\n",
       "      <th>767</th>\n",
       "      <td>중앙일보</td>\n",
       "      <td>2020-11-20</td>\n",
       "      <td>방탄소년단 진 병역은 당연한 것나라 부름 있으면 언제든 응할 것</td>\n",
       "      <td>NaN</td>\n",
       "      <td>https://news.naver.com/main/read.nhn?mode=LSD&amp;...</td>\n",
       "    </tr>\n",
       "    <tr>\n",
       "      <th>774</th>\n",
       "      <td>경향신문</td>\n",
       "      <td>2020-11-20</td>\n",
       "      <td>불행했지만 행복했던 한해 좌절 이겨낸 힘은 멤버들 BTS 글로벌 기자간담회 일문일답</td>\n",
       "      <td>NaN</td>\n",
       "      <td>https://news.naver.com/main/read.nhn?mode=LSD&amp;...</td>\n",
       "    </tr>\n",
       "  </tbody>\n",
       "</table>\n",
       "</div>"
      ],
      "text/plain": [
       "    media        date                                           title  \\\n",
       "69   중앙일보  2020-02-12                         권혁재의 사람사진 방탄소년단이 연결한 세계   \n",
       "142  중앙일보  2020-03-03              기록 경신한 BTS 빌보드 핫 100 4위K팝 그룹 최고 순위   \n",
       "167  중앙일보  2020-03-22               민기자야 BTS 기사 쓴 기자가 직접 자기 기사 댓글 읽었다   \n",
       "203  조선일보  2020-05-04                         BTS도 먹은 달고나커피 멈출 수가 없어요   \n",
       "221  조선일보  2020-05-15           사진 BTS RM이 남긴 미술관 방명록쉽지 않은 시기 같이 이겨내요   \n",
       "348  조선일보  2020-08-22                         BTS 첫 영어곡 발표 빌보드 1위 오를까   \n",
       "415   한겨레  2020-09-02                영상 BTS 빌보드 핫 100 1위온라인 글로벌 기자간담회   \n",
       "510   한겨레  2020-09-20                 문 대통령 방탄소년단 노래 가사 들려 따라갈 수 있겠더라   \n",
       "675   한겨레  2020-10-14     BTS 소속사의 주식 상장이 논란에 싸인 이유 간단정리 공모주 내손안의Q 19   \n",
       "738  중앙일보  2020-11-02         Hot Poll 방탄소년단 병역특례에 대한 중앙일보 온라인 핫 폴 결과   \n",
       "764  중앙일보  2020-11-20                 BTS 정국  잡지 피플 인터내셔널 섹시남 팬 투표 1위   \n",
       "767  중앙일보  2020-11-20             방탄소년단 진 병역은 당연한 것나라 부름 있으면 언제든 응할 것   \n",
       "774  경향신문  2020-11-20  불행했지만 행복했던 한해 좌절 이겨낸 힘은 멤버들 BTS 글로벌 기자간담회 일문일답   \n",
       "\n",
       "    article_original                                                url  \n",
       "69               NaN  https://news.naver.com/main/read.nhn?mode=LSD&...  \n",
       "142              NaN  https://news.naver.com/main/read.nhn?mode=LSD&...  \n",
       "167              NaN  https://news.naver.com/main/read.nhn?mode=LSD&...  \n",
       "203              NaN  https://news.naver.com/main/read.nhn?mode=LSD&...  \n",
       "221              NaN  https://news.naver.com/main/read.nhn?mode=LSD&...  \n",
       "348              NaN  https://news.naver.com/main/read.nhn?mode=LSD&...  \n",
       "415              NaN  https://news.naver.com/main/read.nhn?mode=LSD&...  \n",
       "510              NaN  https://news.naver.com/main/read.nhn?mode=LSD&...  \n",
       "675              NaN  https://news.naver.com/main/read.nhn?mode=LSD&...  \n",
       "738              NaN  https://news.naver.com/main/read.nhn?mode=LSD&...  \n",
       "764              NaN  https://news.naver.com/main/read.nhn?mode=LSD&...  \n",
       "767              NaN  https://news.naver.com/main/read.nhn?mode=LSD&...  \n",
       "774              NaN  https://news.naver.com/main/read.nhn?mode=LSD&...  "
      ]
     },
     "execution_count": 4,
     "metadata": {},
     "output_type": "execute_result"
    }
   ],
   "source": [
    "news_crawled_df.loc[news_crawled_df.article_original.isna()]"
   ]
  },
  {
   "cell_type": "code",
   "execution_count": 5,
   "metadata": {
    "scrolled": true
   },
   "outputs": [
    {
     "name": "stdout",
     "output_type": "stream",
     "text": [
      "<class 'pandas.core.frame.DataFrame'>\n",
      "Int64Index: 858 entries, 0 to 870\n",
      "Data columns (total 5 columns):\n",
      " #   Column            Non-Null Count  Dtype \n",
      "---  ------            --------------  ----- \n",
      " 0   media             858 non-null    object\n",
      " 1   date              858 non-null    object\n",
      " 2   title             858 non-null    object\n",
      " 3   article_original  858 non-null    object\n",
      " 4   url               858 non-null    object\n",
      "dtypes: object(5)\n",
      "memory usage: 40.2+ KB\n"
     ]
    }
   ],
   "source": [
    "#drop na\n",
    "news_crawled_df.dropna(inplace=True)\n",
    "news_crawled_df.info()"
   ]
  },
  {
   "cell_type": "code",
   "execution_count": 6,
   "metadata": {
    "scrolled": true
   },
   "outputs": [],
   "source": [
    "# reset index\n",
    "news_crawled_df.reset_index(inplace=True)\n",
    "news_crawled_df.drop('index',inplace=True,axis=1)"
   ]
  },
  {
   "cell_type": "code",
   "execution_count": null,
   "metadata": {},
   "outputs": [],
   "source": [
    "#불용어 import\n",
    "stopwords2 = pd.read_csv('./불용어리스트2.txt',header=None)\n",
    "stopwords = list(stopwords2[0])\n",
    "stopwords"
   ]
  },
  {
   "cell_type": "code",
   "execution_count": 8,
   "metadata": {},
   "outputs": [],
   "source": [
    "#형태소 토크나이징\n",
    "from konlpy.tag import Okt\n",
    "okt = Okt()\n",
    "\n",
    "articles = news_crawled_df.article_original\n",
    "\n",
    "articles_morphed = []\n",
    "for article in articles:\n",
    "#     morph = okt.morphs(article)\n",
    "    morph = okt.nouns(article)\n",
    "    \n",
    "    stopped = ''\n",
    "    for word in morph:\n",
    "        if word not in stopwords:\n",
    "            stopped += word\n",
    "            stopped += ' '\n",
    "            \n",
    "    articles_morphed.append(stopped)"
   ]
  },
  {
   "cell_type": "code",
   "execution_count": 9,
   "metadata": {
    "scrolled": true
   },
   "outputs": [],
   "source": [
    "#형태소 분해된 컬럼 추가\n",
    "news_crawled_df['article_morphed'] = articles_morphed\n",
    "#날짜 칼럼 추가\n",
    "news_crawled_df['date_pd']=pd.to_datetime(news_crawled_df['date'])"
   ]
  },
  {
   "cell_type": "code",
   "execution_count": 11,
   "metadata": {
    "scrolled": false
   },
   "outputs": [],
   "source": [
    "#원본 date column drop\n",
    "news_crawled_df.drop(columns='date',axis=1,inplace=True)"
   ]
  },
  {
   "cell_type": "code",
   "execution_count": 12,
   "metadata": {
    "scrolled": true
   },
   "outputs": [],
   "source": [
    "#기사 날짜 14일마다 그룹화\n",
    "date_grouped = []\n",
    "date_range = pd.date_range(start='2020-01-01', end='2020-12-31',periods=13)\n",
    "L = len(date_range)\n",
    "R = len(news_crawled_df)\n",
    "\n",
    "for i, date in enumerate(date_range):\n",
    "    index_group = []\n",
    "    if i< L-1:\n",
    "        for j in range(R):\n",
    "            if date_range[i] < news_crawled_df.date_pd[j] <= date_range[i+1]:\n",
    "                index_group.append(j)\n",
    "        date_grouped.append(index_group)"
   ]
  },
  {
   "cell_type": "code",
   "execution_count": 13,
   "metadata": {},
   "outputs": [
    {
     "data": {
      "text/plain": [
       "DatetimeIndex(['2020-01-01 00:00:00', '2020-01-31 10:00:00',\n",
       "               '2020-03-01 20:00:00', '2020-04-01 06:00:00',\n",
       "               '2020-05-01 16:00:00', '2020-06-01 02:00:00',\n",
       "               '2020-07-01 12:00:00', '2020-07-31 22:00:00',\n",
       "               '2020-08-31 08:00:00', '2020-09-30 18:00:00',\n",
       "               '2020-10-31 04:00:00', '2020-11-30 14:00:00',\n",
       "               '2020-12-31 00:00:00'],\n",
       "              dtype='datetime64[ns]', freq=None)"
      ]
     },
     "execution_count": 13,
     "metadata": {},
     "output_type": "execute_result"
    }
   ],
   "source": [
    "date_range"
   ]
  },
  {
   "cell_type": "code",
   "execution_count": 14,
   "metadata": {},
   "outputs": [],
   "source": [
    "# 그룹별 tfidf 변환\n",
    "def tfidfy(time_period_no):\n",
    "    tfidf = TfidfVectorizer(lowercase=False)\n",
    "    #그룹에 있는 아티클 가져오기\n",
    "    article_group = []\n",
    "    for index in date_grouped[time_period_no]:\n",
    "      article_group.append(news_crawled_df.article_original[index])\n",
    "    #article_group = [news_crawled_df.article_original[i] for i in date_grouped[time_period_no]]\n",
    "    \n",
    "    art_group_tfidf = tfidf.fit_transform(article_group)\n",
    "    return art_group_tfidf"
   ]
  },
  {
   "cell_type": "code",
   "execution_count": 15,
   "metadata": {
    "scrolled": true
   },
   "outputs": [],
   "source": [
    "#date 그룹 내에서 유사도 높은 기사의 index 가져오는 함수\n",
    "def get_similar_art_index(group_no, art_group_tfidf, group_index):\n",
    "    # 그룹 안의 한 기사와 나머지 기사간의 similarity 비교\n",
    "    sim_pair = cosine_similarity(art_group_tfidf[group_index],art_group_tfidf)\n",
    "    # 인덱스 내림차순으로 소트\n",
    "    sorted_index = sim_pair.argsort()[:,::-1]\n",
    "    # 자기자신은 빼기\n",
    "    sorted_index = sorted_index[:,1:]\n",
    "    #print(sorted_index)\n",
    "    \n",
    "    #유사도가 큰 순으로 유사도 값을 재정렬하되 자기 자신은 제외\n",
    "    art_sim_value = np.sort(sim_pair.reshape(-1))[::-1]\n",
    "    art_sim_value = art_sim_value[1:]\n",
    "    #print(art_sim_value)\n",
    "    \n",
    "    #기사의 real 인덱스의 reference point 구하기\n",
    "    ref = 0\n",
    "    for i in range(group_no):\n",
    "        ref += len(date_grouped[i])\n",
    "\n",
    "    # 유사도가 0.3보다 높은 real 인덱스만 뽑아오기.\n",
    "    index_high = []\n",
    "    for idx, value in enumerate(art_sim_value):\n",
    "         if value>=0.2:\n",
    "            group_index = sorted_index[0][idx]\n",
    "            real_index = ref + group_index\n",
    "            index_high.append(real_index)\n",
    "            #유사 article로 참조된 횟수 카운터\n",
    "            sim_counter[real_index] += 1\n",
    "            \n",
    "    return index_high"
   ]
  },
  {
   "cell_type": "code",
   "execution_count": 16,
   "metadata": {},
   "outputs": [],
   "source": [
    "#참조 카운터\n",
    "sim_counter = np.zeros(len(news_crawled_df))\n",
    "#전체 문서에 대해, 날짜 구간 당 유사한 기사의 index를 리스트에 저장한다.\n",
    "sim_list=[]\n",
    "for group_no in range(len(date_grouped)):\n",
    "  for idx in range(len(date_grouped[group_no])):\n",
    "    art_group_tfidf = tfidfy(group_no)\n",
    "    sim_list.append(get_similar_art_index(group_no, art_group_tfidf, idx))\n",
    "\n",
    "#dataframe에 컬럼 추가\n",
    "news_crawled_df['sim_articles'] = sim_list\n",
    "news_crawled_df['sim_count'] = sim_counter"
   ]
  },
  {
   "cell_type": "code",
   "execution_count": null,
   "metadata": {
    "scrolled": true
   },
   "outputs": [],
   "source": [
    "#유사한 기사가 3개 이상이면 불러오기  --> 없어도 되는 단계\n",
    "idx_list = []\n",
    "for i,ls in enumerate(news_crawled_df['sim_articles']):\n",
    "  if len(ls)>=3:\n",
    "    idx_list.append(i)\n",
    "#print(idx_list)\n",
    "news_crawled_df.iloc[idx_list]"
   ]
  },
  {
   "cell_type": "code",
   "execution_count": 18,
   "metadata": {
    "scrolled": true
   },
   "outputs": [
    {
     "data": {
      "text/plain": [
       "[44, 108, 139, 187, 224, 269, 311, 344, 473, 626, 772, 803]"
      ]
     },
     "execution_count": 18,
     "metadata": {},
     "output_type": "execute_result"
    }
   ],
   "source": [
    "#대표 기사 뽑기 (가장 참조가 많이 된 기사)\n",
    "articles_final = []\n",
    "for group in date_grouped:\n",
    "    indx = group[0]\n",
    "    for art_indx in group:\n",
    "        if news_crawled_df.sim_count[art_indx] >= news_crawled_df.sim_count[indx]:\n",
    "            indx = art_indx\n",
    "    articles_final.append(indx)\n",
    "articles_final"
   ]
  },
  {
   "cell_type": "code",
   "execution_count": 19,
   "metadata": {},
   "outputs": [
    {
     "data": {
      "text/plain": [
       "12"
      ]
     },
     "execution_count": 19,
     "metadata": {},
     "output_type": "execute_result"
    }
   ],
   "source": [
    "# 뽑은 대표 기사 갯수\n",
    "len(articles_final)"
   ]
  },
  {
   "cell_type": "code",
   "execution_count": 20,
   "metadata": {
    "scrolled": false
   },
   "outputs": [
    {
     "name": "stderr",
     "output_type": "stream",
     "text": [
      "C:\\Users\\user\\anaconda3\\lib\\site-packages\\konlpy\\tag\\_okt.py:16: UserWarning: \"Twitter\" has changed to \"Okt\" since KoNLPy v0.4.5.\n",
      "  warn('\"Twitter\" has changed to \"Okt\" since KoNLPy v0.4.5.')\n"
     ]
    },
    {
     "name": "stdout",
     "output_type": "stream",
     "text": [
      "sim_count:  6.0\n",
      "article index:  44\n",
      "2020-01-28 00:00:00\n",
      "39년 만에 그래미 바꾼 19세 소녀 빌리 BTS는 한국 가수로 첫 공연 \n",
      "\n",
      " 2001년에 태어난 열아홉 살 소녀 빌리 아일리시가 그래미상의 역사를 다시 썼다. 방탄소년단은 한국 가수 최초로 그래미 무대에서 공연했다. 시상식에 앞선 레드카펫에선 반전反戰 트럼프 지지 등 정치 패션이 물결쳤다. 어느 해보다 이슈가 만발한 그래미 시상식이었다.  26일현지 시각 미국 로스앤젤레스 스테이플스 센터에서 열린 제62회 그래미 어워즈 시상식. 주인공은 2001년생 싱어송라이터 빌리 아일리시였다. 신인상부터 레코드상·앨범상·노래상 등 주요 부문 4개를 싹쓸이했다. 그래미 최초로 21세기에 태어난 본상 수상자다. 1981년 크리스토퍼 크로스의 4개 부문 수상 이후 39년 만. 역대 최연소 올해의 앨범상 수상자였던 테일러 스위프트당시 20세 기록도 깼다.  미국 LA에서 태어났다. 아버지는 배우 패트릭 오코넬 어머니는 배우 겸 가수 매기 베어드다. 네 살 위인 오빠 피니즈 오코넬과 함께 홈스쿨링으로 교육받았다. 네 살 때 처음 곡을 썼다. 2016년 싱글 오션 아이즈가 처음 빌보드에 오르면서 이름을 알렸다. 지난해 데뷔 앨범이 세계 차트를 휩쓸었고 미국 내 전체 판매 2위를 차지했다. 앨범 작업은 오빠와 함께한다. 대표곡 배드 가이는 중독성 있는 후렴구와 기괴한 뮤직비디오가 인상적. 그는 우울증과 외모에 심각한 결점이 있다고 생각하는 신체이형장애와 싸우고 있어 헐렁한 옷차림을 고집한다. 2018년 처음 내한했고 오는 8월 두 번째 내한 공연이 예정돼 있다.  내 가방엔 호미가 들었지I got the homis i my bag호미는 철로 만들고 한국 거고 최고지Homis made of steel from Korea theyre the beeest.  미국 인기 래퍼 릴 나스 엑스21가 자신의 히트곡 올드 타운 로드Old Tow Road를 선창한 뒤 무대가 바뀌자 그룹 방탄소년단BTS이 등장했다. 순간 무대가 회전하면서 아미BTS 팬란 단어들이 한글로 적힌 빌딩 숲 야경으로 바뀌었다. 빌리 레이 사이러스 디플로 메이슨 램지 등도 함께 무대를 펼쳤다.  지난해 시상자로 그래미에 입성한 BTS는 올해 공연자로 합류했다. 리더 RM은 현지 언론 인터뷰에서 내년에는 후보에 오르는 것이 목표라고 했다.  릴 나스 엑스와 함께 공연한 올드 타운 로드는 지난해 19주 연속 빌보드 싱글 차트 1위를 차지하며 빌보드 역대 최장 1위 기록을 작성한 히트곡. RM은 지난해 7월 올드 타운 로드를 새롭게 리믹스remix한 음원 서울 타운 로드에 참여했다.  이날 그래미의 패션은 기상천외했다. 빌리는 구찌의 형광 녹색 정장에 마스크를 쓰고 머리부터 손톱까지 녹색으로 물들인 패션으로 청중의 시선을 사로잡았다. 릴 나스 엑스는 베르사체의 형광 분홍색 카우보이 정장을 입고 등장했다. 둘 다 성별을 알 수 없는 젠더리스룩이다. 올해 50세인 빌리 포터는 파란색 크리스털 점프 슈트에 긴 장식용 술이 달린 모자를 썼다.  레드카펫에선 정치쇼가 펼쳐졌다. 이란 출신 모델 겸 배우 메간 포머는 노 워 이란이 적힌 반짝이 원피스를 입었다. 싱어송라이터 조이 빌라는 도널드 트럼프 미국 대통령의 재선을 지지하는 문구가 적힌 빨간 드레스를 리키 레벨은 트럼프 탄핵에 반대해 이거나 탄핵하시지impeach this라고 쓴 엉덩이를 드러낸 빨간색 가죽 바지를 입고 등장했다. \n",
      "\n",
      "['네 살 때 처음 곡을 썼다', ' 미국 인기 래퍼 릴 나스 엑스21가 자신의 히트곡 올드 타운 로드Old Tow Road를 선창한 뒤 무대가 바뀌자 그룹 방탄소년단BTS이 등장했다', ' 릴 나스 엑스와 함께 공연한 올드 타운 로드는 지난해 19주 연속 빌보드 싱글 차트 1위를 차지하며 빌보드 역대 최장 1위 기록을 작성한 히트곡'] \n",
      "\n",
      "sim_count:  7.0\n",
      "article index:  108\n",
      "2020-02-25 00:00:00\n",
      "방탄소년단 새 앨범 미영 양대 팝 차트 1위 전망 \n",
      "\n",
      "그룹 방탄소년단BTS이 21일 발표한 정규 4집 맵 오브 더 솔 7Map of the Soul 7이 세계 양대 팝 차트로 꼽히는 미국 빌보드와 영국 오피셜 차트에서 모두 1위를 차지할 것이 확실시된다. 이들의 이전 앨범인 맵 오브 더 솔 페르소나도 미국과 영국 차트를 동시에 석권한 바 있다.  24일현지시간 빌보드는 예고 기사와 에스엔에스SNS를 통해 방탄소년단이 지난 21일 발매한 정규 4집 맵 오브 더 솔  7이 27일까지 미국에서 30만점가량의 앨범 수치를 기록할 것으로 전망하고 다음 주 차트인 3월7일자 ‘빌보드 200에서 1위로 데뷔할 것이 예상된다고 밝혔다. 방탄소년단의 새 앨범의 판매량이 포함되는 이 차트는 오는 1일 상위 10위권부터 먼저 발표된다.  빌보드는 음반 판매량과 디지털 음원 다운로드 횟수를 앨범 판매량으로 환산한 수치 스트리밍 횟수를 앨범 판매량으로 환산한 수치를 합산해 가장 인기 있는 앨범 순위를 산정한다. 음원 10곡을 다운받거나 1500곡을 스트리밍한 경우 전통적인 음반 1장을 산 것으로 간주한다.  방탄소년단은 지난해 4월 맵 오브 더 솔 페르소나 2018년 9월 러브 유어셀프 결 앤서 2018년 6월 러브 유어셀프 전 티 등 이전 3개 앨범으로 ‘빌보드 200’ 정상에 올랐다. 빌보드는 앞선 앨범인 맵 오브 더 솔페르소나가 1위에 오르기 직전 20만∼22만5000점을 얻을 것으로 예상한 바 있다. 이와 비교하면 30만점이라는 수치는 전작 성적을 훌쩍 뛰어넘은 것이다.  빌보드는 방탄소년단의 새 앨범이 최근 미국 내 음반 마케팅으로 주로 활용되는 콘서트 티켓이나 기념상품과 패키지 판매를 하지 않고도 1위를 차지한다는 점에 주목했다.  오피셜 차트는 같은 날 방탄소년단이 새 앨범으로 ‘두 번째 영국 오피셜 넘버원 앨범 예약’했다는 제목의 기사를 통해 “맵 오브 더 솔7으로 두 번째 영국 앨범 차트 1위를 향해 가고 있다”고 보도했다. “방탄소년단 새 앨범은 이번 주 음반 판매와 다운로드 수치에서 현재까지 경쟁작 3개의 앨범을 합친 것보다 더 높은 판매고를 올렸다”고 오피셜 차트 쪽이 덧붙여 압도적인 1위를 예고했다. 방탄소년단의 전작 맵 오브 더 솔  페르소나로 한국 가수로는 처음으로 영국 오피셜 앨범 차트 정상에 오른 바 있다. 오피셜 차트는 28일께 공식 발표된다.  단일 곡의 성적을 보여주는 싱글 차트에서도 어떤 성적을 낼지 주목된다. 앞서 ‘작은 것들을 위한 시Boy With Luv’는 빌보드 종합 싱글 차트인 ‘핫 100’에서 8위까지 올랐고 오피셜 차트에서는 13위를 기록한 바 있다. \n",
      "\n",
      "['그룹 방탄소년단BTS이 21일 발표한 정규 4집 맵 오브 더 솔 7Map of the Soul 7이 세계 양대 팝 차트로 꼽히는 미국 빌보드와 영국 오피셜 차트에서 모두 1위를 차지할 것이 확실시된다', ' 오피셜 차트는 같은 날 방탄소년단이 새 앨범으로 ‘두 번째 영국 오피셜 넘버원 앨범 예약’했다는 제목의 기사를 통해 “맵 오브 더 솔7으로 두 번째 영국 앨범 차트 1위를 향해 가고 있다”고 보도했다', '방탄소년단의 전작 맵 오브 더 솔  페르소나로 한국 가수로는 처음으로 영국 오피셜 앨범 차트 정상에 오른 바 있다'] \n",
      "\n"
     ]
    },
    {
     "name": "stderr",
     "output_type": "stream",
     "text": [
      "C:\\Users\\user\\anaconda3\\lib\\site-packages\\konlpy\\tag\\_okt.py:16: UserWarning: \"Twitter\" has changed to \"Okt\" since KoNLPy v0.4.5.\n",
      "  warn('\"Twitter\" has changed to \"Okt\" since KoNLPy v0.4.5.')\n",
      "C:\\Users\\user\\anaconda3\\lib\\site-packages\\konlpy\\tag\\_okt.py:16: UserWarning: \"Twitter\" has changed to \"Okt\" since KoNLPy v0.4.5.\n",
      "  warn('\"Twitter\" has changed to \"Okt\" since KoNLPy v0.4.5.')\n"
     ]
    },
    {
     "name": "stdout",
     "output_type": "stream",
     "text": [
      "sim_count:  14.0\n",
      "article index:  139\n",
      "2020-03-02 00:00:00\n",
      "BTS 4연속 빌보드 정상비틀스 이래 최단기간 달성 그룹 \n",
      "\n",
      "그룹 방탄소년단BTS의 새 앨범 맵 오브 더 솔  7MAP OF THE SOUL  7이 영국 오피셜 차트에 이어 빌보드까지 양대 팝 차트 1위에 올랐다. 한국 가수로서는 최초로 오피셜 차트에서 두 번 연속 정상에 오른 것은 물론 빌보드에서는 비틀스 이후 최단기간 동안 4개 앨범을 1위에 올려놓은 가수라는 기록을 쓰게 됐다.  미국 빌보드는 1일현지시각 방탄소년단의 새 앨범 맵 오브 더 솔  7이 메인 앨범 차트인 ‘빌보드 200 최신 차트3월7일자에서 1위에 올랐다고 밝혔다. 이번 앨범은 지난달 28일 영국·독일·프랑스 등의 오피셜 앨범차트 1위에 올랐고 일본 오리콘차트 1위도 차지했다. 유럽과 일본을 넘어 미국까지 글로벌 앨범 시장을 모두 석권한 셈이다.  ‘빌보드 200’은 빌보드 양대 차트‘빌보드 200’ ‘핫 100’ 중 하나로 메인 앨범 순위를 매기는 차트다. 실물 음반 판매량에다 스트리밍 횟수와 디지털 음원 다운로드 횟수를 각각 앨범 판매량으로 환산한 수치를 합산해 순위를 매긴다. 음원 10곡을 다운받거나 1500곡을 스트리밍한 경우 음반 1장을 산 것으로 간주한다.  빌보드가 인용한 닐슨뮤직 데이터의 자료를 보면 지난달 21일 발매된 이 앨범은 27일까지 총 42만2000장의 판매고를 올렸다. 이 가운데 실물 앨범 판매량은 34만7000장이다. 이외에 스트리밍 횟수를 앨범 판매량으로 환산한 수치가 4만8000장 디지털 음원 다운로드 횟수를 앨범 판매량으로 환산한 수치는 2만6000장으로 집계됐다.  방탄소년단은 이번 1위로 아시아에선 처음으로 네 장의 앨범을 연이어 빌보드 정상에 올린 가수가 됐다. 방탄소년단은 2018년 6월 러브 유어셀프 전 티어로 ‘빌보드 200’ 1위에 처음 올랐다. 이후 2018년 9월 러브 유어셀프 결 앤서 지난해 4월 맵 오브 더 솔 페르소나에 이어 이번 앨범까지 1년9개월 만에 4회 연속 ‘빌보드 200’ 1위를 차지했다.  빌보드는 “방탄소년단이 영국의 전설적인 밴드 비틀스 이래 최단기간 동안 빌보드 200에서 4개 앨범 1위를 달성한 가수가 됐다”고 전했다. 앞서 비틀스는 지난 1966년 7월 예스터데이 앤 투데이부터 1968년 1월 매지컬 미스터리 투어까지 1년5개월 만에 4장의 앨범 모두를 ‘빌보드 200’ 1위에 올린 바 있다.  이젠 방탄소년단이 단일 곡의 성적을 보여주는 싱글 차트에서 어떤 성적을 낼지가 주목거리다. 앞서 ‘작은 것들을 위한 시Boy With Luv’는 빌보드 종합 싱글 차트인 ‘핫 100’에서 8위까지 올랐고 영국 오피셜 차트에서는 13위를 기록한 바 있다. \n",
      "\n",
      "[' 미국 빌보드는 1일현지시각 방탄소년단의 새 앨범 맵 오브 더 솔  7이 메인 앨범 차트인 ‘빌보드 200 최신 차트3월7일자에서 1위에 올랐다고 밝혔다', '이번 앨범은 지난달 28일 영국·독일·프랑스 등의 오피셜 앨범차트 1위에 올랐고 일본 오리콘차트 1위도 차지했다', ' 방탄소년단은 이번 1위로 아시아에선 처음으로 네 장의 앨범을 연이어 빌보드 정상에 올린 가수가 됐다'] \n",
      "\n",
      "sim_count:  3.0\n",
      "article index:  187\n",
      "2020-04-19 00:00:00\n",
      "방구석에서 BTS 만났다 방방콘에 전세계 200만명 열광 \n",
      "\n",
      " 방탄소년단BTS이 유튜브를 통해 ‘방에서 즐기는 방탄소년단 콘서트방방콘’을 열었다. 코로나 바이러스 확산으로 콘서트 투어가 취소·연기되면서 아쉬워하는 팬들을 위해 준비한 이벤트다. 소속사 빅히트 엔터테인먼트는 1819일 이틀간 24시간 동안 20152018년 콘서트와 팬 미팅 실황을 무료로 공개했다. 18일 정오 공개하자마자 동시 접속자 수 210만명을 기록했고 19일 오후 1시 현재 190만명이 시청 중이다.  2015년 ‘BTS LIVE 화양연화 ON STAGE’ 콘서트부터 2018년 열린 팬미팅 실황까지 총 8부로 구성됐다. 실제 공연처럼 중간 중간엔 멤버들의 재치있는 인터미션 영상도 준비됐다. 멤버 진은 “공연에 찾아와주신 아미ARMY 여러분께 감사의 말씀 드리며 원활한 공연 진행을 위해 몇 가지 안내 말씀을 드린다”면서 “공연 중 음식물 섭취가 가능하고 자리 이동을 하셔도 괜찮다”고 했다. 멤버 제이홉도 “방방콘에선 공연 중 흥에 못 이겨 일어나거나 춤을 추셔도 완전 괜찮다”고 공연을 즐기는 법을 안내했다.  팬들은 블루투스를 이용해 전 세계 응원봉아미밤을 연동해 방 안에서도 공연을 감상하며 응원을 즐겼다. 빅히트가 개발한 플랫폼 ‘위버스’에서 콘서트 영상을 재생하고 응원봉을 연결하면 공연장에 있는 것처럼 노래에 따라 응원봉의 색깔이 실시간으로 바뀐다.  전 세계 팬들은 유튜브 실시간 채팅은 물론 ‘BagBagCo’ 해시태그를 통해 공연을 감상하는 모습들을 인증하며 콘서트를 즐기고 있다. 며칠 전부터 ‘방방콘 준비하기’ 사진과 영상들도 올라왔다. 직접 도안한 디자인으로 ‘방방콘’ 티켓을 만들고 허전한 옆좌석을 대체할 방탄소년단 인형을 준비하는 등 센스있는 응원법으로 콘서트에 가지 못한 아쉬움을 달랬다.  코로나 바이러스 여파로 4월 예정이었던 서울 콘서트를 취소한 방탄소년단은 북미 투어 일정 역시 잠정 연기했다. 리더 RM은 17일 유튜브 ‘방탄TV’를 통해 “앞으로 일주일에 한번씩 일상을 공유하겠다”고 밝혔다. 첫 주자로 나선 그는 “콘서트가 연기되고 사태가 장기화되면서 새로운 걸 해보자는 결론에 다다르게 됐다”고 설명하며 “새로운 앨범을 준비하는 과정을 담아보려 한다”고 새 앨범 소식을 함께 알렸다. \n",
      "\n",
      "['실제 공연처럼 중간 중간엔 멤버들의 재치있는 인터미션 영상도 준비됐다', '멤버 제이홉도 “방방콘에선 공연 중 흥에 못 이겨 일어나거나 춤을 추셔도 완전 괜찮다”고 공연을 즐기는 법을 안내했다', ' 전 세계 팬들은 유튜브 실시간 채팅은 물론 ‘BagBagCo’ 해시태그를 통해 공연을 감상하는 모습들을 인증하며 콘서트를 즐기고 있다'] \n",
      "\n"
     ]
    },
    {
     "name": "stderr",
     "output_type": "stream",
     "text": [
      "C:\\Users\\user\\anaconda3\\lib\\site-packages\\konlpy\\tag\\_okt.py:16: UserWarning: \"Twitter\" has changed to \"Okt\" since KoNLPy v0.4.5.\n",
      "  warn('\"Twitter\" has changed to \"Okt\" since KoNLPy v0.4.5.')\n",
      "C:\\Users\\user\\anaconda3\\lib\\site-packages\\konlpy\\tag\\_okt.py:16: UserWarning: \"Twitter\" has changed to \"Okt\" since KoNLPy v0.4.5.\n",
      "  warn('\"Twitter\" has changed to \"Okt\" since KoNLPy v0.4.5.')\n"
     ]
    },
    {
     "name": "stdout",
     "output_type": "stream",
     "text": [
      "sim_count:  5.0\n",
      "article index:  224\n",
      "2020-05-18 00:00:00\n",
      "이태원 아이돌 목격담 사실이었다BTS 정국 등 4명 공식 사과 \n",
      "\n",
      " 18일 인터넷 매체 ‘디스패치’에 따르면 ‘방탄소년단BTS’ 정국 ‘아스트로’ 차은우 ‘NCT’ 재현 ‘세븐틴’ 민규 등 4명의 가수들이 지난달 25일 저녁부터 26일 새벽 사이 이태원의 음식점과 주점을 함께 방문했다. 이들은 1997년생 아이돌들의 모임인 ‘97모임’의 주축으로 알려졌다.  지난 6일 용인 66번 확진자가 코로나19 판정을 받은 뒤 이태원 클럽발 재확산 파문이 불거지자 일부 인터넷 커뮤니티에선 지난달 말 이태원 인근에서 아이돌 멤버를 봤다는 목격담이 급속도로 퍼지기 시작했다.  이들이 이태원을 방문한 지난달 25∼26일은 용인 66번 확진자가 이태원 클럽을 방문한 지난 1∼2일보다 1주일 가량 앞서지만 정부가 코로나 진단검사를 권고한 시기4월 24일∼5월 6일에는 포함된다. 이들은 모두 코로나 진단검사를 받아 음성 판정을 받았다.  BTS 정국 소속사인 빅히트엔터테인먼트는 18일 “정국이 이태원에 방문했다는 것은 사실이다. 그러나 방문 당시 5월 초 확진자 발생으로 문제가 된 장소에는 가지 않았고 첫 확진자가 이태원에 간 날짜보다 약 1주일 전이었다”고 밝혔다.  그러면서 “정국은 지난 4월 25일 저녁 지인들과 함께 이태원 소재 음식점 및 주점을 방문했다. 방문 이후 기침 발열 등 코로나19 증상은 없었으며 자발적으로 선별 진료소에서 검사를 받았고 음성으로 판정되었다. 현재 아티스트 본인도 사회적 거리두기에 대한 전 사회적 노력에 충실히 동참하지 않은 점을 깊이 반성하고 있다”고 전했다.  또 그동안 이태원 방문 사실을 밝히지 않은 이유에 대해  “정부 지침에 따라 자발적으로 코로나19 검사를 받는 등의 조치를 취했기 때문에 당사는 아티스트의 개인적인 일상을 대외적으로 공개하는 것이 적절하지 않다고 판단했다. 그러나 이 판단은 아티스트의 소속사로서 사회적 거리두기의 엄중함을 명확하게 인식하지 못하고 아티스트의 사생활 보호를 더 앞세웠다는 점에서 변명의 여지가 없다”며 사과했다.  ‘NCT’ 재현 소속사인 SM엔터테인먼트도 이날 “코로나 19로 인해 많은 분들이 어려움을 겪고 있는 상황에 심려를 끼쳐드려 죄송하다”는 공식 입장문을 냈다.  “재현은 지난 4월 25일 친구들과 이태원에 위치한 식당 및 바에 방문했으나 문제가 된 특정 클럽에는 가지 않았고 확진자가 이태원을 다녀가기 7일 전이었다”며 “재현은 증상은 없지만 이태원 클럽에서 시작된 코로나 19가 확산되면서 자진해서 코로나 19 진단 검사를 받아 음성 판정을 받았다”고 밝혔다.  이어 “재현은 모두가 일상적인 만남을 자제하고 사회적 거리두기를 해야하는 기간에 조심하지 못했던 부분에 대해 깊이 반성하고 있다. 당사 역시 아티스트가 개인적인 시간에도 철저히 사회적 거리두기를 지킬 수 있도록 지도하고 관리했어야 했는데 부족했던 점 깊이 사과드린다”고 거듭 사과했다.  ‘아스트로’ 차은우 소속사인 판타지오도 “차은우는 지난 4월 25일 이태원에 다녀온 것으로 확인되었다. 당사의 관리 소홀로 인해 모두와의 약속인 ‘사회적 거리두기’를 지키지 못하고 심려를 끼쳐드려 죄송하다”고 공식입장문을 냈다.  “차은우는 5월 초 확진자 발생으로 문제가 된 장소에는 가지 않았고 당사는 질병관리 본부에 코로나 선별 검사 대상 여부 문의 결과 증상이 없다면 검사가 강제 권고 사항은 아니라는 답변을 받았다. 하지만 아티스트와 주변 사람들의 건강 상태와 안전을 위해 이미 선별 진료소에서 검사를 진행했으며 음성 판정을 받았다”면서 “이유 여하를 막론하고 모든 국민이 사회적 거리두기를 실천하고 있는 현시점에 소속 아티스트인 차은우가 이태원 인근에 방문한 것은 경솔한 행동이었으며 현재 아티스트 본인도 사회적 거리두기 노력에 충실한 노력을 기울이지 않은 부분을 깊이 반성하고 있다”고 밝혔다.  ‘세븐틴’ 민규 소속사 플레디스 역시 “소속 아티스트 세븐틴 멤버 민규의 이태원 방문 관련 보도에 대해 많은 분들께 심려를 끼쳐드려 진심으로 사죄의 말씀드린다”며 공식 사과했다.  “민규는 정부의 사회적 거리두기 기간 중 사회적 규범을 지키지 못한 점에 대해 본인의 잘못된 행동을 깊이 반성하고 있다.  중앙방역대책 본부의 권고에 따라 해당 기간 내 방문한 사실을 확인한 직후 기침 발열 등의 코로나19 증상은 없었으나 주변인에게 피해를 끼칠 것을 우려해 자발적으로 선별 진료소에서 코로나19 진단 검사를 받았고 음성 판정 결과 이후 자가 격리 및 개인위생 수칙을 철저히 진행해 왔다”면서 “당사 역시 소속 아티스트를 제대로 관리하지 못하여 이와 같은 일이 발생하게 된 점에 대하여 깊이 책임을 통감하고 있다”고 했다. \n",
      "\n",
      "[' “재현은 지난 4월 25일 친구들과 이태원에 위치한 식당 및 바에 방문했으나 문제가 된 특정 클럽에는 가지 않았고 확진자가 이태원을 다녀가기 7일 전이었다”며 “재현은 증상은 없지만 이태원 클럽에서 시작된 코로나 19가 확산되면서 자진해서 코로나 19 진단 검사를 받아 음성 판정을 받았다”고 밝혔다', '하지만 아티스트와 주변 사람들의 건강 상태와 안전을 위해 이미 선별 진료소에서 검사를 진행했으며 음성 판정을 받았다”면서 “이유 여하를 막론하고 모든 국민이 사회적 거리두기를 실천하고 있는 현시점에 소속 아티스트인 차은우가 이태원 인근에 방문한 것은 경솔한 행동이었으며 현재 아티스트 본인도 사회적 거리두기 노력에 충실한 노력을 기울이지 않은 부분을 깊이 반성하고 있다”고 밝혔다', '중앙방역대책 본부의 권고에 따라 해당 기간 내 방문한 사실을 확인한 직후 기침 발열 등의 코로나19 증상은 없었으나 주변인에게 피해를 끼칠 것을 우려해 자발적으로 선별 진료소에서 코로나19 진단 검사를 받았고 음성 판정 결과 이후 자가 격리 및 개인위생 수칙을 철저히 진행해 왔다”면서 “당사 역시 소속 아티스트를 제대로 관리하지 못하여 이와 같은 일이 발생하게 된 점에 대하여 깊이 책임을 통감하고 있다”고 했다'] \n",
      "\n"
     ]
    },
    {
     "name": "stderr",
     "output_type": "stream",
     "text": [
      "C:\\Users\\user\\anaconda3\\lib\\site-packages\\konlpy\\tag\\_okt.py:16: UserWarning: \"Twitter\" has changed to \"Okt\" since KoNLPy v0.4.5.\n",
      "  warn('\"Twitter\" has changed to \"Okt\" since KoNLPy v0.4.5.')\n"
     ]
    },
    {
     "name": "stdout",
     "output_type": "stream",
     "text": [
      "sim_count:  6.0\n",
      "article index:  269\n",
      "2020-06-08 00:00:00\n",
      "BTS가 졸업생들에게조급해 말고 잠시 멈춰서자 지금이 기회일지도 \n",
      "\n",
      "“스무살 무렵 저는 데뷔도 하지 않았고 이제 막 대학 입학을 앞둔 평범한 졸업생이었습니다. 그때의 전 성인이 되는 것이 두려웠어요. 때로는 앞서가는 친구들이 신경쓰이고 조급한 마음이 들 때도 있었습니다. 그때마다 저를 지탱해준 건 천천히 가자는 저 스스로의 다짐이었습니다. 저는 걸음이 느린 대신 남들보다 조금 더 시간을 들이는 습관을 갖게 됐습니다. 춤 연습을 할 때도 멤버들보다 조금 앞서 준비를 시작하곤 하죠. 어디로 가야 할지 모르겠다면 조급해하지 말고 잠시 멈추어 보세요. 어쩌면 지금 이 순간은 우리에게 주어진 기회일지도 모르겠습니다.” 방탄소년단 진  유튜브가 코로나 여파로 오프라인 졸업식에 참석하지 못한 졸업생들을 위해 지난 7일현지시각 주최한 가상 졸업식 ‘디어 클래스 오브 2020Dear Class of 2020’에 BTS가 유일한 한국인 연사로 참석했다. BTS는 검은 정장을 입고 서울 용산구 국립중앙박물관에서 12분가량 영상을 촬영했다. 리더인 RM은 영어로 말했고 다른 멤버들은 한국어로 말하고 영어 자막이 나왔다.  최근 낸 솔로 앨범이 화제와 논란을 동시에 일으킨 슈가는 “요즘 저는 한참 달리다가 넘어진 것 같은 기분”이라며 “그리고 다시 일어나 주위를 둘러보니 주변에는 아무것도 없고 섬 안에 갇혀버린 것만 같다”고 말했다. 그는 이어 “섬이기 때문에 할 수 있는 것들도 있다. 오로지 나 자신에게 집중하는 것. 그리고 나 자신의 틀을 깨버리는 것”이라며 “우리 모두 통제 불가능한 것에서 손을 떼고 통제 가능한 것부터 손을 대셨으면 한다. 우리가 유일하게 통제할 수 있는 건 우리 자신뿐”이라고 말했다.  지민은 “슈가형이 섬에 갇히신 것 같다고 했지만 그래도 절대 포기하시지는 않았으면 좋겠다”며 위로의 말을 건넸다. 그는 “여기 한국이라는 나라 서울이라는 도시에 나를 이해해주는 누군가가 있다는 점을 꼭 기억해주셨으면 좋겠다”며 “우리 모두 각자 다른 환경에 살고 있고 다른 상황에 처해 있지만 적어도 이 순간만큼은 ‘우리 다 같이 괜찮다’라고 서로 위로해줬으면 좋겠다”고 말했다.  제이홉은 “노래를 만들고 춤을 추다 보면 막다른 골목에 다다를 때가 있다. 머릿속이 새하얗게 바뀌어 더 이상 앞으로 나가기 어려워지기도 한다”며 “그럴 때딱 한 번만 더 라는 생각이 저를 일으켜 세울 때가 많다. 나 자신을 한번 믿어보는 거다”고 말했다.  뷔도 “사실 저는 노래와 춤의 재능을 타고나지도 않았고 끈기가 있는 편도 아니었다. 사실 친구들보다 부족했고 시작도 늦었지만 춤추고 노래하는 즐거움에 푹 빠지게 됐다”며 “지금 졸업을 앞두고 뭘 해야 할지 보이지 않아 힘든 분들이 있다면 한 번 여러분의 진심에 기대어 봐라. 지금은 조금 힘들어도 그 끝자락 어딘가에 기회와 행운이 기다리고 있지 않을까”라고 말했다.  멤버 중 막내인 정국은 “제 졸업식은 유튜브 ‘방탄밤’ 채널에 기록돼 있다. 고등학교 시작과 끝에는 항상 멤버들이 있다”며 “지금의 저는 나를 믿고 멤버들을 믿고 세상을 믿으면서 지금 이 자리에 멤버들과 함께 서 있다. 그러니까 여러분들도 앞으로 여러분들을 위해서 한 걸음씩 나아가고 끊임없이 달려가셨으면 좋겠다”고 말했다.  리더 RM은 “비록 오늘 꽃다발과 학사모는 없지만 오늘은 역사상 가장 특별한 졸업식이 될 것”이라며 “역사상 가장 많은 사람들이 연결하여 한 졸업반의 성과 그리고 꿈을 축하하기 위해 모였다”고 말했다. 그는 이어 “저희는 여느 또래들과 마찬가지로 아직 학사모를 벗지 못한 채 날 것의 세상과 마주하는 아직도 서툰 20대”라며 “음악을 통할 때 우리는 세계의 모두와 연결돼 있음을 느끼고 이 두려운 시기에 서로에게 웃음과 용기를 전한다”고 말했다.  이날 행사에는 버락 오바마 전 미국 대통령 부부 순다르 피차이 구글 최고경영자CEO 최연소 노벨평화상 수상자인 말랄라 유사프자이 로버트 게이츠 전 미국 국방장관 콘돌리자 라이스 전 미국 국무장관 등 다양한 명사들이 연사로 참여했다.  팝스타들도 대거 참여해 축사와 짧은 메시지 공연 등을 선사했다. 비욘세는 “조지 플로이드 등 흑인들의 잇단 죽음이 우리 모두를 낙담하게 했다”면서도 “우리 모두 마음을 모아 긍정적 행동으로 옮기면 변화의 바퀴를 돌릴 수 있음을 봤다. 진정한 변화는 여러분 새로운 세대에게서 시작된다”고 말했다.  레이디 가가는 “여러분은 이 나라의 변화 과정에서 중대한 순간을 목격하고 있다”며 “변화는 일어날 것이고 그것은 좋은 방향일 것”이라고 말했다. 얼리샤 키스는 “정의를 위한 싸움이 어디로 향하든 언제나 여러분 곁에 있겠다”고 말했다. 이외에도 U2 리더 보노 저스틴 팀버레이크 션 멘데스 테일러 스위프트 제니퍼 로페즈 빌리 아일리시 등이 등장해 졸업생들에게 축하 메시지를 전했다.  축하 공연으로는 케이티 페리 래퍼 메건 더 스탤리언 라틴 팝 보이밴드 CNCO에 이어 BTS가 마지막 무대를 장식했다. 국립중앙박물관을 배경으로 BTS는 ‘작은 것들을 위한 시’ ‘봄날’ ‘소우주’ 등을 불렀다. 소우주의 가사는 이렇다. \n",
      "\n",
      "['사실 친구들보다 부족했고 시작도 늦었지만 춤추고 노래하는 즐거움에 푹 빠지게 됐다”며 “지금 졸업을 앞두고 뭘 해야 할지 보이지 않아 힘든 분들이 있다면 한 번 여러분의 진심에 기대어 봐라', ' 리더 RM은 “비록 오늘 꽃다발과 학사모는 없지만 오늘은 역사상 가장 특별한 졸업식이 될 것”이라며 “역사상 가장 많은 사람들이 연결하여 한 졸업반의 성과 그리고 꿈을 축하하기 위해 모였다”고 말했다', '그는 이어 “저희는 여느 또래들과 마찬가지로 아직 학사모를 벗지 못한 채 날 것의 세상과 마주하는 아직도 서툰 20대”라며 “음악을 통할 때 우리는 세계의 모두와 연결돼 있음을 느끼고 이 두려운 시기에 서로에게 웃음과 용기를 전한다”고 말했다'] \n",
      "\n",
      "sim_count:  3.0\n",
      "article index:  311\n",
      "2020-07-23 00:00:00\n",
      "방탄소년단 전 세계 75만명 본 방방콘으로 기네스 기록 추가 \n",
      "\n",
      "방탄소년단BTS이 온라인 콘서트 ‘방방콘 더 라이브’이하 방방콘로 기네스 신기록을 추가했다. 영국 기네스 월드레코드는 22일현지시간 “방방콘이 최다 시청자가 본 라이브 스트리밍 음악 콘서트로 새로운 기네스 세계기록을 달성했다”고 밝혔다.  지난달 14일 팬 커뮤니티 플랫폼 위버스샵에서 생중계된 방방콘은 전 세계 107개 국가 및 지역에서 75만6000명이 관람했다. 5만 명 이상 수용 가능한 스타디움 공연을 15회 진행한 것과 맞먹는 수치다. 유료 팬클럽 가입자는 2만9000원 미가입자는 3만9000원에 제공돼 220억원에 달하는 수익을 올렸다.  기네스는 “방탄소년단은 K팝 아티스트 최초 미국 앨범 차트 1위 기록을 포함해 한국 최다 앨범 판매량 트위터 최다 활동평균 리트윗 수 최단 시간 틱톡 팔로워 100만 명 돌파 등 다수의 기네스 기록을 보유하고 있다”고 덧붙였다. 방탄소년단 팬클럽 아미도 지난해 ‘트위터 베스트 팬덤TwierBestFadom’라는 해시태그를 6005만 5399회 달아 ‘24시간 동안 가장 많이 사용된 트위터 해시태그’ 기록을 세우기도 했다.  방탄소년단은 지난 15일 발매한 일본 정규 4집 ‘맵 오브 더 솔 7더 저니MAP OF THE SOUL  7  THE JOURNEY ’로도 신기록 행진을 이어가고 있다. 발매 첫 주 56만 4298장을 판매해 오리콘 주간 앨범 차트 1위에 올랐다. 올해 일본에서 발매된 앨범 중 가장 높은 초동 판매량이며 역대 해외 남성 아티스트 앨범 중에서도 최고 기록이다. \n",
      "\n",
      "['방탄소년단BTS이 온라인 콘서트 ‘방방콘 더 라이브’이하 방방콘로 기네스 신기록을 추가했다', '영국 기네스 월드레코드는 22일현지시간 “방방콘이 최다 시청자가 본 라이브 스트리밍 음악 콘서트로 새로운 기네스 세계기록을 달성했다”고 밝혔다', ' 기네스는 “방탄소년단은 K팝 아티스트 최초 미국 앨범 차트 1위 기록을 포함해 한국 최다 앨범 판매량 트위터 최다 활동평균 리트윗 수 최단 시간 틱톡 팔로워 100만 명 돌파 등 다수의 기네스 기록을 보유하고 있다”고 덧붙였다'] \n",
      "\n"
     ]
    },
    {
     "name": "stderr",
     "output_type": "stream",
     "text": [
      "C:\\Users\\user\\anaconda3\\lib\\site-packages\\konlpy\\tag\\_okt.py:16: UserWarning: \"Twitter\" has changed to \"Okt\" since KoNLPy v0.4.5.\n",
      "  warn('\"Twitter\" has changed to \"Okt\" since KoNLPy v0.4.5.')\n",
      "C:\\Users\\user\\anaconda3\\lib\\site-packages\\konlpy\\tag\\_okt.py:16: UserWarning: \"Twitter\" has changed to \"Okt\" since KoNLPy v0.4.5.\n",
      "  warn('\"Twitter\" has changed to \"Okt\" since KoNLPy v0.4.5.')\n"
     ]
    },
    {
     "name": "stdout",
     "output_type": "stream",
     "text": [
      "sim_count:  7.0\n",
      "article index:  344\n",
      "2020-08-23 00:00:00\n",
      "BTS 다이너마이트 신기록 폭발최단 시간 1억뷰 달성스포티파이 1위 \n",
      "\n",
      " ‘다이너마이트’ 뮤직비디오는 공개 24시간30분 만에 조회수 1억뷰을 돌파했다. 유튜브 뮤직비디오 사상 방탄소년단 뮤직비디오 사상 가장 빠른 기록이다.  지난 22일 소속사 빅히트엔터테인먼트는 방탄소년단이 전날 오후 1시 공개한 ‘다이너마이트’ 뮤직비디오가 이날 오후 1시30분쯤 유튜브에서 조회수 1억뷰를 넘겼다고 밝혔다. 공개된 지 약 24시간30분 만에 세운 기록이다. 이는 지난 6월 32시간 만에 1억뷰를 달성하며 유튜브 뮤직비디오 사상 최단 기록을 세웠던 블랙핑크 ‘하우 유 라이크 댓How You Like That’보다 약 7시간 앞당긴 기록이다. 앞서 방탄소년단 사상 최단 시간 1억뷰 달성 뮤직비디오로 기록된 ‘작은 것들을 위한 시Boy With Luv’의 37시간37분보다도 13시간 빠르다.  앞서 ‘다이너마이트’ 뮤직비디오는 공개 시점에 동시 접속자 수 300만명을 넘겨 유튜브 프리미어 뮤직비디오 역대 최고 시청 기록을 달성하기도 했다. 아울러 공개 20여 분 만에 1000만뷰 1시간14분 만에 2000만뷰 3시간 만에 3000만뷰를 넘기는 등 빠른 속도로 조회수를 높였다. ‘다이너마이트’ 뮤직비디오까지 1억뷰를 찍으면서 방탄소년단은 총 26편의 억대뷰 뮤직비디오를 보유하게 됐다. 이는 국내 가수 중 최다 기록이다.  방탄소년단은 세계 최대 음악 스트리밍 업체인 스포티파이에서도 ‘신기록’을 써나가고 있다. 지난 22일 스포티파이가 발표한 최신 차트21일자에 따르면 전날 공개된 방탄소년단의 ‘다이너마이트’는 ‘글로벌 톱 50’ 차트에서 1위로 진입했다. 스포티파이 글로벌 톱 50 정상에 오른 한국 가수는 방탄소년단이 처음이다. ‘다이너마이트’는 발매 첫날 전 세계적으로 777만8950회 스트리밍돼 올해 스포티파이 집계에서 발매 첫날 최다 글로벌 스트리밍 기록을 세웠다. 앞서 지난 6월 블랙핑크는 ‘하우 유 라이크 댓’은 이 차트 2위로 진입한 바 있다.  ‘다이너마이트’는 청량한 멜로디가 돋보이는 디스코 팝 장르의 곡으로 코로나19로 힘든 시기를 보내고 있는 모두를 위한 희망의 메시지를 담았다. ‘행복’과 ‘자신감’을 풀어낸 가사를 통해 삶의 소중함과 인생의 특별함을 전하는 방탄소년단만의 ‘힐링송’이다. 방탄소년단은 오는 24일 오후 1시 EDM일렉트로닉 댄스 뮤직과 어쿠스틱 버전의 ‘다이너마이트’ 음원을 발매한다. \n",
      "\n",
      "['‘다이너마이트’ 뮤직비디오는 공개 24시간30분 만에 조회수 1억뷰을 돌파했다', '이는 지난 6월 32시간 만에 1억뷰를 달성하며 유튜브 뮤직비디오 사상 최단 기록을 세웠던 블랙핑크 ‘하우 유 라이크 댓How You Like That’보다 약 7시간 앞당긴 기록이다', ' 앞서 ‘다이너마이트’ 뮤직비디오는 공개 시점에 동시 접속자 수 300만명을 넘겨 유튜브 프리미어 뮤직비디오 역대 최고 시청 기록을 달성하기도 했다'] \n",
      "\n",
      "sim_count:  25.0\n",
      "article index:  473\n",
      "2020-09-15 00:00:00\n",
      "방탄소년단 미국 빌보드 싱글 차트 2위3주째 최상위권 \n",
      "\n",
      " 빌보드는 14일이하 현지시간 방탄소년단 ‘다이너마이트’가 메인 싱글 차트인 ‘핫 100’에서 발매 3주 차인 이번 주 2위를 차지했다고 밝혔다. 지난달 21일 공개한 방탄소년단의 디지털 싱글 ‘다이너마이트’는 발매 한국 가수 최초로 첫 주 핫 100에 1위로 데뷔한 뒤 2주 연속 정상을 지켰다. 1위 데뷔 후 2주 연속 정상을 유지한 곡은 빌보드 사상 20곡에 불과하다.  ‘다이너마이트’가 발매 3주차에도 미국 내 대중적 흥행의 척도로 불리는 빌보드 100에서 최상위권을 기록한 것은 이 곡이 미국 내에서 지속적인 인기를 누리고 있음을 보여준다. 핫 100은 매주 미국 내 스트리밍 실적과 음원 판매량 라디오 방송 횟수 등을 종합해 순위를 낸다.  빌보드에 따르면 ‘다이너마이트’의 발매 3주 차9월 4∼10일 미국 내 스트리밍은 전주보다 24 줄어든 1330만 회를 기록했다. 다운로드음원 판매도 전주보다 25 줄어들기는 했지만 13만 6000건이라는 높은 수치를 보였다. 발매 후 3주 연속으로 13만 6000건 이상의 다운로드를 기록한 곡은 2016년 체인스모커스와 할시의 ‘클로저’ 이후 처음이라고 빌보드는 밝혔다. 방탄소년단은 ‘디지털 송 세일즈’ 차트에서 3주 연속 1위를 차지했다.  미국 일반 대중에게 노래가 노출되는 창구인 라디오에서도 계속해서 인기가 상승하고 있다. ‘다이너마이트’는 전주보다 14보다 늘어난 1840만명의 라디오 청취자에게 노출됐다. 빌보드는 이 곡이 모든 장르의 라디오 방송 횟수로 집계하는 라디오 차트인 ‘라디오 송즈’에 방탄소년단 곡으로는 처음으로 진입49위했다고도 밝혔다.  방탄소년단은 9월 19일자 차트부터 신설된 ‘빌보드 글로벌 200’과 ‘빌보드 글로벌미국 제외’ 차트에서도 모두 2위에 올랐다. 두 차트는 닐슨뮤직 데이터를 기반으로 200개 이상 지역의 스트리밍과 판매량을 집계해 순위를 매긴다. 빌보드에 따르면 ‘다이너마이트’는 집계 기간 내 전 세계에서 가장 많이 판매된 곡이다.  ‘다이너마이트’는 세계 최대 음악 스트리밍 업체 스포티파이 최신 차트9월 13일 자 ‘글로벌 톱 50’에서도 4위에 오르며 최상위권 성적을 유지하고 있다.  이번 주 핫 100 1위는 카디 비와 메건 더 스탤리언의 ‘WAP’이 차지했다. 이날 상위 10위권 곡이 먼저 발표됐으며 전체 순위는 15일 공개된다. 방탄소년단은 한국시간으로 오는 17일 미국 NBC ‘아메리카 갓 탤런트’ 19일 음악 축제 ‘아이하트라디오 뮤직 페스티벌’에 각각 출연해 ‘다이너마이트’ 무대를 선보일 예정이다. \n",
      "\n",
      "['빌보드는 14일이하 현지시간 방탄소년단 ‘다이너마이트’가 메인 싱글 차트인 ‘핫 100’에서 발매 3주 차인 이번 주 2위를 차지했다고 밝혔다', ' ‘다이너마이트’가 발매 3주차에도 미국 내 대중적 흥행의 척도로 불리는 빌보드 100에서 최상위권을 기록한 것은 이 곡이 미국 내에서 지속적인 인기를 누리고 있음을 보여준다', ' 빌보드에 따르면 ‘다이너마이트’의 발매 3주 차9월 4∼10일 미국 내 스트리밍은 전주보다 24 줄어든 1330만 회를 기록했다'] \n",
      "\n"
     ]
    },
    {
     "name": "stderr",
     "output_type": "stream",
     "text": [
      "C:\\Users\\user\\anaconda3\\lib\\site-packages\\konlpy\\tag\\_okt.py:16: UserWarning: \"Twitter\" has changed to \"Okt\" since KoNLPy v0.4.5.\n",
      "  warn('\"Twitter\" has changed to \"Okt\" since KoNLPy v0.4.5.')\n",
      "C:\\Users\\user\\anaconda3\\lib\\site-packages\\konlpy\\tag\\_okt.py:16: UserWarning: \"Twitter\" has changed to \"Okt\" since KoNLPy v0.4.5.\n",
      "  warn('\"Twitter\" has changed to \"Okt\" since KoNLPy v0.4.5.')\n"
     ]
    },
    {
     "name": "stdout",
     "output_type": "stream",
     "text": [
      "sim_count:  23.0\n",
      "article index:  626\n",
      "2020-10-13 00:00:00\n",
      "NYT 중국 네티즌 BTS 악의 없는 발언에도 공격 \n",
      "\n",
      " 미국 뉴욕타임스NYT는 12일현지 시각 “방탄소년단BTS의 악의 없는 발언에 중국 네티즌들이 공격적으로 반응했다”고 보도했다. BTS의 리더 RM본명 김남준은 최근 수상 소감에서 “6·25 전쟁 때 한국과 미국이 함께 시련을 겪었다”고 밝혔는데 이를 두고 중국 네티즌들은 “중국군 희생을 무시했다”며 비난을 쏟아냈다.  NYT는 이날 ‘BTS는 한국전쟁 희생자를 기렸으나 일부 중국인은 모욕으로 여겼다’라는 제목의 기사에서 “도발적인 언사보다는 포용성으로 잘 알려진 인기 보이밴드 BTS의 리더가 최근 한국전쟁 기념식에서 미국과 한국이 겪은 시련을 인정한다는 악의 없는 발언을 했다”면서 “그러나 중국 네티즌들은 곧바로 BTS를 공격하는 글을 온라인에 올렸다”고 썼다.  앞서 BTS는 지난 7일현지 시각 미국의 한·미 친선 비영리재단인 코리아소사이어티의 연례행사에서 한·미 우호 관계 증진에 공을 세운 한국인과 미국인에게 주는 밴플리트상을 받았다. 이 상은 미8군 사령관으로 6·25 전쟁에 참전했고 1957년 코리아소사이어티를 창립한 제임스 밴 플리트 장군을 기리기 위해 1995년 제정됐다. 리더 RM은 온라인으로 진행된 시상식에서 “올해는 한국전쟁 70주년으로 우리는 양국한·미이 함께 겪었던 고난의 역사와 많은 남성과 여성의 희생을 영원히 기억해야 한다”는 말이 포함된 소감을 밝혔다. 해당 내용은 소감문 전체의 10 미만이었다.  그러나 일부 중국 네티즌은 ‘양국이 겪었던 고난의 역사’라는 표현만 짚어 문제를 삼으며 “중국인이 큰 희생을 하며 미군을 막아줬는데 어떻게 이를 무시할 수 있느냐”고 비난하기 시작했다. 중국 광저우에 사는 졸리 류21는 NYT 인터뷰에서 “우리는 BTS에게 우리와 같은 정치적 견해를 가지도록 강요할 수는 없지만 BTS가 중국에서 돈을 벌고 있다는 점에서 BTS는 모든 국가를 존중해야 한다”고 말했다. 다른 중국 네티즌 친 샤쉰은 “우리 할아버지가 한국전쟁에서 미국인과 싸운 것이 자랑스럽다”며 “BTS는 정치적 발언을 피해야 한다”고 했다.  중국 관영 매체인 환구시보는 전날 “유명 글로벌 아이돌 BTS의 정치적 발언에 중국 네티즌이 분노하고 있다”며 “BTS가 6·25 전쟁 당시 미군이 침략자였음에도 미국의 입장에만 맞춰 발언했다”고 보도했다. 자오리젠 중국 외교부 대변인도 “관련 보도와 중국 네티즌들의 반응에 주목하고 있다”며 “역사를 거울 삼아 미래를 향하고 우호를 도모하는 것은 함께 추구하고 노력해야 한다”고 했다.  논란이 커지자 BTS를 광고 모델로 내세운 삼성전자·현대자동차·휠라 등 한국 기업들은 중국에서 운영하는 공식 쇼핑몰과 소셜미디어에서 BTS 관련 제품을 삭제했다. 이에 대해 NYT는 “삼성 휠라 등은 BTS와 협력한 흔적을 없애면서 거리를 뒀다”며 “중국에서 사업을 하는 다국적 기업이 중국인의 애국심을 좇는 최신 사례로 중국에서 불매 운동 가능성을 차단하려는 의도로 보인다”고 분석했다. 로이터통신은 “삼성 등 여러 유명 브랜드가 논란 속에서 BTS와 거리를 두고 있다”며 “이번 논란은 세계 2위 경제 대국인 중국에서 대형 브랜드들의 앞에는 정치적 지뢰가 있다는 것을 보여준다”고 했다.  일부에선 중국의 갑작스러운 ‘BTS 때리기’가 이달 25일 6·25 참전 70주년을 기념하는 ‘항미원조 기념일’과 관련 지으려 한다는 분석도 나온다. 중국 당국은 최근 중국군 참전의 당위성과 희생을 강조하는 글과 영상을 내보내고 있다. 중국 역사 교과서에는 북한의 남한 침략으로 6·25 전쟁이 발발했다는 사실은 없고 “중국이 미국에 대항해 북한을 도운 전쟁”이라는 내용만 나온다. 2016년부터 사드 배치를 문제 삼으며 한국 상품 불매와 관광 금지 조치를 했던 중국이 이제는 연예인 발언까지 문제 삼으며 반한反韓 감정을 부추기고 있다는 분석도 있다. \n",
      "\n",
      "[' NYT는 이날 ‘BTS는 한국전쟁 희생자를 기렸으나 일부 중국인은 모욕으로 여겼다’라는 제목의 기사에서 “도발적인 언사보다는 포용성으로 잘 알려진 인기 보이밴드 BTS의 리더가 최근 한국전쟁 기념식에서 미국과 한국이 겪은 시련을 인정한다는 악의 없는 발언을 했다”면서 “그러나 중국 네티즌들은 곧바로 BTS를 공격하는 글을 온라인에 올렸다”고 썼다', '다른 중국 네티즌 친 샤쉰은 “우리 할아버지가 한국전쟁에서 미국인과 싸운 것이 자랑스럽다”며 “BTS는 정치적 발언을 피해야 한다”고 했다', ' 중국 관영 매체인 환구시보는 전날 “유명 글로벌 아이돌 BTS의 정치적 발언에 중국 네티즌이 분노하고 있다”며 “BTS가 6·25 전쟁 당시 미군이 침략자였음에도 미국의 입장에만 맞춰 발언했다”고 보도했다'] \n",
      "\n",
      "sim_count:  13.0\n",
      "article index:  772\n",
      "2020-11-25 00:00:00\n",
      "BTS 그래미 후보 꿈도 이뤘다베스트 팝 그룹 퍼포먼스 부문 \n",
      "\n",
      " 그룹 ‘방탄소년단BTS’이 미국 최고 권위 대중음악상인 ‘그래미 어워즈’ 후보에 올랐다. 24일현지 시각 그래미 어워즈를 주관하는 레코딩 아카데미The Recordig Academy는 BTS의 ‘다이너마이트’를 제63회 그래미 어워즈 ‘베스트 팝 듀오그룹 퍼포먼스’ 부문 후보로 발표했다.  그래미 어워드는 ‘빌보드 뮤직 어워드’ ‘아메리칸 뮤직 어워드’와 함께 미국의 3대 음악상으로 꼽힌다. 후보 선정에 있어서도 보수적이며 가장 권위 있는 상으로 평가받는다. 이번 후보 선정에 앞서 이 단체는 회원 2만여명을 대상으로 후보 선정 투표를 진행했다.  BTS는 한국 가수로서는 최초로 미국 3대 음악시상식에서 모두 후보에 오른 기록을 갖게 됐다. 현재 미국의 3대 대중음악상 가운데 BTS가 수상하지 못한 상은 그래미뿐이다. 지난 22일 열린 ’2020 아메리칸 뮤직 어워즈에서 BT는 ‘팝록 장르 ‘페이보릿 듀오그룹’과 ‘페이보릿 소셜 아티스트’ 등 2관왕을 차지했다. 지난달 빌보드 뮤직 어워즈에서도 4년 연속 ‘톱 소셜 아티스트’ 상을 받은 바 있다. BTS 리더 RM은 최근 미국 잡지 에스콰이어와 인터뷰에서 “우리는 그래미 후보에 올라 가능하면 상을 받고 싶다”면서 “미국 팝 무대 진출 여정의 마지막은 그래미라고 생각한다”고 밝혔다  그래미 후보로 오른 BTS의 다이너마이트는 지난 8월 21일 발매된 디지털 싱글이다. BTS가 최초로 시도한 영어곡이다. 조나스 브러더스의 히트곡 ‘왓 어 맨 갓타 두What A Ma Goa Do’를 만든 뮤지션 데이비드 스튜어트와 제시카 아곰바르가 작사·작곡에 참여했다. BTS는 이 곡으로 빌보드 ‘싱글 차트 핫 100’ 1위를 차지했다. 국내 가수로는 최초였다.  방탄소년단은 제이 발빈·두아 리파·배드 버니타이니의 ‘언 디아’ 저스틴 비버와 퀘이보의 ‘인텐션스’ 레이디 가가와 아리아나 그란데의 ‘레인 온 미’ 테일러 스위프트와 본 이베어의 ‘엑사일’과  ‘베스트 팝 듀오그룹 퍼포먼스’ 상을 놓고 경쟁을 벌인다.  이번 그래미 어워즈는 작년 9월 1일부터 올해 8월 31일까지 발표된 작품이 심사 대상이다. 8월 말까지 후보를 제출받은 뒤 9월 30일부터 10월 12일까지 투표권이 있는 레코딩 아카데미 회원들이 후보 선정을 위한 1차 투표를 했다. 내달 7일부터 내년 1월 4일까지 수상자를 가리기 위한 최종 투표가 이뤄진다. 수상자는 미 현지 시각으로 내년 1월 31일 개최되는 63회 그래미 어워즈 시상식에서 발표된다.  BTS는 그래미 어워즈 후보 발표 직후 트위터를 통해 “힘든 시기 우리의 음악을 들어주고 공감해 모든 분께 감사하다”며 “무엇보다 ‘그래미 후보 아티스트’라는 기적을 만들어준 건 아미Army·BTS 팬클럽 여러분이다. 늘 감사하고 사랑한다”고 했다. \n",
      "\n",
      "[' BTS는 한국 가수로서는 최초로 미국 3대 음악시상식에서 모두 후보에 오른 기록을 갖게 됐다', 'BTS 리더 RM은 최근 미국 잡지 에스콰이어와 인터뷰에서 “우리는 그래미 후보에 올라 가능하면 상을 받고 싶다”면서 “미국 팝 무대 진출 여정의 마지막은 그래미라고 생각한다”고 밝혔다  그래미 후보로 오른 BTS의 다이너마이트는 지난 8월 21일 발매된 디지털 싱글이다', ' BTS는 그래미 어워즈 후보 발표 직후 트위터를 통해 “힘든 시기 우리의 음악을 들어주고 공감해 모든 분께 감사하다”며 “무엇보다 ‘그래미 후보 아티스트’라는 기적을 만들어준 건 아미Army·BTS 팬클럽 여러분이다'] \n",
      "\n"
     ]
    },
    {
     "name": "stderr",
     "output_type": "stream",
     "text": [
      "C:\\Users\\user\\anaconda3\\lib\\site-packages\\konlpy\\tag\\_okt.py:16: UserWarning: \"Twitter\" has changed to \"Okt\" since KoNLPy v0.4.5.\n",
      "  warn('\"Twitter\" has changed to \"Okt\" since KoNLPy v0.4.5.')\n",
      "C:\\Users\\user\\anaconda3\\lib\\site-packages\\konlpy\\tag\\_okt.py:16: UserWarning: \"Twitter\" has changed to \"Okt\" since KoNLPy v0.4.5.\n",
      "  warn('\"Twitter\" has changed to \"Okt\" since KoNLPy v0.4.5.')\n"
     ]
    },
    {
     "name": "stdout",
     "output_type": "stream",
     "text": [
      "sim_count:  10.0\n",
      "article index:  803\n",
      "2020-12-01 00:00:00\n",
      "한글 노래가 빌보드 싱글차트 1위에 방탄소년단 세계 팝시장의 상수가 되다 \n",
      "\n",
      " 빌보드는 지난달 30일현지시간 방탄소년단의 신곡 ‘라이프 고스 온Life Goes O’이 빌보드 싱글 차트인 ‘핫 100’ 1위로 핫샷 데뷔진입과 동시에 1위했다고 밝혔다.  앞서 방탄소년단은 지난 8월 발표한 영어곡 ‘다이너마이트’ 제이슨 데룰로·조시 685와 함께 부른 ‘새비지 러브’로 ‘핫 100’ 차트 1위를 차지했다. ‘새비지 러브’에도 일부 한국어 가사가 등장하지만 가사 대부분은 영어였다. 가사가 한국어인 곡으로 차트 정상을 차지한 것은 이번이 처음이다. 빌보드는 “비영어 곡이 ‘핫 100’ 1위를 한 것은 2017년 루이스 폰시와 대디 양키가 발매한 스페인어 곡 ‘데스파시토’ 이후 처음”이라고 밝혔다.  ‘라이프 고스 온’의 라디오 방송 횟수는 상대적으로 저조한 편이었다. 빌보드가 인용한 닐슨뮤직 데이터에 따르면 이 곡은 발매 첫주2329일 41만명의 라디오 청취자에게 노출됐다. 8730만명에게 노출된 ‘핫 100’ 2위 24k골든과 이안 디올의 ‘무드’는 물론 1160만명에게 노출된 방탄소년단의 전작 ‘다이너마이트’와도 차이가 컸다.  하지만 스트리밍 1490만회 판매량 15만건이라는 압도적 음원 판매량이 이를 벌충했다. 이규탁 한국조지메이슨대 교수는 “핫 100 차트 1위를 위해선 라디오 방송 횟수가 중요한데 라디오는 비영어 곡에 대한 장벽이 워낙 높은 편이다. 음원 판매로 이를 메웠다는 것은 방탄소년단의 팬덤이 그만큼 커지고 단단해졌다는 뜻”이라고 말했다. 김윤하 음악평론가 역시 “‘다이너마이트’의 성공이 더 많은 팬을 유입시키고 높은 인지도를 형성했고 그 결과가 두 번째 빌보드 차트 1위로 이어졌다. 대중과 방탄소년단 사이를 좁히는 또 하나의 요인이 만들어진 것”이라고 했다.  BE는 방탄소년단이 코로나19 시대를 살아가며 느낀 복잡한 감정을 음악으로 풀어낸 앨범으로 지난달 20일 발매됐다. 타이틀곡인 ‘라이프 고스 온’은 신나는 디스코풍의 영어 곡 ‘다이너마이트’와 달리 잔잔한 비트에 한국어 가사가 붙은 얼터너티브 힙합 곡이다. 차트 성적에 연연하기보다 방탄소년단이 전하고자 하는 음악적 메시지를 더 선명히 하려는 시도였다.  여러 악조건 속에서 또다시 ‘핫 100’ 1위를 차지한 것은 방탄소년단이 전 세계 팝시장의 ‘상수’로 자리매김했음을 의미한다고 전문가들은 분석한다. 김 평론가는 “방탄소년단의 미국 시장 진입은 계단을 오른다기보다 종이에 잉크가 스며드는 양태와 비슷하다”며 “방탄소년단은 34년 전부터 상승세를 타고 있고 이러한 흐름은 쉽게 꺾이거나 사라지지 않을 것”이라고 말했다.  방탄소년단은 전날 빌보드 메인 앨범 차트인 ‘빌보드 200’에서도 정상을 차지했다. 다섯 번째 1위다. 빌보드의 메인 앨범 및 싱글 차트 모두에서 핫샷 데뷔를 한 것은 팝가수 테일러 스위프트와 방탄소년단뿐이다. ‘라이프 고스 온’을 포함한 앨범 수록곡 8곡 중 7곡이 ‘핫 100’ 차트에 올랐고 그중 하나인 ‘다이너마이트’도 지난주 ‘핫 100’ 14위에서 3위로 ‘역주행’했다. 방탄소년단 지민은 트위터를 통해 “1위도 너무 감사한데 3위 안에 저희 곡이 두 개라니 정말 너무너무 감사하다”며 “앞으로 더 좋은 앨범을 들려드리기 위해 최선을 다하겠다”고 소감을 밝혔다. \n",
      "\n",
      "['빌보드는 “비영어 곡이 ‘핫 100’ 1위를 한 것은 2017년 루이스 폰시와 대디 양키가 발매한 스페인어 곡 ‘데스파시토’ 이후 처음”이라고 밝혔다', '이규탁 한국조지메이슨대 교수는 “핫 100 차트 1위를 위해선 라디오 방송 횟수가 중요한데 라디오는 비영어 곡에 대한 장벽이 워낙 높은 편이다', '타이틀곡인 ‘라이프 고스 온’은 신나는 디스코풍의 영어 곡 ‘다이너마이트’와 달리 잔잔한 비트에 한국어 가사가 붙은 얼터너티브 힙합 곡이다'] \n",
      "\n"
     ]
    }
   ],
   "source": [
    "# from gensim.summarization import summarize\n",
    "from lexrankr import LexRank\n",
    "# 출력\n",
    "# 1. 유사 카운트\n",
    "# 2. 날짜\n",
    "# 3. 기사 제목\n",
    "# 4. 기사 본문\n",
    "# 5. 요약본\n",
    "for indx in articles_final:\n",
    "    sim_count = news_crawled_df.sim_count[indx]\n",
    "    if sim_count>2:\n",
    "        lexrank = LexRank()\n",
    "        lexrank.summarize(news_crawled_df.article_original[indx])\n",
    "        summaries = lexrank.probe(3)\n",
    "        print('sim_count: ', sim_count)\n",
    "        print('article index: ', indx)\n",
    "        print(news_crawled_df.date_pd[indx])\n",
    "        print(news_crawled_df.title[indx],'\\n')\n",
    "        print(news_crawled_df.article_original[indx],'\\n')\n",
    "        print(summaries,'\\n')"
   ]
  },
  {
   "cell_type": "code",
   "execution_count": null,
   "metadata": {},
   "outputs": [],
   "source": []
  }
 ],
 "metadata": {
  "kernelspec": {
   "display_name": "Python 3",
   "language": "python",
   "name": "python3"
  },
  "language_info": {
   "codemirror_mode": {
    "name": "ipython",
    "version": 3
   },
   "file_extension": ".py",
   "mimetype": "text/x-python",
   "name": "python",
   "nbconvert_exporter": "python",
   "pygments_lexer": "ipython3",
   "version": "3.8.5"
  }
 },
 "nbformat": 4,
 "nbformat_minor": 4
}
