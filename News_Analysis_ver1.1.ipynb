{
  "nbformat": 4,
  "nbformat_minor": 0,
  "metadata": {
    "kernelspec": {
      "display_name": "Python 3",
      "language": "python",
      "name": "python3"
    },
    "language_info": {
      "codemirror_mode": {
        "name": "ipython",
        "version": 3
      },
      "file_extension": ".py",
      "mimetype": "text/x-python",
      "name": "python",
      "nbconvert_exporter": "python",
      "pygments_lexer": "ipython3",
      "version": "3.8.5"
    },
    "colab": {
      "name": "News_Analysis.ipynb",
      "provenance": [],
      "collapsed_sections": [],
      "include_colab_link": true
    }
  },
  "cells": [
    {
      "cell_type": "markdown",
      "metadata": {
        "id": "view-in-github",
        "colab_type": "text"
      },
      "source": [
        "<a href=\"https://colab.research.google.com/github/1nsidewill/News-Simpler/blob/peter's-work/News_Analysis_ver1.1.ipynb\" target=\"_parent\"><img src=\"https://colab.research.google.com/assets/colab-badge.svg\" alt=\"Open In Colab\"/></a>"
      ]
    },
    {
      "cell_type": "code",
      "metadata": {
        "id": "-NrWOu-O7C1M",
        "colab": {
          "base_uri": "https://localhost:8080/"
        },
        "outputId": "2e957c42-364e-42b6-8479-5782196e409d"
      },
      "source": [
        "from google.colab import drive\r\n",
        "drive.mount('/content/drive')"
      ],
      "execution_count": 1,
      "outputs": [
        {
          "output_type": "stream",
          "text": [
            "Drive already mounted at /content/drive; to attempt to forcibly remount, call drive.mount(\"/content/drive\", force_remount=True).\n"
          ],
          "name": "stdout"
        }
      ]
    },
    {
      "cell_type": "code",
      "metadata": {
        "colab": {
          "base_uri": "https://localhost:8080/"
        },
        "id": "2lAy7GLS7MyY",
        "outputId": "64a13d21-0538-4af3-aabc-39c515f294e3"
      },
      "source": [
        "%cd /content/drive/MyDrive/Colab Notebooks/"
      ],
      "execution_count": 2,
      "outputs": [
        {
          "output_type": "stream",
          "text": [
            "/content/drive/MyDrive/Colab Notebooks\n"
          ],
          "name": "stdout"
        }
      ]
    },
    {
      "cell_type": "code",
      "metadata": {
        "colab": {
          "base_uri": "https://localhost:8080/"
        },
        "id": "v2t4_wug7tVP",
        "outputId": "f0959a9a-0969-4bb8-e586-5a7e52630c5a"
      },
      "source": [
        "!ls"
      ],
      "execution_count": 3,
      "outputs": [
        {
          "output_type": "stream",
          "text": [
            " 불용어리스트2.txt\t\t     '토픽 모델링.ipynb'       sample.txt\n",
            " chromedriver.exe\t\t      KOBERT.ipynb\t       Untitled0.ipynb\n",
            "'colab버전확인,드라이버 연결.ipynb'   News_Analysis.ipynb\n",
            "'기사 크롤링.ipynb'\t\t      news_df_210205_v02.csv\n"
          ],
          "name": "stdout"
        }
      ]
    },
    {
      "cell_type": "code",
      "metadata": {
        "id": "xha7iAPz5eST"
      },
      "source": [
        "import pandas as pd\n",
        "import numpy as np\n",
        "\n",
        "from sklearn.feature_extraction.text import TfidfVectorizer\n",
        "from sklearn.metrics.pairwise import cosine_similarity\n"
      ],
      "execution_count": 4,
      "outputs": []
    },
    {
      "cell_type": "code",
      "metadata": {
        "scrolled": false,
        "colab": {
          "base_uri": "https://localhost:8080/",
          "height": 407
        },
        "id": "MmDzWRCU5eSV",
        "outputId": "150c81da-8c59-4580-e97f-aecdc168d72b"
      },
      "source": [
        "#뉴스 데이터 불러오기\n",
        "columns = ['media','date','title','article_original','url']\n",
        "news_crawled_df = pd.read_csv('./news_df_210205_v02.csv')\n",
        "news_crawled_df"
      ],
      "execution_count": 5,
      "outputs": [
        {
          "output_type": "execute_result",
          "data": {
            "text/html": [
              "<div>\n",
              "<style scoped>\n",
              "    .dataframe tbody tr th:only-of-type {\n",
              "        vertical-align: middle;\n",
              "    }\n",
              "\n",
              "    .dataframe tbody tr th {\n",
              "        vertical-align: top;\n",
              "    }\n",
              "\n",
              "    .dataframe thead th {\n",
              "        text-align: right;\n",
              "    }\n",
              "</style>\n",
              "<table border=\"1\" class=\"dataframe\">\n",
              "  <thead>\n",
              "    <tr style=\"text-align: right;\">\n",
              "      <th></th>\n",
              "      <th>media</th>\n",
              "      <th>date</th>\n",
              "      <th>title</th>\n",
              "      <th>article_original</th>\n",
              "      <th>url</th>\n",
              "    </tr>\n",
              "  </thead>\n",
              "  <tbody>\n",
              "    <tr>\n",
              "      <th>0</th>\n",
              "      <td>조선일보</td>\n",
              "      <td>2020-01-02</td>\n",
              "      <td>150만명 몰린  타임스스퀘어 새해 무대도 BTS</td>\n",
              "      <td>사회자의 소개와 함께 방탄소년단BTS이 모습을 드러냈다. 2019년의 마지막 날 ...</td>\n",
              "      <td>https://news.naver.com/main/read.nhn?mode=LSD&amp;...</td>\n",
              "    </tr>\n",
              "    <tr>\n",
              "      <th>1</th>\n",
              "      <td>조선일보</td>\n",
              "      <td>2020-01-02</td>\n",
              "      <td>방탄소년단 CNN 선정 2010년대 음악 변화시킨 아티스트</td>\n",
              "      <td>12월 31일현지시각 CNN은 자신들의 음악 장르는 물론 스스로를 재창조하고 인상...</td>\n",
              "      <td>https://news.naver.com/main/read.nhn?mode=LSD&amp;...</td>\n",
              "    </tr>\n",
              "    <tr>\n",
              "      <th>2</th>\n",
              "      <td>조선일보</td>\n",
              "      <td>2020-01-03</td>\n",
              "      <td>방탄소년단 새앨범 작업중 새해도 K팝 인베이전 이어진다</td>\n",
              "      <td>경자년庚子年 새해에도 K팝 스타들의 세계 무대 공략은 계속될 전망이다. 특히 지난...</td>\n",
              "      <td>https://news.naver.com/main/read.nhn?mode=LSD&amp;...</td>\n",
              "    </tr>\n",
              "    <tr>\n",
              "      <th>3</th>\n",
              "      <td>조선일보</td>\n",
              "      <td>2020-01-03</td>\n",
              "      <td>서울시 BTS트와이스 활용해 K팝 관광명소 추천</td>\n",
              "      <td>K팝에 대한 관심이 전 세계적으로 높아지면서 서울시가 이른바 ‘K팝 명소’들을 선정...</td>\n",
              "      <td>https://news.naver.com/main/read.nhn?mode=LSD&amp;...</td>\n",
              "    </tr>\n",
              "    <tr>\n",
              "      <th>4</th>\n",
              "      <td>조선일보</td>\n",
              "      <td>2020-01-06</td>\n",
              "      <td>봉준호 BTS 영향력은 나의 3천배  멋진 아티스트의 나라</td>\n",
              "      <td>골든글로브 시상식에서 한국 최초로 외국어영화상을 수상한 기생충의 봉준호 감독이 한 ...</td>\n",
              "      <td>https://news.naver.com/main/read.nhn?mode=LSD&amp;...</td>\n",
              "    </tr>\n",
              "    <tr>\n",
              "      <th>...</th>\n",
              "      <td>...</td>\n",
              "      <td>...</td>\n",
              "      <td>...</td>\n",
              "      <td>...</td>\n",
              "      <td>...</td>\n",
              "    </tr>\n",
              "    <tr>\n",
              "      <th>866</th>\n",
              "      <td>한겨레</td>\n",
              "      <td>2020-12-26</td>\n",
              "      <td>누구도 가지 못한 길을 여는 BTS라는 세계</td>\n",
              "      <td>코로나19의 대유행으로 고통받은 한해 방탄소년단BTS은 큰 위로가 되어주었다. 20...</td>\n",
              "      <td>https://news.naver.com/main/read.nhn?mode=LSD&amp;...</td>\n",
              "    </tr>\n",
              "    <tr>\n",
              "      <th>867</th>\n",
              "      <td>한겨레</td>\n",
              "      <td>2020-12-26</td>\n",
              "      <td>세계의 모든 힘없는 자들에게 2020 BTS 혁명</td>\n",
              "      <td>“이 세계의 모든 힘없는 자들아 우리가 패배할 날이 올지도 모르지만 오늘은 아니야 ...</td>\n",
              "      <td>https://news.naver.com/main/read.nhn?mode=LSD&amp;...</td>\n",
              "    </tr>\n",
              "    <tr>\n",
              "      <th>868</th>\n",
              "      <td>조선일보</td>\n",
              "      <td>2020-12-29</td>\n",
              "      <td>코로나로 힘든 1년 트롯맨봉준호BTS 있어 웃고 울었다</td>\n",
              "      <td>2020년은 한국 문화계의 저력과 바닥이 모두 드러난 해였다. 전례 없던 세계 기...</td>\n",
              "      <td>https://news.naver.com/main/read.nhn?mode=LSD&amp;...</td>\n",
              "    </tr>\n",
              "    <tr>\n",
              "      <th>869</th>\n",
              "      <td>중앙일보</td>\n",
              "      <td>2020-12-30</td>\n",
              "      <td>박영선 삶은 아무 일 없단 듯 계속된다BTS 노래로 신년사</td>\n",
              "      <td>박영선 중소벤처기업부 장관은 30일 발표한 신년사에서 “이미 최선을 다 하고 계신데...</td>\n",
              "      <td>https://news.naver.com/main/read.nhn?mode=LSD&amp;...</td>\n",
              "    </tr>\n",
              "    <tr>\n",
              "      <th>870</th>\n",
              "      <td>한겨레</td>\n",
              "      <td>2020-12-30</td>\n",
              "      <td>압도적 1위 BTS 916만장코로나에는 음반인 가요</td>\n",
              "      <td>코로나19 팬데믹으로 콘서트와 각종 음악 축제가 줄줄이 취소되는 등 올 한해 가요계...</td>\n",
              "      <td>https://news.naver.com/main/read.nhn?mode=LSD&amp;...</td>\n",
              "    </tr>\n",
              "  </tbody>\n",
              "</table>\n",
              "<p>871 rows × 5 columns</p>\n",
              "</div>"
            ],
            "text/plain": [
              "    media  ...                                                url\n",
              "0    조선일보  ...  https://news.naver.com/main/read.nhn?mode=LSD&...\n",
              "1    조선일보  ...  https://news.naver.com/main/read.nhn?mode=LSD&...\n",
              "2    조선일보  ...  https://news.naver.com/main/read.nhn?mode=LSD&...\n",
              "3    조선일보  ...  https://news.naver.com/main/read.nhn?mode=LSD&...\n",
              "4    조선일보  ...  https://news.naver.com/main/read.nhn?mode=LSD&...\n",
              "..    ...  ...                                                ...\n",
              "866   한겨레  ...  https://news.naver.com/main/read.nhn?mode=LSD&...\n",
              "867   한겨레  ...  https://news.naver.com/main/read.nhn?mode=LSD&...\n",
              "868  조선일보  ...  https://news.naver.com/main/read.nhn?mode=LSD&...\n",
              "869  중앙일보  ...  https://news.naver.com/main/read.nhn?mode=LSD&...\n",
              "870   한겨레  ...  https://news.naver.com/main/read.nhn?mode=LSD&...\n",
              "\n",
              "[871 rows x 5 columns]"
            ]
          },
          "metadata": {
            "tags": []
          },
          "execution_count": 5
        }
      ]
    },
    {
      "cell_type": "code",
      "metadata": {
        "id": "qc3UIdlV5eSX",
        "colab": {
          "base_uri": "https://localhost:8080/"
        },
        "outputId": "5cad4955-aa46-44af-f18a-87f0b2c39f6f"
      },
      "source": [
        "news_crawled_df.isna().sum()"
      ],
      "execution_count": 6,
      "outputs": [
        {
          "output_type": "execute_result",
          "data": {
            "text/plain": [
              "media                0\n",
              "date                 0\n",
              "title                0\n",
              "article_original    13\n",
              "url                  0\n",
              "dtype: int64"
            ]
          },
          "metadata": {
            "tags": []
          },
          "execution_count": 6
        }
      ]
    },
    {
      "cell_type": "code",
      "metadata": {
        "id": "t1328u_T5eSY",
        "colab": {
          "base_uri": "https://localhost:8080/"
        },
        "outputId": "026fc6f5-3497-401f-faf9-cecfe696de34"
      },
      "source": [
        "news_crawled_df.dropna(inplace=True)\n",
        "news_crawled_df.info()"
      ],
      "execution_count": 7,
      "outputs": [
        {
          "output_type": "stream",
          "text": [
            "<class 'pandas.core.frame.DataFrame'>\n",
            "Int64Index: 858 entries, 0 to 870\n",
            "Data columns (total 5 columns):\n",
            " #   Column            Non-Null Count  Dtype \n",
            "---  ------            --------------  ----- \n",
            " 0   media             858 non-null    object\n",
            " 1   date              858 non-null    object\n",
            " 2   title             858 non-null    object\n",
            " 3   article_original  858 non-null    object\n",
            " 4   url               858 non-null    object\n",
            "dtypes: object(5)\n",
            "memory usage: 40.2+ KB\n"
          ],
          "name": "stdout"
        }
      ]
    },
    {
      "cell_type": "code",
      "metadata": {
        "scrolled": true,
        "id": "dvfJb4wr5eSY",
        "colab": {
          "base_uri": "https://localhost:8080/",
          "height": 407
        },
        "outputId": "8fdfed23-05aa-4273-b6bd-995cacce864c"
      },
      "source": [
        "news_crawled_df.reset_index(inplace=True)\n",
        "news_crawled_df.drop('index',inplace=True,axis=1)\n",
        "news_crawled_df"
      ],
      "execution_count": 8,
      "outputs": [
        {
          "output_type": "execute_result",
          "data": {
            "text/html": [
              "<div>\n",
              "<style scoped>\n",
              "    .dataframe tbody tr th:only-of-type {\n",
              "        vertical-align: middle;\n",
              "    }\n",
              "\n",
              "    .dataframe tbody tr th {\n",
              "        vertical-align: top;\n",
              "    }\n",
              "\n",
              "    .dataframe thead th {\n",
              "        text-align: right;\n",
              "    }\n",
              "</style>\n",
              "<table border=\"1\" class=\"dataframe\">\n",
              "  <thead>\n",
              "    <tr style=\"text-align: right;\">\n",
              "      <th></th>\n",
              "      <th>media</th>\n",
              "      <th>date</th>\n",
              "      <th>title</th>\n",
              "      <th>article_original</th>\n",
              "      <th>url</th>\n",
              "    </tr>\n",
              "  </thead>\n",
              "  <tbody>\n",
              "    <tr>\n",
              "      <th>0</th>\n",
              "      <td>조선일보</td>\n",
              "      <td>2020-01-02</td>\n",
              "      <td>150만명 몰린  타임스스퀘어 새해 무대도 BTS</td>\n",
              "      <td>사회자의 소개와 함께 방탄소년단BTS이 모습을 드러냈다. 2019년의 마지막 날 ...</td>\n",
              "      <td>https://news.naver.com/main/read.nhn?mode=LSD&amp;...</td>\n",
              "    </tr>\n",
              "    <tr>\n",
              "      <th>1</th>\n",
              "      <td>조선일보</td>\n",
              "      <td>2020-01-02</td>\n",
              "      <td>방탄소년단 CNN 선정 2010년대 음악 변화시킨 아티스트</td>\n",
              "      <td>12월 31일현지시각 CNN은 자신들의 음악 장르는 물론 스스로를 재창조하고 인상...</td>\n",
              "      <td>https://news.naver.com/main/read.nhn?mode=LSD&amp;...</td>\n",
              "    </tr>\n",
              "    <tr>\n",
              "      <th>2</th>\n",
              "      <td>조선일보</td>\n",
              "      <td>2020-01-03</td>\n",
              "      <td>방탄소년단 새앨범 작업중 새해도 K팝 인베이전 이어진다</td>\n",
              "      <td>경자년庚子年 새해에도 K팝 스타들의 세계 무대 공략은 계속될 전망이다. 특히 지난...</td>\n",
              "      <td>https://news.naver.com/main/read.nhn?mode=LSD&amp;...</td>\n",
              "    </tr>\n",
              "    <tr>\n",
              "      <th>3</th>\n",
              "      <td>조선일보</td>\n",
              "      <td>2020-01-03</td>\n",
              "      <td>서울시 BTS트와이스 활용해 K팝 관광명소 추천</td>\n",
              "      <td>K팝에 대한 관심이 전 세계적으로 높아지면서 서울시가 이른바 ‘K팝 명소’들을 선정...</td>\n",
              "      <td>https://news.naver.com/main/read.nhn?mode=LSD&amp;...</td>\n",
              "    </tr>\n",
              "    <tr>\n",
              "      <th>4</th>\n",
              "      <td>조선일보</td>\n",
              "      <td>2020-01-06</td>\n",
              "      <td>봉준호 BTS 영향력은 나의 3천배  멋진 아티스트의 나라</td>\n",
              "      <td>골든글로브 시상식에서 한국 최초로 외국어영화상을 수상한 기생충의 봉준호 감독이 한 ...</td>\n",
              "      <td>https://news.naver.com/main/read.nhn?mode=LSD&amp;...</td>\n",
              "    </tr>\n",
              "    <tr>\n",
              "      <th>...</th>\n",
              "      <td>...</td>\n",
              "      <td>...</td>\n",
              "      <td>...</td>\n",
              "      <td>...</td>\n",
              "      <td>...</td>\n",
              "    </tr>\n",
              "    <tr>\n",
              "      <th>853</th>\n",
              "      <td>한겨레</td>\n",
              "      <td>2020-12-26</td>\n",
              "      <td>누구도 가지 못한 길을 여는 BTS라는 세계</td>\n",
              "      <td>코로나19의 대유행으로 고통받은 한해 방탄소년단BTS은 큰 위로가 되어주었다. 20...</td>\n",
              "      <td>https://news.naver.com/main/read.nhn?mode=LSD&amp;...</td>\n",
              "    </tr>\n",
              "    <tr>\n",
              "      <th>854</th>\n",
              "      <td>한겨레</td>\n",
              "      <td>2020-12-26</td>\n",
              "      <td>세계의 모든 힘없는 자들에게 2020 BTS 혁명</td>\n",
              "      <td>“이 세계의 모든 힘없는 자들아 우리가 패배할 날이 올지도 모르지만 오늘은 아니야 ...</td>\n",
              "      <td>https://news.naver.com/main/read.nhn?mode=LSD&amp;...</td>\n",
              "    </tr>\n",
              "    <tr>\n",
              "      <th>855</th>\n",
              "      <td>조선일보</td>\n",
              "      <td>2020-12-29</td>\n",
              "      <td>코로나로 힘든 1년 트롯맨봉준호BTS 있어 웃고 울었다</td>\n",
              "      <td>2020년은 한국 문화계의 저력과 바닥이 모두 드러난 해였다. 전례 없던 세계 기...</td>\n",
              "      <td>https://news.naver.com/main/read.nhn?mode=LSD&amp;...</td>\n",
              "    </tr>\n",
              "    <tr>\n",
              "      <th>856</th>\n",
              "      <td>중앙일보</td>\n",
              "      <td>2020-12-30</td>\n",
              "      <td>박영선 삶은 아무 일 없단 듯 계속된다BTS 노래로 신년사</td>\n",
              "      <td>박영선 중소벤처기업부 장관은 30일 발표한 신년사에서 “이미 최선을 다 하고 계신데...</td>\n",
              "      <td>https://news.naver.com/main/read.nhn?mode=LSD&amp;...</td>\n",
              "    </tr>\n",
              "    <tr>\n",
              "      <th>857</th>\n",
              "      <td>한겨레</td>\n",
              "      <td>2020-12-30</td>\n",
              "      <td>압도적 1위 BTS 916만장코로나에는 음반인 가요</td>\n",
              "      <td>코로나19 팬데믹으로 콘서트와 각종 음악 축제가 줄줄이 취소되는 등 올 한해 가요계...</td>\n",
              "      <td>https://news.naver.com/main/read.nhn?mode=LSD&amp;...</td>\n",
              "    </tr>\n",
              "  </tbody>\n",
              "</table>\n",
              "<p>858 rows × 5 columns</p>\n",
              "</div>"
            ],
            "text/plain": [
              "    media  ...                                                url\n",
              "0    조선일보  ...  https://news.naver.com/main/read.nhn?mode=LSD&...\n",
              "1    조선일보  ...  https://news.naver.com/main/read.nhn?mode=LSD&...\n",
              "2    조선일보  ...  https://news.naver.com/main/read.nhn?mode=LSD&...\n",
              "3    조선일보  ...  https://news.naver.com/main/read.nhn?mode=LSD&...\n",
              "4    조선일보  ...  https://news.naver.com/main/read.nhn?mode=LSD&...\n",
              "..    ...  ...                                                ...\n",
              "853   한겨레  ...  https://news.naver.com/main/read.nhn?mode=LSD&...\n",
              "854   한겨레  ...  https://news.naver.com/main/read.nhn?mode=LSD&...\n",
              "855  조선일보  ...  https://news.naver.com/main/read.nhn?mode=LSD&...\n",
              "856  중앙일보  ...  https://news.naver.com/main/read.nhn?mode=LSD&...\n",
              "857   한겨레  ...  https://news.naver.com/main/read.nhn?mode=LSD&...\n",
              "\n",
              "[858 rows x 5 columns]"
            ]
          },
          "metadata": {
            "tags": []
          },
          "execution_count": 8
        }
      ]
    },
    {
      "cell_type": "code",
      "metadata": {
        "id": "WAFW9TP35eSZ"
      },
      "source": [
        "#불용어 import\n",
        "stopwords2 = pd.read_csv('./불용어리스트2.txt',header=None,encoding='cp949')\n",
        "stopwords = list(stopwords2[0])\n",
        "stopwords"
      ],
      "execution_count": null,
      "outputs": []
    },
    {
      "cell_type": "code",
      "metadata": {
        "id": "eh3hg-gR5eSa"
      },
      "source": [
        "#형태소 토크나이징\n",
        "from konlpy.tag import Okt\n",
        "okt = Okt()\n",
        "\n",
        "articles = news_crawled_df.article_original\n",
        "\n",
        "articles_morphed = []\n",
        "for article in articles:\n",
        "    morph = okt.morphs(article)\n",
        "    \n",
        "    stopped = ''\n",
        "    for word in morph:\n",
        "        if word not in stopwords:\n",
        "            stopped += word\n",
        "            stopped += ' '\n",
        "            \n",
        "    articles_morphed.append(stopped)"
      ],
      "execution_count": 10,
      "outputs": []
    },
    {
      "cell_type": "code",
      "metadata": {
        "scrolled": true,
        "id": "eo6RwLhc5eSa"
      },
      "source": [
        "#형태소 분해된 컬럼 추가\n",
        "news_crawled_df['article_morphed'] = articles_morphed\n",
        "#날짜 칼럼 추가\n",
        "news_crawled_df['date_pd']=pd.to_datetime(news_crawled_df['date'])\n",
        "news_crawled_df.head()"
      ],
      "execution_count": null,
      "outputs": []
    },
    {
      "cell_type": "code",
      "metadata": {
        "id": "WeKOjTbKaiax"
      },
      "source": [
        "#원본 date column drop\r\n",
        "news_crawled_df.drop(columns='date',axis=1,inplace=True)"
      ],
      "execution_count": 12,
      "outputs": []
    },
    {
      "cell_type": "code",
      "metadata": {
        "scrolled": true,
        "id": "wUaNgkNa5eSc"
      },
      "source": [
        "#기사 날짜 14일마다 그룹화\n",
        "date_grouped = []\n",
        "date_range = pd.date_range(start='2020-01-01', end='2020-12-31',periods=26)\n",
        "L = len(date_range)\n",
        "R = len(news_crawled_df)\n",
        "\n",
        "for i, date in enumerate(date_range):\n",
        "    index_group = []\n",
        "    if i< L-1:\n",
        "        for j in range(R):\n",
        "            if date_range[i] < news_crawled_df.date_pd[j] <= date_range[i+1]:\n",
        "                index_group.append(j)\n",
        "        date_grouped.append(index_group)"
      ],
      "execution_count": null,
      "outputs": []
    },
    {
      "cell_type": "code",
      "metadata": {
        "id": "hhrW9UkD5eSd"
      },
      "source": [
        "# 그룹별 tfidf 변환\n",
        "def tfidfy(time_period_no):\n",
        "    tfidf = TfidfVectorizer(lowercase=False)\n",
        "    #그룹에 있는 아티클 가져오기\n",
        "    article_group = []\n",
        "    for index in date_grouped[time_period_no]:\n",
        "      article_group.append(news_crawled_df.article_original[index])\n",
        "    #article_group = [news_crawled_df.article_original[i] for i in date_grouped[time_period_no]]\n",
        "    \n",
        "    art_group_tfidf = tfidf.fit_transform(article_group)\n",
        "    return art_group_tfidf"
      ],
      "execution_count": 60,
      "outputs": []
    },
    {
      "cell_type": "code",
      "metadata": {
        "scrolled": true,
        "id": "lLdfw1e35eSe"
      },
      "source": [
        "#date 그룹 내에서 유사도 높은 기사의 index 가져오는 함수\n",
        "def get_similar_art_index(group_no, art_group_tfidf, group_index):\n",
        "    # 그룹 안의 한 기사와 나머지 기사간의 similarity 비교\n",
        "    sim_pair = cosine_similarity(art_group_tfidf[group_index],art_group_tfidf)\n",
        "    # 인덱스 내림차순으로 소트\n",
        "    sorted_index = sim_pair.argsort()[:,::-1]\n",
        "    # 자기자신은 빼기\n",
        "    sorted_index = sorted_index[:,1:]\n",
        "    #print(sorted_index)\n",
        "    \n",
        "    #유사도가 큰 순으로 유사도 값을 재정렬하되 자기 자신은 제외\n",
        "    art_sim_value = np.sort(sim_pair.reshape(-1))[::-1]\n",
        "    art_sim_value = art_sim_value[1:]\n",
        "    #print(art_sim_value)\n",
        "    \n",
        "    #기사 real index의 reference point 구하기\n",
        "    ref = 0\n",
        "    for i in range(group_no):\n",
        "        ref += len(date_grouped[i])\n",
        "       # print(ref)\n",
        "\n",
        "    # 유사도가 0.3보다 높은 real 인덱스만 뽑아오기.\n",
        "    index_high = []\n",
        "    for idx, value in enumerate(art_sim_value):\n",
        "        if value>=0.3:\n",
        "            group_index = sorted_index[0][idx]\n",
        "            real_index = ref + group_index\n",
        "            index_high.append(real_index)\n",
        "            \n",
        "    return index_high"
      ],
      "execution_count": 61,
      "outputs": []
    },
    {
      "cell_type": "code",
      "metadata": {
        "id": "S323HLMG5eSf"
      },
      "source": [
        "#전체 문서에 대해, 날짜 구간 당 유사한 기사의 index를 리스트에 저장한다.\r\n",
        "sim_list=[]\r\n",
        "for group_no in range(len(date_grouped)):\r\n",
        "  for idx in range(len(date_grouped[group_no])):\r\n",
        "    art_group_tfidf = tfidfy(group_no)\r\n",
        "    sim_list.append(get_similar_art_index(group_no, art_group_tfidf, idx))\r\n",
        "\r\n",
        "#dataframe에 컬럼 추가\r\n",
        "news_crawled_df['sim_articles'] = sim_list"
      ],
      "execution_count": null,
      "outputs": []
    },
    {
      "cell_type": "code",
      "metadata": {
        "colab": {
          "base_uri": "https://localhost:8080/",
          "height": 580
        },
        "id": "BlSV4YpXaKR1",
        "outputId": "bc703f31-1251-493e-8e73-770d23170f12"
      },
      "source": [
        "#유사한 기사가 3개 이상이면 불러오기\r\n",
        "idx_list = []\r\n",
        "for i,ls in enumerate(news_crawled_df['sim_articles']):\r\n",
        "  if len(ls)>=3:\r\n",
        "    idx_list.append(i)\r\n",
        "#print(idx_list)\r\n",
        "news_crawled_df.iloc[idx_list]"
      ],
      "execution_count": 63,
      "outputs": [
        {
          "output_type": "execute_result",
          "data": {
            "text/html": [
              "<div>\n",
              "<style scoped>\n",
              "    .dataframe tbody tr th:only-of-type {\n",
              "        vertical-align: middle;\n",
              "    }\n",
              "\n",
              "    .dataframe tbody tr th {\n",
              "        vertical-align: top;\n",
              "    }\n",
              "\n",
              "    .dataframe thead th {\n",
              "        text-align: right;\n",
              "    }\n",
              "</style>\n",
              "<table border=\"1\" class=\"dataframe\">\n",
              "  <thead>\n",
              "    <tr style=\"text-align: right;\">\n",
              "      <th></th>\n",
              "      <th>media</th>\n",
              "      <th>title</th>\n",
              "      <th>article_original</th>\n",
              "      <th>url</th>\n",
              "      <th>article_morphed</th>\n",
              "      <th>date_pd</th>\n",
              "      <th>sim_articles</th>\n",
              "    </tr>\n",
              "  </thead>\n",
              "  <tbody>\n",
              "    <tr>\n",
              "      <th>36</th>\n",
              "      <td>조선일보</td>\n",
              "      <td>방탄소년단 그래미 무대 선다 한국 가수 최초</td>\n",
              "      <td>그래미 어워즈는 미국 대중음악 시상식 중 최고 권위를 지닌 시상식으로 한국 가수가...</td>\n",
              "      <td>https://news.naver.com/main/read.nhn?mode=LSD&amp;...</td>\n",
              "      <td>그래미 어워즈 미국 대중음악 시상식 중 최고 권위 지닌 시상식 한국 가수 공연 하는...</td>\n",
              "      <td>2020-01-24</td>\n",
              "      <td>[37, 41, 40]</td>\n",
              "    </tr>\n",
              "    <tr>\n",
              "      <th>37</th>\n",
              "      <td>경향신문</td>\n",
              "      <td>방탄소년단 한국 가수 최초 미 그래미 어워드 공연 확정</td>\n",
              "      <td>그룹 방탄소년단BTS이 제62회 ‘그래미 어워드’Grammy Awards에서 공연한...</td>\n",
              "      <td>https://news.naver.com/main/read.nhn?mode=LSD&amp;...</td>\n",
              "      <td>그룹 방탄소년단 BTS 62회 ‘ 그래미 어워드 ’ Grammy Awards 공연 ...</td>\n",
              "      <td>2020-01-24</td>\n",
              "      <td>[36, 41, 40]</td>\n",
              "    </tr>\n",
              "    <tr>\n",
              "      <th>39</th>\n",
              "      <td>한겨레</td>\n",
              "      <td>BTS 한국 가수 최초 그래미 공연내년엔 후보 목표</td>\n",
              "      <td>래퍼 릴 나스 엑스가 먼저 등장해 자신의 히트곡 ‘올드 타운 로드’를 부르기 시작...</td>\n",
              "      <td>https://news.naver.com/main/read.nhn?mode=LSD&amp;...</td>\n",
              "      <td>래퍼 릴 나스 엑스 먼저 등장 해 히트 곡 ‘ 올드 타운 로드 ’ 부르기 시작 했다...</td>\n",
              "      <td>2020-01-27</td>\n",
              "      <td>[40, 41, 43]</td>\n",
              "    </tr>\n",
              "    <tr>\n",
              "      <th>40</th>\n",
              "      <td>경향신문</td>\n",
              "      <td>내년엔 그래미 후보될까짧았던 방탄소년단 무대</td>\n",
              "      <td>방탄소년단은 미국 로스앤젤레스 스테이플스 센터에서 열린 제62회 그래미 시상식에서...</td>\n",
              "      <td>https://news.naver.com/main/read.nhn?mode=LSD&amp;...</td>\n",
              "      <td>방탄소년단 미국 로스앤젤레스 스테이플스 센터 열린 62회 그래미 시상식 래퍼 릴 나...</td>\n",
              "      <td>2020-01-27</td>\n",
              "      <td>[39, 43, 41, 37, 36]</td>\n",
              "    </tr>\n",
              "    <tr>\n",
              "      <th>41</th>\n",
              "      <td>조선일보</td>\n",
              "      <td>방탄소년단 한국 가수 최초 그래미 공연 내년엔 후보 도전</td>\n",
              "      <td>방탄소년단은 이날 미국 로스앤젤레스LA 스테이플스 센터에서 열린 제62회 그래미 ...</td>\n",
              "      <td>https://news.naver.com/main/read.nhn?mode=LSD&amp;...</td>\n",
              "      <td>방탄소년단 날 미국 로스앤젤레스 LA 스테이플스 센터 열린 62회 그래미 시상식 2...</td>\n",
              "      <td>2020-01-27</td>\n",
              "      <td>[39, 36, 37, 40, 43]</td>\n",
              "    </tr>\n",
              "    <tr>\n",
              "      <th>...</th>\n",
              "      <td>...</td>\n",
              "      <td>...</td>\n",
              "      <td>...</td>\n",
              "      <td>...</td>\n",
              "      <td>...</td>\n",
              "      <td>...</td>\n",
              "      <td>...</td>\n",
              "    </tr>\n",
              "    <tr>\n",
              "      <th>792</th>\n",
              "      <td>조선일보</td>\n",
              "      <td>BTS 빌보드 2년6개월새 다섯번째 1위 비틀스 이후 최단 기록</td>\n",
              "      <td>그룹 방탄소년단BTS의 새 미니앨범 ‘BE’가 미국 빌보드 메인 음반 차트인 ‘빌보...</td>\n",
              "      <td>https://news.naver.com/main/read.nhn?mode=LSD&amp;...</td>\n",
              "      <td>그룹 방탄소년단 BTS 새 미니앨범 ‘ BE ’ 미국 빌보드 메인 음반 차트 인 ‘...</td>\n",
              "      <td>2020-11-30</td>\n",
              "      <td>[790, 791, 789]</td>\n",
              "    </tr>\n",
              "    <tr>\n",
              "      <th>795</th>\n",
              "      <td>중앙일보</td>\n",
              "      <td>BTS 한국어 곡으로 싱글차트 1위빌보드 62년 새 역사썼다</td>\n",
              "      <td>방탄소년단BTS이 한국어 곡으로 미국 빌보드 싱글 차트 정상에 올랐다. 빌보드는 3...</td>\n",
              "      <td>https://news.naver.com/main/read.nhn?mode=LSD&amp;...</td>\n",
              "      <td>방탄소년단 BTS 한국어 곡 미국 빌보드 싱글 차트 정상 올랐다 빌보드 30일 현지...</td>\n",
              "      <td>2020-12-01</td>\n",
              "      <td>[797, 803, 799]</td>\n",
              "    </tr>\n",
              "    <tr>\n",
              "      <th>797</th>\n",
              "      <td>경향신문</td>\n",
              "      <td>방탄소년단 이번엔 한국어 곡으로 빌보드 싱글차트 정상에</td>\n",
              "      <td>그룹 방탄소년단BTS의 신곡 ‘라이프 고스 온’이 미국 빌보드 메인 싱글 차트 정...</td>\n",
              "      <td>https://news.naver.com/main/read.nhn?mode=LSD&amp;...</td>\n",
              "      <td>그룹 방탄소년단 BTS 신곡 ‘ 라이프 고스 온 ’ 미국 빌보드 메인 싱글 차트 정...</td>\n",
              "      <td>2020-12-01</td>\n",
              "      <td>[803, 799, 795, 794, 798]</td>\n",
              "    </tr>\n",
              "    <tr>\n",
              "      <th>818</th>\n",
              "      <td>조선일보</td>\n",
              "      <td>BTS MAMA 싹쓸이</td>\n",
              "      <td>그룹 ‘방탄소년단BTS’이 아시아 최고 권위의 케이팝 시상식 ‘2020 MAMA엠넷...</td>\n",
              "      <td>https://news.naver.com/main/read.nhn?mode=LSD&amp;...</td>\n",
              "      <td>그룹 ‘ 방탄소년단 BTS ’ 아시아 최고 권위 케이팝 시상식 ‘ 2020 MAMA...</td>\n",
              "      <td>2020-12-07</td>\n",
              "      <td>[820, 819, 817]</td>\n",
              "    </tr>\n",
              "    <tr>\n",
              "      <th>820</th>\n",
              "      <td>경향신문</td>\n",
              "      <td>방탄소년단 2020 MAMA 대상 4개부문 싹쓸이</td>\n",
              "      <td>방탄소년단은 지난 6일 생중계된 ‘MAMA’에서 지난해에 이어 올해도 ‘올해의 가...</td>\n",
              "      <td>https://news.naver.com/main/read.nhn?mode=LSD&amp;...</td>\n",
              "      <td>방탄소년단 지난 6일 생중계 된 ‘ MAMA ’ 지난해 이어 올해 도 ‘ 올해 가수...</td>\n",
              "      <td>2020-12-07</td>\n",
              "      <td>[819, 818, 817]</td>\n",
              "    </tr>\n",
              "  </tbody>\n",
              "</table>\n",
              "<p>126 rows × 7 columns</p>\n",
              "</div>"
            ],
            "text/plain": [
              "    media  ...               sim_articles\n",
              "36   조선일보  ...               [37, 41, 40]\n",
              "37   경향신문  ...               [36, 41, 40]\n",
              "39    한겨레  ...               [40, 41, 43]\n",
              "40   경향신문  ...       [39, 43, 41, 37, 36]\n",
              "41   조선일보  ...       [39, 36, 37, 40, 43]\n",
              "..    ...  ...                        ...\n",
              "792  조선일보  ...            [790, 791, 789]\n",
              "795  중앙일보  ...            [797, 803, 799]\n",
              "797  경향신문  ...  [803, 799, 795, 794, 798]\n",
              "818  조선일보  ...            [820, 819, 817]\n",
              "820  경향신문  ...            [819, 818, 817]\n",
              "\n",
              "[126 rows x 7 columns]"
            ]
          },
          "metadata": {
            "tags": []
          },
          "execution_count": 63
        }
      ]
    },
    {
      "cell_type": "code",
      "metadata": {
        "id": "g6NZJ7Gdnfpc",
        "colab": {
          "base_uri": "https://localhost:8080/",
          "height": 145
        },
        "outputId": "773d23c6-ce71-4ad0-9b42-90557983d9ab"
      },
      "source": [
        "#유사기사 비교.\r\n",
        "news_crawled_df.article_original[36]"
      ],
      "execution_count": 65,
      "outputs": [
        {
          "output_type": "execute_result",
          "data": {
            "application/vnd.google.colaboratory.intrinsic+json": {
              "type": "string"
            },
            "text/plain": [
              "' 그래미 어워즈는 미국 대중음악 시상식 중 최고 권위를 지닌 시상식으로 한국 가수가 공연하는 것은 이번이 처음이다. 방탄소년단은 작년 제61회 그래미 어워즈에 시상자로 참석한 이후 2년 연속 그래미 무대를 밟게 됐다.  그래미 측은 23일이하 현지시간 홈페이지를 통해 방탄소년단이 오는 26일 미국 로스앤젤레스LA 스테이플스 센터에서 열리는 그래미 어워즈 시상식에서 올드 타운 로드 올 스타즈Old Tow Road AllStars 무대에 함께 한다고 밝혔다.  그래미 측은 빌리 레이 사이러스 래퍼 릴 나스 엑스와 함께 방탄소년단 디플로 메이슨 램지 그리고 다른 깜짝 게스트들이 올드 타운 로드 올 스타즈 무대를 꾸민다고 전했다. 그래미는 홈페이지에 게재한 공연·시상자 명단에도 방탄소년단을 추가했다.  그래미를 주관하는 미국레코드예술과학아카데미NARAS에 따르면 올드 타운 로드 올스타즈는 올해 시상식에서 마련되는 두 개의 특별 코너 중 하나다.  릴 나스 엑스의 올드 타운 로드는 빌보드 싱글 차트 핫 100에서 19주간 1위를 차지한 곡으로 많은 뮤지션과의 협업 버전으로 화제를 모았다. 방탄소년단 리더 RM도 지난해 7월 올드 타운 로드에 피처링한 협업 음원 서울 타운 로드Seoul Tow Road’를 릴 나스 엑스와 함께 발표했다.  방탄소년단은 지난해 그래미 어워즈에 시상자로 초청돼 한국 가수로는 처음 참석했다. 당시 베스트 RB 앨범 부문을 시상한 방탄소년단은 다시 돌아오겠다고 밝힌 바 있다. 이들은 올해 그래미상 후보에는 들지는 못했지만 무대를 하게 돼 약속을 지키게 됐다.  그래미 어워즈는 팝계 최고 권위를 지니는 시상식이지만 비영어권 아티스트에게 배타적이라는 비난을 받았다. 그런 만큼 이번 공연은 방탄소년단의 국제적인 위상을 보여준다는 평가다.'"
            ]
          },
          "metadata": {
            "tags": []
          },
          "execution_count": 65
        }
      ]
    },
    {
      "cell_type": "code",
      "metadata": {
        "colab": {
          "base_uri": "https://localhost:8080/",
          "height": 163
        },
        "id": "A7Q9SbSee55s",
        "outputId": "b5a86081-bf77-424b-b643-cd29ef46cddd"
      },
      "source": [
        "news_crawled_df.article_original[37]"
      ],
      "execution_count": 66,
      "outputs": [
        {
          "output_type": "execute_result",
          "data": {
            "application/vnd.google.colaboratory.intrinsic+json": {
              "type": "string"
            },
            "text/plain": [
              "'그룹 방탄소년단BTS이 제62회 ‘그래미 어워드’Grammy Awards에서 공연한다. 팝계 최고 권위를 지닌 그래미 어워드에서 한국 가수가 공연하는 것은 사상 처음이다.  그래미 어워드 측은 23일현지시간 홈페이지를 통해 방탄소년단이 오는 26일 미국 로스앤젤레스LA 스테이플스 센터에서 열리는 그래미 어워드 시상식에 공연자Performer로 출연한다고 공식 발표했다.  그래미 등에 따르면 컨트리 가수 빌리 레이 사이러스 래퍼 릴 나스 엑스와 함께 방탄소년단 디플로 메이슨 램지 그리고 다른 깜짝 게스트들이 ‘올드 타운 로드 올스타즈’Old Tow Road AllStars 협업 무대를 꾸민다.  그래미는 홈페이지에 게재한 공연자 명단에도 방탄소년단을 추가했다. 이로써 방탄소년단은 작년 제61회 그래미 어워드에 시상자로 참석한 데 이어 올해 공연자로서 2년 연속 그래미 무대를 밟게 됐다.  ‘올드 타운 로드 올스타즈’ 공연은 올해 시상식에 마련된 두 개의 특별 코너special segmets 중 하나다. 릴 나스 엑스의 곡 ‘올드 타운 로드’는 빌보드 싱글 차트 ‘핫 100’에서 19주간 1위를 차지한 곡으로 많은 뮤지션과의 협업 버전으로 화제가 됐다.  방탄소년단 리더 RM도 지난해 7월 ‘올드 타운 로드’에 피처링한 협업 음원 ‘서울 타운 로드’Seoul Tow Road를 릴 나스 엑스와 함께 발표한 적이 있다.  방탄소년단이 그래미에서 공연을 펼치기는 처음이다. 방탄소년단은 ‘빌보드 뮤직 어워드’ ‘아메리칸 뮤직 어워드’에 이어 ‘그래미 어워드’까지 미국 3대 음악 시상식에서 모두 공연하는 기록도 쓰게 됐다.  방탄소년단은 지난해 한국 가수 최초로 그래미 어워드에 공식 초청돼 본 시상식 시상자로 무대에 섰다. 이들은 ‘베스트 RB 앨범’ 부문을 시상했는데 당시 무대에 올라 “다시 돌아오겠다”고 지속적인 도전 의지를 나타냈다.  멤버들은 당시 비하인드 영상에서 “내년에는 꼭 저희가 와서 공연하겠다” “내년에는 무대를 한번 해봤으면 좋겠다” 등 그래미에서 공연을 펼치고 싶다는 바람을 드러내기도 했다.  미국레코드예술과학아카데미NARAS가 주관하는 그래미 어워드는 미국 음악상 중 가장 큰 규모와 권위를 자랑한다. 그러나 보수적이고 비영어권 아티스트에게 배타적이란 평가도 받아 왔다.  방탄소년단은 올해 그래미상 후보에는 들지 못했다. 지난해 11월 후보가 발표됐을 당시 미국 음악계 안에서 방탄소년단의 후보 지명 불발을 두고 “흐름을 무시한 것”이라는 비판의 목소리가 나오기도 했다.'"
            ]
          },
          "metadata": {
            "tags": []
          },
          "execution_count": 66
        }
      ]
    },
    {
      "cell_type": "markdown",
      "metadata": {
        "id": "DZ2m2NMXsi7d"
      },
      "source": [
        "할 일: 유사 기사들 클러스터에서 대표 기사 코사인유사도로 뽑기.  \r\n",
        "        대표 기사들 summarize 하기.  \r\n",
        "        summarize 된 것을 분석하기."
      ]
    },
    {
      "cell_type": "code",
      "metadata": {
        "id": "KJfZHx49tBrh"
      },
      "source": [
        ""
      ],
      "execution_count": null,
      "outputs": []
    },
    {
      "cell_type": "code",
      "metadata": {
        "id": "_BsNqqMPfbx2"
      },
      "source": [
        ""
      ],
      "execution_count": null,
      "outputs": []
    }
  ]
}