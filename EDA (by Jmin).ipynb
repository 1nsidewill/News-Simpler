{
 "cells": [
  {
   "cell_type": "markdown",
   "metadata": {},
   "source": [
    "crawling한 데이터를 확인합니다.  \n",
    "\n",
    "<br></br>\n",
    "\n",
    "ver2.  \n",
    "변경사항: crawling 데이터 변경됨(news_df_210205_v03.xlsx → news_df_210222_v05.xlsx)  \n",
    "데이터 정리하지 않음.  "
   ]
  },
  {
   "cell_type": "markdown",
   "metadata": {},
   "source": [
    "# Import"
   ]
  },
  {
   "cell_type": "markdown",
   "metadata": {},
   "source": [
    "## Import library"
   ]
  },
  {
   "cell_type": "code",
   "execution_count": 1,
   "metadata": {},
   "outputs": [],
   "source": [
    "import os\n",
    "import sys\n",
    "import warnings\n",
    "from tqdm import tqdm_notebook as tqdm \n",
    "\n",
    "import numpy as np\n",
    "import pandas as pd\n",
    "\n",
    "# 데이터 시각화\n",
    "import matplotlib.pyplot as plt\n",
    "%matplotlib inline\n",
    "import seaborn as sns\n",
    "sns.set(style='white', context='notebook', palette='deep')\n",
    "\n",
    "warnings.filterwarnings(action='ignore')\n",
    "warnings.filterwarnings(\"ignore\", category=DeprecationWarning)"
   ]
  },
  {
   "cell_type": "code",
   "execution_count": 2,
   "metadata": {},
   "outputs": [
    {
     "name": "stdout",
     "output_type": "stream",
     "text": [
      "D:\\study\\workspace_python\\_project/data\n"
     ]
    }
   ],
   "source": [
    "# 현재 jupyter 위치를 PROJECT_DIR 추가\n",
    "PROJECT_DIR = os.path.abspath(os.path.join(os.path.realpath('__file__'), '..'))\n",
    "sys.path.insert(0, PROJECT_DIR)\n",
    "DATA_DIR = PROJECT_DIR + '/data' # 데이터 위치 \n",
    "print(DATA_DIR)"
   ]
  },
  {
   "cell_type": "markdown",
   "metadata": {},
   "source": [
    "## import"
   ]
  },
  {
   "cell_type": "markdown",
   "metadata": {},
   "source": [
    "네이버 뉴스에서 크롤링한 뉴스데이터 엑셀파일을 사용하고자 합니다.  \n",
    "- 'BTS' 또는 '방탄소년단'에 관한 2020년 전체 네이버 뉴스"
   ]
  },
  {
   "cell_type": "code",
   "execution_count": 3,
   "metadata": {},
   "outputs": [
    {
     "data": {
      "text/html": [
       "<div>\n",
       "<style scoped>\n",
       "    .dataframe tbody tr th:only-of-type {\n",
       "        vertical-align: middle;\n",
       "    }\n",
       "\n",
       "    .dataframe tbody tr th {\n",
       "        vertical-align: top;\n",
       "    }\n",
       "\n",
       "    .dataframe thead th {\n",
       "        text-align: right;\n",
       "    }\n",
       "</style>\n",
       "<table border=\"1\" class=\"dataframe\">\n",
       "  <thead>\n",
       "    <tr style=\"text-align: right;\">\n",
       "      <th></th>\n",
       "      <th>media</th>\n",
       "      <th>date</th>\n",
       "      <th>title</th>\n",
       "      <th>article_original</th>\n",
       "      <th>url</th>\n",
       "    </tr>\n",
       "  </thead>\n",
       "  <tbody>\n",
       "    <tr>\n",
       "      <th>0</th>\n",
       "      <td>조선일보</td>\n",
       "      <td>2020-01-02</td>\n",
       "      <td>150만명 몰린  타임스스퀘어 새해 무대도 BTS</td>\n",
       "      <td>2012년 싸이에 이어 두 번째 ABC방송 라이브 쇼에서 생중계전 지구를 홀린 그룹...</td>\n",
       "      <td>https://news.naver.com/main/read.nhn?mode=LSD&amp;...</td>\n",
       "    </tr>\n",
       "    <tr>\n",
       "      <th>1</th>\n",
       "      <td>조선일보</td>\n",
       "      <td>2020-01-02</td>\n",
       "      <td>방탄소년단 CNN 선정 2010년대 음악 변화시킨 아티스트</td>\n",
       "      <td>방탄소년단BTS이 미국 CNN 선정 2010년대 음악을 변화시킨 10대 아티스트에 ...</td>\n",
       "      <td>https://news.naver.com/main/read.nhn?mode=LSD&amp;...</td>\n",
       "    </tr>\n",
       "  </tbody>\n",
       "</table>\n",
       "</div>"
      ],
      "text/plain": [
       "  media        date                             title  \\\n",
       "0  조선일보  2020-01-02       150만명 몰린  타임스스퀘어 새해 무대도 BTS   \n",
       "1  조선일보  2020-01-02  방탄소년단 CNN 선정 2010년대 음악 변화시킨 아티스트   \n",
       "\n",
       "                                    article_original  \\\n",
       "0  2012년 싸이에 이어 두 번째 ABC방송 라이브 쇼에서 생중계전 지구를 홀린 그룹...   \n",
       "1  방탄소년단BTS이 미국 CNN 선정 2010년대 음악을 변화시킨 10대 아티스트에 ...   \n",
       "\n",
       "                                                 url  \n",
       "0  https://news.naver.com/main/read.nhn?mode=LSD&...  \n",
       "1  https://news.naver.com/main/read.nhn?mode=LSD&...  "
      ]
     },
     "execution_count": 3,
     "metadata": {},
     "output_type": "execute_result"
    }
   ],
   "source": [
    "# data_df = pd.read_excel(DATA_DIR +'/news_df_210205_v03.xlsx')\n",
    "data_df = pd.read_excel(DATA_DIR +'/news_df_210222_v04.xlsx')\n",
    "data_df.head(2)"
   ]
  },
  {
   "cell_type": "markdown",
   "metadata": {},
   "source": [
    "데이터는 media, date, title, article_original, url로 구성되어 있습니다."
   ]
  },
  {
   "cell_type": "markdown",
   "metadata": {},
   "source": [
    "# EDA"
   ]
  },
  {
   "cell_type": "markdown",
   "metadata": {},
   "source": [
    "## 데이터 파일 확인"
   ]
  },
  {
   "cell_type": "code",
   "execution_count": 4,
   "metadata": {},
   "outputs": [
    {
     "name": "stdout",
     "output_type": "stream",
     "text": [
      "<class 'pandas.core.frame.DataFrame'>\n",
      "RangeIndex: 861 entries, 0 to 860\n",
      "Data columns (total 5 columns):\n",
      " #   Column            Non-Null Count  Dtype \n",
      "---  ------            --------------  ----- \n",
      " 0   media             861 non-null    object\n",
      " 1   date              861 non-null    object\n",
      " 2   title             861 non-null    object\n",
      " 3   article_original  853 non-null    object\n",
      " 4   url               861 non-null    object\n",
      "dtypes: object(5)\n",
      "memory usage: 33.8+ KB\n"
     ]
    }
   ],
   "source": [
    "data_df.info()"
   ]
  },
  {
   "cell_type": "markdown",
   "metadata": {},
   "source": [
    "article_original에 None이 존재합니다."
   ]
  },
  {
   "cell_type": "markdown",
   "metadata": {},
   "source": [
    "기사를 날짜를 기준으로 정렬합니다."
   ]
  },
  {
   "cell_type": "code",
   "execution_count": 5,
   "metadata": {},
   "outputs": [],
   "source": [
    "data_df.sort_values(by=['date'], inplace=True)"
   ]
  },
  {
   "cell_type": "code",
   "execution_count": 6,
   "metadata": {},
   "outputs": [
    {
     "data": {
      "text/html": [
       "<div>\n",
       "<style scoped>\n",
       "    .dataframe tbody tr th:only-of-type {\n",
       "        vertical-align: middle;\n",
       "    }\n",
       "\n",
       "    .dataframe tbody tr th {\n",
       "        vertical-align: top;\n",
       "    }\n",
       "\n",
       "    .dataframe thead th {\n",
       "        text-align: right;\n",
       "    }\n",
       "</style>\n",
       "<table border=\"1\" class=\"dataframe\">\n",
       "  <thead>\n",
       "    <tr style=\"text-align: right;\">\n",
       "      <th></th>\n",
       "      <th>media</th>\n",
       "      <th>date</th>\n",
       "      <th>title</th>\n",
       "      <th>article_original</th>\n",
       "      <th>url</th>\n",
       "    </tr>\n",
       "  </thead>\n",
       "  <tbody>\n",
       "    <tr>\n",
       "      <th>0</th>\n",
       "      <td>조선일보</td>\n",
       "      <td>2020-01-02</td>\n",
       "      <td>150만명 몰린  타임스스퀘어 새해 무대도 BTS</td>\n",
       "      <td>2012년 싸이에 이어 두 번째 ABC방송 라이브 쇼에서 생중계전 지구를 홀린 그룹...</td>\n",
       "      <td>https://news.naver.com/main/read.nhn?mode=LSD&amp;...</td>\n",
       "    </tr>\n",
       "    <tr>\n",
       "      <th>1</th>\n",
       "      <td>조선일보</td>\n",
       "      <td>2020-01-02</td>\n",
       "      <td>방탄소년단 CNN 선정 2010년대 음악 변화시킨 아티스트</td>\n",
       "      <td>방탄소년단BTS이 미국 CNN 선정 2010년대 음악을 변화시킨 10대 아티스트에 ...</td>\n",
       "      <td>https://news.naver.com/main/read.nhn?mode=LSD&amp;...</td>\n",
       "    </tr>\n",
       "    <tr>\n",
       "      <th>2</th>\n",
       "      <td>조선일보</td>\n",
       "      <td>2020-01-03</td>\n",
       "      <td>방탄소년단 새앨범 작업중 새해도 K팝 인베이전 이어진다</td>\n",
       "      <td>트와이스  도쿄돔 공연 블랙핑크도 새앨범 예정경자년 새해에도 K팝 스타들의 세계 무...</td>\n",
       "      <td>https://news.naver.com/main/read.nhn?mode=LSD&amp;...</td>\n",
       "    </tr>\n",
       "  </tbody>\n",
       "</table>\n",
       "</div>"
      ],
      "text/plain": [
       "  media        date                             title  \\\n",
       "0  조선일보  2020-01-02       150만명 몰린  타임스스퀘어 새해 무대도 BTS   \n",
       "1  조선일보  2020-01-02  방탄소년단 CNN 선정 2010년대 음악 변화시킨 아티스트   \n",
       "2  조선일보  2020-01-03    방탄소년단 새앨범 작업중 새해도 K팝 인베이전 이어진다   \n",
       "\n",
       "                                    article_original  \\\n",
       "0  2012년 싸이에 이어 두 번째 ABC방송 라이브 쇼에서 생중계전 지구를 홀린 그룹...   \n",
       "1  방탄소년단BTS이 미국 CNN 선정 2010년대 음악을 변화시킨 10대 아티스트에 ...   \n",
       "2  트와이스  도쿄돔 공연 블랙핑크도 새앨범 예정경자년 새해에도 K팝 스타들의 세계 무...   \n",
       "\n",
       "                                                 url  \n",
       "0  https://news.naver.com/main/read.nhn?mode=LSD&...  \n",
       "1  https://news.naver.com/main/read.nhn?mode=LSD&...  \n",
       "2  https://news.naver.com/main/read.nhn?mode=LSD&...  "
      ]
     },
     "execution_count": 6,
     "metadata": {},
     "output_type": "execute_result"
    }
   ],
   "source": [
    "data_df.head(3)"
   ]
  },
  {
   "cell_type": "code",
   "execution_count": 7,
   "metadata": {},
   "outputs": [
    {
     "data": {
      "text/html": [
       "<div>\n",
       "<style scoped>\n",
       "    .dataframe tbody tr th:only-of-type {\n",
       "        vertical-align: middle;\n",
       "    }\n",
       "\n",
       "    .dataframe tbody tr th {\n",
       "        vertical-align: top;\n",
       "    }\n",
       "\n",
       "    .dataframe thead th {\n",
       "        text-align: right;\n",
       "    }\n",
       "</style>\n",
       "<table border=\"1\" class=\"dataframe\">\n",
       "  <thead>\n",
       "    <tr style=\"text-align: right;\">\n",
       "      <th></th>\n",
       "      <th>media</th>\n",
       "      <th>date</th>\n",
       "      <th>title</th>\n",
       "      <th>article_original</th>\n",
       "      <th>url</th>\n",
       "    </tr>\n",
       "  </thead>\n",
       "  <tbody>\n",
       "    <tr>\n",
       "      <th>858</th>\n",
       "      <td>조선일보</td>\n",
       "      <td>2020-12-29</td>\n",
       "      <td>코로나로 힘든 1년 트롯맨봉준호BTS 있어 웃고 울었다</td>\n",
       "      <td>2020년 잊을 수 없는 문화계의 10일 2020년은 한국 문화계의 저력과 바닥이 ...</td>\n",
       "      <td>https://news.naver.com/main/read.nhn?mode=LSD&amp;...</td>\n",
       "    </tr>\n",
       "    <tr>\n",
       "      <th>859</th>\n",
       "      <td>중앙일보</td>\n",
       "      <td>2020-12-30</td>\n",
       "      <td>박영선 삶은 아무 일 없단 듯 계속된다BTS 노래로 신년사</td>\n",
       "      <td>박영선 중소벤처기업부 장관은 30일 발표한 신년사에서 이미 최선을 다 하고 계신데 ...</td>\n",
       "      <td>https://news.naver.com/main/read.nhn?mode=LSD&amp;...</td>\n",
       "    </tr>\n",
       "    <tr>\n",
       "      <th>860</th>\n",
       "      <td>한겨레</td>\n",
       "      <td>2020-12-30</td>\n",
       "      <td>압도적 1위 BTS 916만장코로나에는 음반인 가요</td>\n",
       "      <td>코로나19 팬데믹으로 콘서트와 각종 음악 축제가 줄줄이 취소되는 등 올 한해 가요 ...</td>\n",
       "      <td>https://news.naver.com/main/read.nhn?mode=LSD&amp;...</td>\n",
       "    </tr>\n",
       "  </tbody>\n",
       "</table>\n",
       "</div>"
      ],
      "text/plain": [
       "    media        date                             title  \\\n",
       "858  조선일보  2020-12-29    코로나로 힘든 1년 트롯맨봉준호BTS 있어 웃고 울었다   \n",
       "859  중앙일보  2020-12-30  박영선 삶은 아무 일 없단 듯 계속된다BTS 노래로 신년사   \n",
       "860   한겨레  2020-12-30      압도적 1위 BTS 916만장코로나에는 음반인 가요   \n",
       "\n",
       "                                      article_original  \\\n",
       "858  2020년 잊을 수 없는 문화계의 10일 2020년은 한국 문화계의 저력과 바닥이 ...   \n",
       "859  박영선 중소벤처기업부 장관은 30일 발표한 신년사에서 이미 최선을 다 하고 계신데 ...   \n",
       "860  코로나19 팬데믹으로 콘서트와 각종 음악 축제가 줄줄이 취소되는 등 올 한해 가요 ...   \n",
       "\n",
       "                                                   url  \n",
       "858  https://news.naver.com/main/read.nhn?mode=LSD&...  \n",
       "859  https://news.naver.com/main/read.nhn?mode=LSD&...  \n",
       "860  https://news.naver.com/main/read.nhn?mode=LSD&...  "
      ]
     },
     "execution_count": 7,
     "metadata": {},
     "output_type": "execute_result"
    }
   ],
   "source": [
    "data_df.tail(3)"
   ]
  },
  {
   "cell_type": "code",
   "execution_count": 8,
   "metadata": {},
   "outputs": [
    {
     "name": "stdout",
     "output_type": "stream",
     "text": [
      "<class 'pandas.core.frame.DataFrame'>\n",
      "Int64Index: 861 entries, 0 to 860\n",
      "Data columns (total 5 columns):\n",
      " #   Column            Non-Null Count  Dtype \n",
      "---  ------            --------------  ----- \n",
      " 0   media             861 non-null    object\n",
      " 1   date              861 non-null    object\n",
      " 2   title             861 non-null    object\n",
      " 3   article_original  853 non-null    object\n",
      " 4   url               861 non-null    object\n",
      "dtypes: object(5)\n",
      "memory usage: 40.4+ KB\n"
     ]
    }
   ],
   "source": [
    "data_df.info()"
   ]
  },
  {
   "cell_type": "markdown",
   "metadata": {},
   "source": [
    "총 861개의 object 타입의 문서 중 article_original에는 853개의 문서가 있습니다.  \n",
    "날짜를 기준으로 정렬하여 보면 2020년 1월 초부터 12월 말까지의 기사가 있는 것을 알 수 있습니다."
   ]
  },
  {
   "cell_type": "markdown",
   "metadata": {},
   "source": [
    "## media 분포"
   ]
  },
  {
   "cell_type": "code",
   "execution_count": 9,
   "metadata": {},
   "outputs": [
    {
     "data": {
      "text/plain": [
       "중앙일보    286\n",
       "조선일보    285\n",
       "경향신문    188\n",
       "한겨레     102\n",
       "Name: media, dtype: int64"
      ]
     },
     "execution_count": 9,
     "metadata": {},
     "output_type": "execute_result"
    }
   ],
   "source": [
    "data_df['media'].value_counts()"
   ]
  },
  {
   "cell_type": "markdown",
   "metadata": {},
   "source": [
    "총 4개 media로부터 데이터가 구성되어 있습니다."
   ]
  },
  {
   "cell_type": "markdown",
   "metadata": {},
   "source": [
    "## 원문(article_original)"
   ]
  },
  {
   "cell_type": "markdown",
   "metadata": {},
   "source": [
    "article_original 데이터는 다음과 같습니다.\n",
    "- 타입 : str\n",
    "- 문장 내 .(마침표) 포함, 문장 단위 토큰화 안됨"
   ]
  },
  {
   "cell_type": "markdown",
   "metadata": {},
   "source": [
    "# 날짜 별 기사 수 분포 vs 네이버 검색양"
   ]
  },
  {
   "cell_type": "markdown",
   "metadata": {},
   "source": [
    "날짜 별 기사 수와 네이버 검색양을 비교하고자 합니다."
   ]
  },
  {
   "cell_type": "markdown",
   "metadata": {},
   "source": [
    "#### 네이버 검색양 데이터 확인"
   ]
  },
  {
   "cell_type": "code",
   "execution_count": 10,
   "metadata": {},
   "outputs": [
    {
     "data": {
      "text/html": [
       "<div>\n",
       "<style scoped>\n",
       "    .dataframe tbody tr th:only-of-type {\n",
       "        vertical-align: middle;\n",
       "    }\n",
       "\n",
       "    .dataframe tbody tr th {\n",
       "        vertical-align: top;\n",
       "    }\n",
       "\n",
       "    .dataframe thead th {\n",
       "        text-align: right;\n",
       "    }\n",
       "</style>\n",
       "<table border=\"1\" class=\"dataframe\">\n",
       "  <thead>\n",
       "    <tr style=\"text-align: right;\">\n",
       "      <th></th>\n",
       "      <th>date</th>\n",
       "      <th>search_amount</th>\n",
       "    </tr>\n",
       "  </thead>\n",
       "  <tbody>\n",
       "    <tr>\n",
       "      <th>0</th>\n",
       "      <td>2020-01-01</td>\n",
       "      <td>43.85227</td>\n",
       "    </tr>\n",
       "    <tr>\n",
       "      <th>1</th>\n",
       "      <td>2020-01-02</td>\n",
       "      <td>22.75566</td>\n",
       "    </tr>\n",
       "    <tr>\n",
       "      <th>2</th>\n",
       "      <td>2020-01-03</td>\n",
       "      <td>17.47025</td>\n",
       "    </tr>\n",
       "    <tr>\n",
       "      <th>3</th>\n",
       "      <td>2020-01-04</td>\n",
       "      <td>21.59224</td>\n",
       "    </tr>\n",
       "    <tr>\n",
       "      <th>4</th>\n",
       "      <td>2020-01-05</td>\n",
       "      <td>32.13055</td>\n",
       "    </tr>\n",
       "  </tbody>\n",
       "</table>\n",
       "</div>"
      ],
      "text/plain": [
       "         date  search_amount\n",
       "0  2020-01-01       43.85227\n",
       "1  2020-01-02       22.75566\n",
       "2  2020-01-03       17.47025\n",
       "3  2020-01-04       21.59224\n",
       "4  2020-01-05       32.13055"
      ]
     },
     "execution_count": 10,
     "metadata": {},
     "output_type": "execute_result"
    }
   ],
   "source": [
    "search_data = pd.read_excel(DATA_DIR + '/bts_search_datalab.xlsx')\n",
    "search_data.rename(columns={'amount':'search_amount'}, inplace=True)\n",
    "search_data.head()"
   ]
  },
  {
   "cell_type": "code",
   "execution_count": 11,
   "metadata": {},
   "outputs": [
    {
     "data": {
      "text/html": [
       "<div>\n",
       "<style scoped>\n",
       "    .dataframe tbody tr th:only-of-type {\n",
       "        vertical-align: middle;\n",
       "    }\n",
       "\n",
       "    .dataframe tbody tr th {\n",
       "        vertical-align: top;\n",
       "    }\n",
       "\n",
       "    .dataframe thead th {\n",
       "        text-align: right;\n",
       "    }\n",
       "</style>\n",
       "<table border=\"1\" class=\"dataframe\">\n",
       "  <thead>\n",
       "    <tr style=\"text-align: right;\">\n",
       "      <th></th>\n",
       "      <th>date</th>\n",
       "      <th>search_amount</th>\n",
       "    </tr>\n",
       "  </thead>\n",
       "  <tbody>\n",
       "    <tr>\n",
       "      <th>361</th>\n",
       "      <td>2020-12-27</td>\n",
       "      <td>15.85755</td>\n",
       "    </tr>\n",
       "    <tr>\n",
       "      <th>362</th>\n",
       "      <td>2020-12-28</td>\n",
       "      <td>14.53832</td>\n",
       "    </tr>\n",
       "    <tr>\n",
       "      <th>363</th>\n",
       "      <td>2020-12-29</td>\n",
       "      <td>14.21533</td>\n",
       "    </tr>\n",
       "    <tr>\n",
       "      <th>364</th>\n",
       "      <td>2020-12-30</td>\n",
       "      <td>22.29620</td>\n",
       "    </tr>\n",
       "    <tr>\n",
       "      <th>365</th>\n",
       "      <td>2020-12-31</td>\n",
       "      <td>22.45266</td>\n",
       "    </tr>\n",
       "  </tbody>\n",
       "</table>\n",
       "</div>"
      ],
      "text/plain": [
       "           date  search_amount\n",
       "361  2020-12-27       15.85755\n",
       "362  2020-12-28       14.53832\n",
       "363  2020-12-29       14.21533\n",
       "364  2020-12-30       22.29620\n",
       "365  2020-12-31       22.45266"
      ]
     },
     "execution_count": 11,
     "metadata": {},
     "output_type": "execute_result"
    }
   ],
   "source": [
    "search_data.tail()"
   ]
  },
  {
   "cell_type": "code",
   "execution_count": 12,
   "metadata": {},
   "outputs": [
    {
     "name": "stdout",
     "output_type": "stream",
     "text": [
      "<class 'pandas.core.frame.DataFrame'>\n",
      "RangeIndex: 366 entries, 0 to 365\n",
      "Data columns (total 2 columns):\n",
      " #   Column         Non-Null Count  Dtype  \n",
      "---  ------         --------------  -----  \n",
      " 0   date           366 non-null    object \n",
      " 1   search_amount  366 non-null    float64\n",
      "dtypes: float64(1), object(1)\n",
      "memory usage: 5.8+ KB\n"
     ]
    }
   ],
   "source": [
    "search_data.info()"
   ]
  },
  {
   "cell_type": "markdown",
   "metadata": {},
   "source": [
    "네이버 검색양 데이터는 2020년 1월 1일부터 12월 31일까지 검색 값을 보여준다."
   ]
  },
  {
   "cell_type": "code",
   "execution_count": 13,
   "metadata": {},
   "outputs": [
    {
     "name": "stdout",
     "output_type": "stream",
     "text": [
      "<class 'pandas.core.frame.DataFrame'>\n"
     ]
    },
    {
     "data": {
      "text/html": [
       "<div>\n",
       "<style scoped>\n",
       "    .dataframe tbody tr th:only-of-type {\n",
       "        vertical-align: middle;\n",
       "    }\n",
       "\n",
       "    .dataframe tbody tr th {\n",
       "        vertical-align: top;\n",
       "    }\n",
       "\n",
       "    .dataframe thead th {\n",
       "        text-align: right;\n",
       "    }\n",
       "</style>\n",
       "<table border=\"1\" class=\"dataframe\">\n",
       "  <thead>\n",
       "    <tr style=\"text-align: right;\">\n",
       "      <th></th>\n",
       "      <th>date</th>\n",
       "      <th>article_original</th>\n",
       "    </tr>\n",
       "  </thead>\n",
       "  <tbody>\n",
       "    <tr>\n",
       "      <th>0</th>\n",
       "      <td>2020-01-02</td>\n",
       "      <td>2</td>\n",
       "    </tr>\n",
       "    <tr>\n",
       "      <th>1</th>\n",
       "      <td>2020-01-03</td>\n",
       "      <td>2</td>\n",
       "    </tr>\n",
       "    <tr>\n",
       "      <th>2</th>\n",
       "      <td>2020-01-06</td>\n",
       "      <td>1</td>\n",
       "    </tr>\n",
       "    <tr>\n",
       "      <th>3</th>\n",
       "      <td>2020-01-07</td>\n",
       "      <td>3</td>\n",
       "    </tr>\n",
       "    <tr>\n",
       "      <th>4</th>\n",
       "      <td>2020-01-08</td>\n",
       "      <td>3</td>\n",
       "    </tr>\n",
       "    <tr>\n",
       "      <th>...</th>\n",
       "      <td>...</td>\n",
       "      <td>...</td>\n",
       "    </tr>\n",
       "    <tr>\n",
       "      <th>246</th>\n",
       "      <td>2020-12-24</td>\n",
       "      <td>2</td>\n",
       "    </tr>\n",
       "    <tr>\n",
       "      <th>247</th>\n",
       "      <td>2020-12-25</td>\n",
       "      <td>2</td>\n",
       "    </tr>\n",
       "    <tr>\n",
       "      <th>248</th>\n",
       "      <td>2020-12-26</td>\n",
       "      <td>3</td>\n",
       "    </tr>\n",
       "    <tr>\n",
       "      <th>249</th>\n",
       "      <td>2020-12-29</td>\n",
       "      <td>1</td>\n",
       "    </tr>\n",
       "    <tr>\n",
       "      <th>250</th>\n",
       "      <td>2020-12-30</td>\n",
       "      <td>2</td>\n",
       "    </tr>\n",
       "  </tbody>\n",
       "</table>\n",
       "<p>251 rows × 2 columns</p>\n",
       "</div>"
      ],
      "text/plain": [
       "           date  article_original\n",
       "0    2020-01-02                 2\n",
       "1    2020-01-03                 2\n",
       "2    2020-01-06                 1\n",
       "3    2020-01-07                 3\n",
       "4    2020-01-08                 3\n",
       "..          ...               ...\n",
       "246  2020-12-24                 2\n",
       "247  2020-12-25                 2\n",
       "248  2020-12-26                 3\n",
       "249  2020-12-29                 1\n",
       "250  2020-12-30                 2\n",
       "\n",
       "[251 rows x 2 columns]"
      ]
     },
     "execution_count": 13,
     "metadata": {},
     "output_type": "execute_result"
    }
   ],
   "source": [
    "date_groupby = data_df.groupby(by='date').count()['article_original'].reset_index()\n",
    "print(type(date_groupby))\n",
    "date_groupby"
   ]
  },
  {
   "cell_type": "code",
   "execution_count": 14,
   "metadata": {},
   "outputs": [],
   "source": [
    "search_data = pd.read_excel(DATA_DIR+'/bts_search_datalab.xlsx')"
   ]
  },
  {
   "cell_type": "code",
   "execution_count": 15,
   "metadata": {},
   "outputs": [
    {
     "name": "stdout",
     "output_type": "stream",
     "text": [
      "366\n"
     ]
    }
   ],
   "source": [
    "# 일자별 뉴스 건 수\n",
    "news_amount_list =[]\n",
    "for i in range(search_data.shape[0]):\n",
    "    isin = False\n",
    "    for j in range(date_groupby.shape[0]):\n",
    "        if date_groupby['date'].loc[j] == search_data['date'].loc[i]:\n",
    "            news_amount_list.append(date_groupby['article_original'].loc[j])\n",
    "            isin = True\n",
    "            break\n",
    "        elif j == date_groupby.shape[0]-1 and isin == False:\n",
    "            news_amount_list.append(0)\n",
    "            \n",
    "print(len(news_amount_list))\n",
    "# news_amount_list"
   ]
  },
  {
   "cell_type": "code",
   "execution_count": 16,
   "metadata": {},
   "outputs": [
    {
     "data": {
      "text/html": [
       "<div>\n",
       "<style scoped>\n",
       "    .dataframe tbody tr th:only-of-type {\n",
       "        vertical-align: middle;\n",
       "    }\n",
       "\n",
       "    .dataframe tbody tr th {\n",
       "        vertical-align: top;\n",
       "    }\n",
       "\n",
       "    .dataframe thead th {\n",
       "        text-align: right;\n",
       "    }\n",
       "</style>\n",
       "<table border=\"1\" class=\"dataframe\">\n",
       "  <thead>\n",
       "    <tr style=\"text-align: right;\">\n",
       "      <th></th>\n",
       "      <th>date</th>\n",
       "      <th>amount</th>\n",
       "      <th>news_amount</th>\n",
       "    </tr>\n",
       "  </thead>\n",
       "  <tbody>\n",
       "    <tr>\n",
       "      <th>0</th>\n",
       "      <td>2020-01-01</td>\n",
       "      <td>43.85227</td>\n",
       "      <td>0</td>\n",
       "    </tr>\n",
       "    <tr>\n",
       "      <th>1</th>\n",
       "      <td>2020-01-02</td>\n",
       "      <td>22.75566</td>\n",
       "      <td>2</td>\n",
       "    </tr>\n",
       "    <tr>\n",
       "      <th>2</th>\n",
       "      <td>2020-01-03</td>\n",
       "      <td>17.47025</td>\n",
       "      <td>2</td>\n",
       "    </tr>\n",
       "    <tr>\n",
       "      <th>3</th>\n",
       "      <td>2020-01-04</td>\n",
       "      <td>21.59224</td>\n",
       "      <td>0</td>\n",
       "    </tr>\n",
       "    <tr>\n",
       "      <th>4</th>\n",
       "      <td>2020-01-05</td>\n",
       "      <td>32.13055</td>\n",
       "      <td>0</td>\n",
       "    </tr>\n",
       "    <tr>\n",
       "      <th>...</th>\n",
       "      <td>...</td>\n",
       "      <td>...</td>\n",
       "      <td>...</td>\n",
       "    </tr>\n",
       "    <tr>\n",
       "      <th>361</th>\n",
       "      <td>2020-12-27</td>\n",
       "      <td>15.85755</td>\n",
       "      <td>0</td>\n",
       "    </tr>\n",
       "    <tr>\n",
       "      <th>362</th>\n",
       "      <td>2020-12-28</td>\n",
       "      <td>14.53832</td>\n",
       "      <td>0</td>\n",
       "    </tr>\n",
       "    <tr>\n",
       "      <th>363</th>\n",
       "      <td>2020-12-29</td>\n",
       "      <td>14.21533</td>\n",
       "      <td>1</td>\n",
       "    </tr>\n",
       "    <tr>\n",
       "      <th>364</th>\n",
       "      <td>2020-12-30</td>\n",
       "      <td>22.29620</td>\n",
       "      <td>2</td>\n",
       "    </tr>\n",
       "    <tr>\n",
       "      <th>365</th>\n",
       "      <td>2020-12-31</td>\n",
       "      <td>22.45266</td>\n",
       "      <td>0</td>\n",
       "    </tr>\n",
       "  </tbody>\n",
       "</table>\n",
       "<p>366 rows × 3 columns</p>\n",
       "</div>"
      ],
      "text/plain": [
       "           date    amount  news_amount\n",
       "0    2020-01-01  43.85227            0\n",
       "1    2020-01-02  22.75566            2\n",
       "2    2020-01-03  17.47025            2\n",
       "3    2020-01-04  21.59224            0\n",
       "4    2020-01-05  32.13055            0\n",
       "..          ...       ...          ...\n",
       "361  2020-12-27  15.85755            0\n",
       "362  2020-12-28  14.53832            0\n",
       "363  2020-12-29  14.21533            1\n",
       "364  2020-12-30  22.29620            2\n",
       "365  2020-12-31  22.45266            0\n",
       "\n",
       "[366 rows x 3 columns]"
      ]
     },
     "execution_count": 16,
     "metadata": {},
     "output_type": "execute_result"
    }
   ],
   "source": [
    "search_data['news_amount'] = pd.Series(news_amount_list)\n",
    "search_data"
   ]
  },
  {
   "cell_type": "code",
   "execution_count": 20,
   "metadata": {},
   "outputs": [
    {
     "data": {
      "text/plain": [
       "<AxesSubplot:xlabel='date'>"
      ]
     },
     "execution_count": 20,
     "metadata": {},
     "output_type": "execute_result"
    },
    {
     "data": {
      "image/png": "[encoded data removed]",
      "text/plain": [
       "<Figure size 1080x720 with 2 Axes>"
      ]
     },
     "metadata": {},
     "output_type": "display_data"
    }
   ],
   "source": [
    "# plot data\n",
    "fig, ax = plt.subplots(figsize=(15,10))\n",
    "search_data.plot(ax=ax, x='date', secondary_y = ['news_amount'], color = ['#9999ff','#ff9999'])"
   ]
  },
  {
   "cell_type": "markdown",
   "metadata": {},
   "source": [
    "검색양과 기사의 분포가 유사하다는 것을 확인할 수 있습니다."
   ]
  }
 ],
 "metadata": {
  "kernelspec": {
   "display_name": "Python 3",
   "language": "python",
   "name": "python3"
  },
  "language_info": {
   "codemirror_mode": {
    "name": "ipython",
    "version": 3
   },
   "file_extension": ".py",
   "mimetype": "text/x-python",
   "name": "python",
   "nbconvert_exporter": "python",
   "pygments_lexer": "ipython3",
   "version": "3.8.5"
  }
 },
 "nbformat": 4,
 "nbformat_minor": 4
}
